{
 "cells": [
  {
   "cell_type": "code",
   "execution_count": 1,
   "id": "c9c942e1",
   "metadata": {},
   "outputs": [],
   "source": [
    "import azure.cognitiveservices.speech as speechsdk"
   ]
  },
  {
   "cell_type": "code",
   "execution_count": 2,
   "id": "39449708",
   "metadata": {},
   "outputs": [],
   "source": [
    "import time\n",
    "import datetime"
   ]
  },
  {
   "cell_type": "code",
   "execution_count": 3,
   "id": "dcd5d1e9",
   "metadata": {},
   "outputs": [],
   "source": [
    "speech_key, service_region = \"4b73fedba5bf4049a6582a399123d50d\", \"centralus\"\n",
    "speech_config = speechsdk.SpeechConfig(subscription=speech_key, region=service_region)\n"
   ]
  },
  {
   "cell_type": "code",
   "execution_count": 4,
   "id": "22232882",
   "metadata": {},
   "outputs": [],
   "source": [
    "audio_filename = \"5.wav\"\n",
    "audio_input = speechsdk.audio.AudioConfig(filename=audio_filename)"
   ]
  },
  {
   "cell_type": "code",
   "execution_count": 5,
   "id": "23606d41",
   "metadata": {},
   "outputs": [],
   "source": [
    "speech_config.speech_recognition_language=\"en-US\"\n",
    "speech_config.request_word_level_timestamps()\n",
    "speech_config.enable_dictation()\n",
    "speech_config.output_format = speechsdk.OutputFormat(1)"
   ]
  },
  {
   "cell_type": "code",
   "execution_count": 6,
   "id": "f38b64e3",
   "metadata": {},
   "outputs": [],
   "source": [
    "speech_recognizer = speechsdk.SpeechRecognizer(speech_config=speech_config, audio_config=audio_input)"
   ]
  },
  {
   "cell_type": "code",
   "execution_count": 7,
   "id": "4a219f6e",
   "metadata": {},
   "outputs": [],
   "source": [
    "all_results = []\n"
   ]
  },
  {
   "cell_type": "code",
   "execution_count": 8,
   "id": "83b5ec32",
   "metadata": {},
   "outputs": [],
   "source": [
    "def handle_final_result(evt):\n",
    "    all_results.append(evt.result.text) "
   ]
  },
  {
   "cell_type": "code",
   "execution_count": 9,
   "id": "a22f28d4",
   "metadata": {},
   "outputs": [],
   "source": [
    "done = False\n",
    "\n",
    "def stop_cb(evt):\n",
    "    print('CLOSING on {}'.format(evt))\n",
    "    speech_recognizer.stop_continuous_recognition()\n",
    "    global done\n",
    "    done= True"
   ]
  },
  {
   "cell_type": "code",
   "execution_count": 10,
   "id": "11fe6344",
   "metadata": {},
   "outputs": [],
   "source": [
    "speech_recognizer.recognized.connect(handle_final_result) "
   ]
  },
  {
   "cell_type": "code",
   "execution_count": 11,
   "id": "994108ec",
   "metadata": {},
   "outputs": [
    {
     "name": "stdout",
     "output_type": "stream",
     "text": [
      "SESSION STARTED: SessionEventArgs(session_id=bc5c95ffbe42480390874f2eb143d2b2)\n",
      "RECOGNIZING: SpeechRecognitionEventArgs(session_id=bc5c95ffbe42480390874f2eb143d2b2, result=SpeechRecognitionResult(result_id=5454c5a3c18e4deba8dcb6ab568676e6, text=\"and how\", reason=ResultReason.RecognizingSpeech))\n",
      "RECOGNIZING: SpeechRecognitionEventArgs(session_id=bc5c95ffbe42480390874f2eb143d2b2, result=SpeechRecognitionResult(result_id=af9b746a89244886972aad914adfef83, text=\"and how is\", reason=ResultReason.RecognizingSpeech))\n",
      "RECOGNIZING: SpeechRecognitionEventArgs(session_id=bc5c95ffbe42480390874f2eb143d2b2, result=SpeechRecognitionResult(result_id=f88254027d70493bb4b479321b640f2f, text=\"and how's\", reason=ResultReason.RecognizingSpeech))\n",
      "RECOGNIZING: SpeechRecognitionEventArgs(session_id=bc5c95ffbe42480390874f2eb143d2b2, result=SpeechRecognitionResult(result_id=707670b7248242ba84a6c403f3220f7f, text=\"and how is wearing a\", reason=ResultReason.RecognizingSpeech))\n",
      "RECOGNIZING: SpeechRecognitionEventArgs(session_id=bc5c95ffbe42480390874f2eb143d2b2, result=SpeechRecognitionResult(result_id=4c6c0a915103440c8d5bd03efb92d88d, text=\"and how is wearing a a\", reason=ResultReason.RecognizingSpeech))\n",
      "RECOGNIZING: SpeechRecognitionEventArgs(session_id=bc5c95ffbe42480390874f2eb143d2b2, result=SpeechRecognitionResult(result_id=3e4162d39d144d7788bcc203851a4eea, text=\"and how is wearing a a mazon\", reason=ResultReason.RecognizingSpeech))\n",
      "RECOGNIZING: SpeechRecognitionEventArgs(session_id=bc5c95ffbe42480390874f2eb143d2b2, result=SpeechRecognitionResult(result_id=64ab8ad649ba48d1a70f1066e89e6e5c, text=\"and how is wearing a UM as any is there\", reason=ResultReason.RecognizingSpeech))\n",
      "RECOGNIZING: SpeechRecognitionEventArgs(session_id=bc5c95ffbe42480390874f2eb143d2b2, result=SpeechRecognitionResult(result_id=a1a6394356b347debde54468f71e7caf, text=\"and how is wearing a UM as any is there anybody who\", reason=ResultReason.RecognizingSpeech))\n",
      "RECOGNIZING: SpeechRecognitionEventArgs(session_id=bc5c95ffbe42480390874f2eb143d2b2, result=SpeechRecognitionResult(result_id=e556c1b9fb014df49fdb44ad60e63c36, text=\"and how is wearing a UM as any is there anybody who's going to\", reason=ResultReason.RecognizingSpeech))\n",
      "RECOGNIZING: SpeechRecognitionEventArgs(session_id=bc5c95ffbe42480390874f2eb143d2b2, result=SpeechRecognitionResult(result_id=080d08fb74494d5bbe6d8588d5918574, text=\"and how is wearing a UM as any is there anybody who's going to come in\", reason=ResultReason.RecognizingSpeech))\n",
      "RECOGNIZING: SpeechRecognitionEventArgs(session_id=bc5c95ffbe42480390874f2eb143d2b2, result=SpeechRecognitionResult(result_id=2e3e4d389f5141a3b7baedb5559f07c7, text=\"and how is wearing a UM as any is there anybody who's going to come and pick\", reason=ResultReason.RecognizingSpeech))\n",
      "RECOGNIZING: SpeechRecognitionEventArgs(session_id=bc5c95ffbe42480390874f2eb143d2b2, result=SpeechRecognitionResult(result_id=cb4ca64fa247453593e68eacb712422d, text=\"and how is wearing a UM as any is there anybody who's going to come and pick up\", reason=ResultReason.RecognizingSpeech))\n",
      "RECOGNIZING: SpeechRecognitionEventArgs(session_id=bc5c95ffbe42480390874f2eb143d2b2, result=SpeechRecognitionResult(result_id=ec334c9109a94e02b064e3fe151f2eca, text=\"and how is wearing a UM as any is there anybody who's going to come and pick up so\", reason=ResultReason.RecognizingSpeech))\n",
      "RECOGNIZING: SpeechRecognitionEventArgs(session_id=bc5c95ffbe42480390874f2eb143d2b2, result=SpeechRecognitionResult(result_id=b51ec86599de42ef9a75ecbb4b22e013, text=\"and how is wearing a UM as any is there anybody who's going to come and pick up so yes\", reason=ResultReason.RecognizingSpeech))\n",
      "RECOGNIZING: SpeechRecognitionEventArgs(session_id=bc5c95ffbe42480390874f2eb143d2b2, result=SpeechRecognitionResult(result_id=37cb605176054a67866125db3768ee35, text=\"and how is wearing a UM as any is there anybody who's going to come and pick up so yes this\", reason=ResultReason.RecognizingSpeech))\n",
      "RECOGNIZING: SpeechRecognitionEventArgs(session_id=bc5c95ffbe42480390874f2eb143d2b2, result=SpeechRecognitionResult(result_id=db99e2261624430b8530518da383a93d, text=\"and how is wearing a UM as any is there anybody who's going to come and pick up so yes this will be\", reason=ResultReason.RecognizingSpeech))\n",
      "RECOGNIZING: SpeechRecognitionEventArgs(session_id=bc5c95ffbe42480390874f2eb143d2b2, result=SpeechRecognitionResult(result_id=e48e4a1d0a874280976f4f7ca293733f, text=\"and how is wearing a UM as any is there anybody who's going to come and pick up so yes this will be picked\", reason=ResultReason.RecognizingSpeech))\n",
      "RECOGNIZING: SpeechRecognitionEventArgs(session_id=bc5c95ffbe42480390874f2eb143d2b2, result=SpeechRecognitionResult(result_id=5adce241bfdb4f6abe39d03fa05a523b, text=\"and how is wearing a UM as any is there anybody who's going to come and pick up so yes this will be picked up\", reason=ResultReason.RecognizingSpeech))\n",
      "RECOGNIZING: SpeechRecognitionEventArgs(session_id=bc5c95ffbe42480390874f2eb143d2b2, result=SpeechRecognitionResult(result_id=bd3edcf03ee74d3091888dd1e78ef46d, text=\"and how is wearing a UM as any is there anybody who's going to come and pick up so yes this will be picked up a we are\", reason=ResultReason.RecognizingSpeech))\n",
      "RECOGNIZING: SpeechRecognitionEventArgs(session_id=bc5c95ffbe42480390874f2eb143d2b2, result=SpeechRecognitionResult(result_id=6cb4bb506bcc44fa8dce0043c21e952c, text=\"and how is wearing a UM as any is there anybody who's going to come and pick up so yes this will be picked up a we are career\", reason=ResultReason.RecognizingSpeech))\n",
      "RECOGNIZING: SpeechRecognitionEventArgs(session_id=bc5c95ffbe42480390874f2eb143d2b2, result=SpeechRecognitionResult(result_id=d2c8c510ca534f96aa0a3161e74b06c7, text=\"and how is wearing a UM as any is there anybody who's going to come and pick up so yes this will be picked up a we are career path\", reason=ResultReason.RecognizingSpeech))\n",
      "RECOGNIZING: SpeechRecognitionEventArgs(session_id=bc5c95ffbe42480390874f2eb143d2b2, result=SpeechRecognitionResult(result_id=b3a511527c414f97978b32c61d5045b4, text=\"and how is wearing a UM as any is there anybody who's going to come and pick up so yes this will be picked up a we are courier partner\", reason=ResultReason.RecognizingSpeech))\n",
      "RECOGNIZING: SpeechRecognitionEventArgs(session_id=bc5c95ffbe42480390874f2eb143d2b2, result=SpeechRecognitionResult(result_id=dcdcbb90c214495c827430a878458579, text=\"and how is wearing a UM as any is there anybody who's going to come and pick up so yes this will be picked up a we are courier partner and\", reason=ResultReason.RecognizingSpeech))\n",
      "RECOGNIZING: SpeechRecognitionEventArgs(session_id=bc5c95ffbe42480390874f2eb143d2b2, result=SpeechRecognitionResult(result_id=9678d32cd5894ecc9914c5c7f1d85a66, text=\"and how is wearing a UM as any is there anybody who's going to come and pick up so yes this will be picked up a we are courier partner and a\", reason=ResultReason.RecognizingSpeech))\n",
      "RECOGNIZING: SpeechRecognitionEventArgs(session_id=bc5c95ffbe42480390874f2eb143d2b2, result=SpeechRecognitionResult(result_id=5c7b40efdaab4e408d26a161dbe598cf, text=\"and how is wearing a UM as any is there anybody who's going to come and pick up so yes this will be picked up a we are courier partner and uh\", reason=ResultReason.RecognizingSpeech))\n",
      "RECOGNIZING: SpeechRecognitionEventArgs(session_id=bc5c95ffbe42480390874f2eb143d2b2, result=SpeechRecognitionResult(result_id=09d50f908bdf485ea08d8c8501360268, text=\"and how is wearing a UM as any is there anybody who's going to come and pick up so yes this will be picked up a we are courier partner and uh when he\", reason=ResultReason.RecognizingSpeech))\n",
      "RECOGNIZING: SpeechRecognitionEventArgs(session_id=bc5c95ffbe42480390874f2eb143d2b2, result=SpeechRecognitionResult(result_id=0ae50d7cfb3f403f8c9305b94a0ed528, text=\"and how is wearing a UM as any is there anybody who's going to come and pick up so yes this will be picked up a we are courier partner and uh when he comes there\", reason=ResultReason.RecognizingSpeech))\n",
      "RECOGNIZING: SpeechRecognitionEventArgs(session_id=bc5c95ffbe42480390874f2eb143d2b2, result=SpeechRecognitionResult(result_id=2af5eacffe6c4873846a27a5f212d209, text=\"and how is wearing a UM as any is there anybody who's going to come and pick up so yes this will be picked up a we are courier partner and uh when he comes there to pick\", reason=ResultReason.RecognizingSpeech))\n",
      "RECOGNIZING: SpeechRecognitionEventArgs(session_id=bc5c95ffbe42480390874f2eb143d2b2, result=SpeechRecognitionResult(result_id=378f6515fc6e4012af31b29efab5d3a1, text=\"and how is wearing a UM as any is there anybody who's going to come and pick up so yes this will be picked up a we are courier partner and uh when he comes there to pick it up\", reason=ResultReason.RecognizingSpeech))\n"
     ]
    },
    {
     "name": "stdout",
     "output_type": "stream",
     "text": [
      "RECOGNIZING: SpeechRecognitionEventArgs(session_id=bc5c95ffbe42480390874f2eb143d2b2, result=SpeechRecognitionResult(result_id=2dcf63b034b5440c989800dc6fd65392, text=\"and how is wearing a UM as any is there anybody who's going to come and pick up so yes this will be picked up a we are courier partner and uh when he comes there to pick it up there\", reason=ResultReason.RecognizingSpeech))\n",
      "RECOGNIZING: SpeechRecognitionEventArgs(session_id=bc5c95ffbe42480390874f2eb143d2b2, result=SpeechRecognitionResult(result_id=21749bb5f0d3474bacdbadd95d96ab3a, text=\"and how is wearing a UM as any is there anybody who's going to come and pick up so yes this will be picked up a we are courier partner and uh when he comes there to pick it up that is the\", reason=ResultReason.RecognizingSpeech))\n",
      "RECOGNIZING: SpeechRecognitionEventArgs(session_id=bc5c95ffbe42480390874f2eb143d2b2, result=SpeechRecognitionResult(result_id=dc9569a971bd43659104daecc31f95d6, text=\"and how is wearing a UM as any is there anybody who's going to come and pick up so yes this will be picked up a we are courier partner and uh when he comes there to pick it up that is the same\", reason=ResultReason.RecognizingSpeech))\n",
      "RECOGNIZING: SpeechRecognitionEventArgs(session_id=bc5c95ffbe42480390874f2eb143d2b2, result=SpeechRecognitionResult(result_id=84a9338fdc994bf1a743301b81a926de, text=\"and how is wearing a UM as any is there anybody who's going to come and pick up so yes this will be picked up a we are courier partner and uh when he comes there to pick it up that is the same time he\", reason=ResultReason.RecognizingSpeech))\n",
      "RECOGNIZING: SpeechRecognitionEventArgs(session_id=bc5c95ffbe42480390874f2eb143d2b2, result=SpeechRecognitionResult(result_id=e8dabe8ee334491890b04da6e7d0ceb8, text=\"and how is wearing a UM as any is there anybody who's going to come and pick up so yes this will be picked up a we are courier partner and uh when he comes there to pick it up that is the same time he's done\", reason=ResultReason.RecognizingSpeech))\n",
      "RECOGNIZING: SpeechRecognitionEventArgs(session_id=bc5c95ffbe42480390874f2eb143d2b2, result=SpeechRecognitionResult(result_id=22cc029617094356b394dbecff3e32ba, text=\"and how is wearing a UM as any is there anybody who's going to come and pick up so yes this will be picked up a we are courier partner and uh when he comes there to pick it up that is the same time he's delivered\", reason=ResultReason.RecognizingSpeech))\n",
      "RECOGNIZING: SpeechRecognitionEventArgs(session_id=bc5c95ffbe42480390874f2eb143d2b2, result=SpeechRecognitionResult(result_id=7908656862f3422db52ee9565586df25, text=\"and how is wearing a UM as any is there anybody who's going to come and pick up so yes this will be picked up a we are courier partner and uh when he comes there to pick it up that is the same time he'll deliver the\", reason=ResultReason.RecognizingSpeech))\n",
      "RECOGNIZING: SpeechRecognitionEventArgs(session_id=bc5c95ffbe42480390874f2eb143d2b2, result=SpeechRecognitionResult(result_id=ed49f06165c24d029a545b6c6cd410d2, text=\"and how is wearing a UM as any is there anybody who's going to come and pick up so yes this will be picked up a we are courier partner and uh when he comes there to pick it up that is the same time he's delivered a replacement\", reason=ResultReason.RecognizingSpeech))\n",
      "RECOGNIZING: SpeechRecognitionEventArgs(session_id=bc5c95ffbe42480390874f2eb143d2b2, result=SpeechRecognitionResult(result_id=ab8f71d490df44d39ec576a64667c08d, text=\"and how is wearing a UM as any is there anybody who's going to come and pick up so yes this will be picked up a we are courier partner and uh when he comes there to pick it up that is the same time he'll deliver the replacement right\", reason=ResultReason.RecognizingSpeech))\n",
      "RECOGNIZING: SpeechRecognitionEventArgs(session_id=bc5c95ffbe42480390874f2eb143d2b2, result=SpeechRecognitionResult(result_id=f334d14e99644328afc5fac0bbcdc219, text=\"and how is wearing a UM as any is there anybody who's going to come and pick up so yes this will be picked up a we are courier partner and uh when he comes there to pick it up that is the same time he's delivered a replacement ice cream\", reason=ResultReason.RecognizingSpeech))\n",
      "RECOGNIZING: SpeechRecognitionEventArgs(session_id=bc5c95ffbe42480390874f2eb143d2b2, result=SpeechRecognitionResult(result_id=7dd47cdeb9b94e078f00a41ea514fb6d, text=\"and how is wearing a UM as any is there anybody who's going to come and pick up so yes this will be picked up a we are courier partner and uh when he comes there to pick it up that is the same time he's delivered a replacement ice cream so i'm\", reason=ResultReason.RecognizingSpeech))\n",
      "RECOGNIZING: SpeechRecognitionEventArgs(session_id=bc5c95ffbe42480390874f2eb143d2b2, result=SpeechRecognitionResult(result_id=a7bd6afee28f4018933ed145b9a8ce43, text=\"and how is wearing a UM as any is there anybody who's going to come and pick up so yes this will be picked up a we are courier partner and uh when he comes there to pick it up that is the same time he's delivered a replacement ice cream so i'm putting in a\", reason=ResultReason.RecognizingSpeech))\n",
      "RECOGNIZING: SpeechRecognitionEventArgs(session_id=bc5c95ffbe42480390874f2eb143d2b2, result=SpeechRecognitionResult(result_id=e9fd68abaabf4483a2f93ccc0ac7abd0, text=\"and how is wearing a UM as any is there anybody who's going to come and pick up so yes this will be picked up a we are courier partner and uh when he comes there to pick it up that is the same time he's delivered a replacement ice cream so i'm putting in a request for\", reason=ResultReason.RecognizingSpeech))\n",
      "RECOGNIZING: SpeechRecognitionEventArgs(session_id=bc5c95ffbe42480390874f2eb143d2b2, result=SpeechRecognitionResult(result_id=6bf3e5920c1d42fbb0fb92c2ae9e1170, text=\"and how is wearing a UM as any is there anybody who's going to come and pick up so yes this will be picked up a we are courier partner and uh when he comes there to pick it up that is the same time he's delivered a replacement ice cream so i'm putting in a request for the\", reason=ResultReason.RecognizingSpeech))\n",
      "RECOGNIZING: SpeechRecognitionEventArgs(session_id=bc5c95ffbe42480390874f2eb143d2b2, result=SpeechRecognitionResult(result_id=2308e0e430054e9d97424509c892b23e, text=\"and how is wearing a UM as any is there anybody who's going to come and pick up so yes this will be picked up a we are courier partner and uh when he comes there to pick it up that is the same time he's delivered a replacement ice cream so i'm putting in a request for the excel\", reason=ResultReason.RecognizingSpeech))\n",
      "RECOGNIZING: SpeechRecognitionEventArgs(session_id=bc5c95ffbe42480390874f2eb143d2b2, result=SpeechRecognitionResult(result_id=9c147e2cddcb4debb379643d8ec67079, text=\"and how is wearing a UM as any is there anybody who's going to come and pick up so yes this will be picked up a we are courier partner and uh when he comes there to pick it up that is the same time he's delivered a replacement ice cream so i'm putting in a request for the excel size\", reason=ResultReason.RecognizingSpeech))\n",
      "RECOGNIZING: SpeechRecognitionEventArgs(session_id=bc5c95ffbe42480390874f2eb143d2b2, result=SpeechRecognitionResult(result_id=f3cb601ffdbd4352896d34a48f2404ac, text=\"and how is wearing a UM as any is there anybody who's going to come and pick up so yes this will be picked up a we are courier partner and uh when he comes there to pick it up that is the same time he's delivered a replacement ice cream so i'm putting in a request for the excel size for the\", reason=ResultReason.RecognizingSpeech))\n",
      "RECOGNIZING: SpeechRecognitionEventArgs(session_id=bc5c95ffbe42480390874f2eb143d2b2, result=SpeechRecognitionResult(result_id=0cf8527273cb4226bd8f23b28d668c5f, text=\"and how is wearing a UM as any is there anybody who's going to come and pick up so yes this will be picked up a we are courier partner and uh when he comes there to pick it up that is the same time he's delivered a replacement ice cream so i'm putting in a request for the excel size for the crop\", reason=ResultReason.RecognizingSpeech))\n",
      "RECOGNIZING: SpeechRecognitionEventArgs(session_id=bc5c95ffbe42480390874f2eb143d2b2, result=SpeechRecognitionResult(result_id=49145602f19c433096df57cdcc8ea5b9, text=\"and how is wearing a UM as any is there anybody who's going to come and pick up so yes this will be picked up a we are courier partner and uh when he comes there to pick it up that is the same time he's delivered a replacement ice cream so i'm putting in a request for the excel size for the crop top\", reason=ResultReason.RecognizingSpeech))\n"
     ]
    },
    {
     "name": "stdout",
     "output_type": "stream",
     "text": [
      "RECOGNIZING: SpeechRecognitionEventArgs(session_id=bc5c95ffbe42480390874f2eb143d2b2, result=SpeechRecognitionResult(result_id=aeb96a36cfef4207a413dc68c252629e, text=\"and how is wearing a UM as any is there anybody who's going to come and pick up so yes this will be picked up a we are courier partner and uh when he comes there to pick it up that is the same time he's delivered a replacement ice cream so i'm putting in a request for the excel size for the cropped or anything\", reason=ResultReason.RecognizingSpeech))\n",
      "RECOGNIZING: SpeechRecognitionEventArgs(session_id=bc5c95ffbe42480390874f2eb143d2b2, result=SpeechRecognitionResult(result_id=8c319b8ff93e4e94b457393cef56e152, text=\"and how is wearing a UM as any is there anybody who's going to come and pick up so yes this will be picked up a we are courier partner and uh when he comes there to pick it up that is the same time he's delivered a replacement ice cream so i'm putting in a request for the excel size for the crop top yeah anything else apart\", reason=ResultReason.RecognizingSpeech))\n",
      "RECOGNIZING: SpeechRecognitionEventArgs(session_id=bc5c95ffbe42480390874f2eb143d2b2, result=SpeechRecognitionResult(result_id=279b908275c643139ffd8ae6d65091d1, text=\"and how is wearing a UM as any is there anybody who's going to come and pick up so yes this will be picked up a we are courier partner and uh when he comes there to pick it up that is the same time he's delivered a replacement ice cream so i'm putting in a request for the excel size for the crop top yeah anything else apart from this\", reason=ResultReason.RecognizingSpeech))\n",
      "RECOGNIZING: SpeechRecognitionEventArgs(session_id=bc5c95ffbe42480390874f2eb143d2b2, result=SpeechRecognitionResult(result_id=45a30b19b3124f06af1bccdd4eba1d4e, text=\"and how is wearing a UM as any is there anybody who's going to come and pick up so yes this will be picked up a we are courier partner and uh when he comes there to pick it up that is the same time he's delivered a replacement ice cream so i'm putting in a request for the excel size for the crop top yeah anything else apart from this no\", reason=ResultReason.RecognizingSpeech))\n",
      "RECOGNIZING: SpeechRecognitionEventArgs(session_id=bc5c95ffbe42480390874f2eb143d2b2, result=SpeechRecognitionResult(result_id=c9406c7d8172463982ff2214d94110b0, text=\"and how is wearing a UM as any is there anybody who's going to come and pick up so yes this will be picked up a we are courier partner and uh when he comes there to pick it up that is the same time he's delivered a replacement ice cream so i'm putting in a request for the excel size for the crop top yeah anything else apart from this no that's\", reason=ResultReason.RecognizingSpeech))\n",
      "RECOGNIZING: SpeechRecognitionEventArgs(session_id=bc5c95ffbe42480390874f2eb143d2b2, result=SpeechRecognitionResult(result_id=76d2563ca611437a81ed3312c6581b97, text=\"and how is wearing a UM as any is there anybody who's going to come and pick up so yes this will be picked up a we are courier partner and uh when he comes there to pick it up that is the same time he's delivered a replacement ice cream so i'm putting in a request for the excel size for the crop top yeah anything else apart from this no that's about it thank you\", reason=ResultReason.RecognizingSpeech))\n",
      "RECOGNIZING: SpeechRecognitionEventArgs(session_id=bc5c95ffbe42480390874f2eb143d2b2, result=SpeechRecognitionResult(result_id=16b47707caa24006bcef0b5e93eb446f, text=\"and how is wearing a UM as any is there anybody who's going to come and pick up so yes this will be picked up a we are courier partner and uh when he comes there to pick it up that is the same time he's delivered a replacement ice cream so i'm putting in a request for the excel size for the crop top yeah anything else apart from this no that's about it thank you so\", reason=ResultReason.RecognizingSpeech))\n",
      "RECOGNIZING: SpeechRecognitionEventArgs(session_id=bc5c95ffbe42480390874f2eb143d2b2, result=SpeechRecognitionResult(result_id=3248e57ae7874f06b2ad7ca6d9e23df9, text=\"and how is wearing a UM as any is there anybody who's going to come and pick up so yes this will be picked up a we are courier partner and uh when he comes there to pick it up that is the same time he's delivered a replacement ice cream so i'm putting in a request for the excel size for the crop top yeah anything else apart from this no that's about it thank you so very much\", reason=ResultReason.RecognizingSpeech))\n",
      "RECOGNIZING: SpeechRecognitionEventArgs(session_id=bc5c95ffbe42480390874f2eb143d2b2, result=SpeechRecognitionResult(result_id=8a0404648af043b7ba0fd290c4e1e1dc, text=\"and how is wearing a UM as any is there anybody who's going to come and pick up so yes this will be picked up a we are courier partner and uh when he comes there to pick it up that is the same time he's delivered a replacement ice cream so i'm putting in a request for the excel size for the crop top yeah anything else apart from this no that's about it thank you so very much problem you make i don't\", reason=ResultReason.RecognizingSpeech))\n",
      "RECOGNIZING: SpeechRecognitionEventArgs(session_id=bc5c95ffbe42480390874f2eb143d2b2, result=SpeechRecognitionResult(result_id=7a5ecf1ea2804cbfb5d0d356603e8f60, text=\"and how is wearing a UM as any is there anybody who's going to come and pick up so yes this will be picked up a we are courier partner and uh when he comes there to pick it up that is the same time he's delivered a replacement ice cream so i'm putting in a request for the excel size for the crop top yeah anything else apart from this no that's about it thank you so very much problem you make i don't sorry go ahead\", reason=ResultReason.RecognizingSpeech))\n",
      "RECOGNIZING: SpeechRecognitionEventArgs(session_id=bc5c95ffbe42480390874f2eb143d2b2, result=SpeechRecognitionResult(result_id=d4d3e70b76ed401a81e3f23451c77a86, text=\"and how is wearing a UM as any is there anybody who's going to come and pick up so yes this will be picked up a we are courier partner and uh when he comes there to pick it up that is the same time he's delivered a replacement ice cream so i'm putting in a request for the excel size for the crop top yeah anything else apart from this no that's about it thank you so very much problem you make i don't sorry go ahead yeah\", reason=ResultReason.RecognizingSpeech))\n",
      "RECOGNIZING: SpeechRecognitionEventArgs(session_id=bc5c95ffbe42480390874f2eb143d2b2, result=SpeechRecognitionResult(result_id=87e1339cfbb341f99d2ede487b0cb7e0, text=\"and how is wearing a UM as any is there anybody who's going to come and pick up so yes this will be picked up a we are courier partner and uh when he comes there to pick it up that is the same time he's delivered a replacement ice cream so i'm putting in a request for the excel size for the crop top yeah anything else apart from this no that's about it thank you so very much problem you make i don't sorry go ahead yeah you may expect\", reason=ResultReason.RecognizingSpeech))\n",
      "RECOGNIZING: SpeechRecognitionEventArgs(session_id=bc5c95ffbe42480390874f2eb143d2b2, result=SpeechRecognitionResult(result_id=8d8ae4db2fd3494ab5688b50232c87fd, text=\"and how is wearing a UM as any is there anybody who's going to come and pick up so yes this will be picked up a we are courier partner and uh when he comes there to pick it up that is the same time he's delivered a replacement ice cream so i'm putting in a request for the excel size for the crop top yeah anything else apart from this no that's about it thank you so very much problem you make i don't sorry go ahead yeah you may expect to arrive\", reason=ResultReason.RecognizingSpeech))\n",
      "RECOGNIZING: SpeechRecognitionEventArgs(session_id=bc5c95ffbe42480390874f2eb143d2b2, result=SpeechRecognitionResult(result_id=55f655baff194d319c1335b9696b919d, text=\"and how is wearing a UM as any is there anybody who's going to come and pick up so yes this will be picked up a we are courier partner and uh when he comes there to pick it up that is the same time he's delivered a replacement ice cream so i'm putting in a request for the excel size for the crop top yeah anything else apart from this no that's about it thank you so very much problem you make i don't sorry go ahead yeah you may expect to arrive in\", reason=ResultReason.RecognizingSpeech))\n"
     ]
    },
    {
     "name": "stdout",
     "output_type": "stream",
     "text": [
      "RECOGNIZING: SpeechRecognitionEventArgs(session_id=bc5c95ffbe42480390874f2eb143d2b2, result=SpeechRecognitionResult(result_id=bc6bef9420d74ee8a44d5fb142c4dbdf, text=\"and how is wearing a UM as any is there anybody who's going to come and pick up so yes this will be picked up a we are courier partner and uh when he comes there to pick it up that is the same time he's delivered a replacement ice cream so i'm putting in a request for the excel size for the crop top yeah anything else apart from this no that's about it thank you so very much problem you make i don't sorry go ahead yeah you may expect to arrive in another two to\", reason=ResultReason.RecognizingSpeech))\n",
      "RECOGNIZING: SpeechRecognitionEventArgs(session_id=bc5c95ffbe42480390874f2eb143d2b2, result=SpeechRecognitionResult(result_id=89b7a078da0d4e4590fd297b518f24f3, text=\"and how is wearing a UM as any is there anybody who's going to come and pick up so yes this will be picked up a we are courier partner and uh when he comes there to pick it up that is the same time he's delivered a replacement ice cream so i'm putting in a request for the excel size for the crop top yeah anything else apart from this no that's about it thank you so very much problem you make i don't sorry go ahead yeah you may expect to arrive in another two to three\", reason=ResultReason.RecognizingSpeech))\n",
      "RECOGNIZING: SpeechRecognitionEventArgs(session_id=bc5c95ffbe42480390874f2eb143d2b2, result=SpeechRecognitionResult(result_id=3b6db16431bb4ebd9bb527af998fb240, text=\"and how is wearing a UM as any is there anybody who's going to come and pick up so yes this will be picked up a we are courier partner and uh when he comes there to pick it up that is the same time he's delivered a replacement ice cream so i'm putting in a request for the excel size for the crop top yeah anything else apart from this no that's about it thank you so very much problem you make i don't sorry go ahead yeah you may expect to arrive in another two to three working\", reason=ResultReason.RecognizingSpeech))\n",
      "RECOGNIZED: SpeechRecognitionEventArgs(session_id=bc5c95ffbe42480390874f2eb143d2b2, result=SpeechRecognitionResult(result_id=3d9ca1864ec8499ebbdcce747da0892a, text=\"And how is wearing a UM as any? Is there anybody who's going to come and pick up? So yes, this will be picked up a we are Courier partner and uh, when he comes there to pick it up. That is the same time he's delivered a replacement ice cream. So I'm putting in a request for the Excel sign for the crop top. Yeah, anything else apart from this? No, that's about it. Thank you so very much problem you make. I don't sorry go ahead. Yeah, you may expect to arrive in another two to three working.\", reason=ResultReason.RecognizedSpeech))\n",
      "RECOGNIZING: SpeechRecognitionEventArgs(session_id=bc5c95ffbe42480390874f2eb143d2b2, result=SpeechRecognitionResult(result_id=ad214e31aa9f420d9eadd9e9a4b348c5, text=\"wait\", reason=ResultReason.RecognizingSpeech))\n",
      "RECOGNIZING: SpeechRecognitionEventArgs(session_id=bc5c95ffbe42480390874f2eb143d2b2, result=SpeechRecognitionResult(result_id=bce8ddc5e54e4c46832f1278dbbe2a65, text=\"he's not\", reason=ResultReason.RecognizingSpeech))\n",
      "RECOGNIZING: SpeechRecognitionEventArgs(session_id=bc5c95ffbe42480390874f2eb143d2b2, result=SpeechRecognitionResult(result_id=7c5874c4d8b743d18c66900673a5c949, text=\"he's not initial\", reason=ResultReason.RecognizingSpeech))\n",
      "RECOGNIZING: SpeechRecognitionEventArgs(session_id=bc5c95ffbe42480390874f2eb143d2b2, result=SpeechRecognitionResult(result_id=d8586fa8d5914cefb88fe916e8e3150f, text=\"he's not initially and\", reason=ResultReason.RecognizingSpeech))\n",
      "RECOGNIZING: SpeechRecognitionEventArgs(session_id=bc5c95ffbe42480390874f2eb143d2b2, result=SpeechRecognitionResult(result_id=3c5d1d737c9c4b01b9f7d028295e4314, text=\"he's not initial and dumb\", reason=ResultReason.RecognizingSpeech))\n",
      "RECOGNIZING: SpeechRecognitionEventArgs(session_id=bc5c95ffbe42480390874f2eb143d2b2, result=SpeechRecognitionResult(result_id=f0f67cf3dd9f4f22a9f20949ac50fb61, text=\"he's not initial and dumb just wanted\", reason=ResultReason.RecognizingSpeech))\n",
      "RECOGNIZING: SpeechRecognitionEventArgs(session_id=bc5c95ffbe42480390874f2eb143d2b2, result=SpeechRecognitionResult(result_id=f58ba1e4149445079d9068113aebfc92, text=\"he's not initial and dumb just wanted to know\", reason=ResultReason.RecognizingSpeech))\n",
      "RECOGNIZING: SpeechRecognitionEventArgs(session_id=bc5c95ffbe42480390874f2eb143d2b2, result=SpeechRecognitionResult(result_id=a9c1a98babae428480a4e93920f5e040, text=\"he's not initial and dumb just wanted to know UM\", reason=ResultReason.RecognizingSpeech))\n",
      "RECOGNIZING: SpeechRecognitionEventArgs(session_id=bc5c95ffbe42480390874f2eb143d2b2, result=SpeechRecognitionResult(result_id=4936f1f9b96f4c60b2ff771de75cce89, text=\"he's not initial and dumb just wanted to know UM now everything\", reason=ResultReason.RecognizingSpeech))\n",
      "RECOGNIZING: SpeechRecognitionEventArgs(session_id=bc5c95ffbe42480390874f2eb143d2b2, result=SpeechRecognitionResult(result_id=0ff229adc6f74f9ca94d0e1d9f50eacc, text=\"he's not initial and dumb just wanted to know UM now everything that\", reason=ResultReason.RecognizingSpeech))\n",
      "RECOGNIZING: SpeechRecognitionEventArgs(session_id=bc5c95ffbe42480390874f2eb143d2b2, result=SpeechRecognitionResult(result_id=9268a1f8455e4d32aeb1fc188d19a311, text=\"he's not initial and dumb just wanted to know UM now everything the packaging\", reason=ResultReason.RecognizingSpeech))\n",
      "RECOGNIZING: SpeechRecognitionEventArgs(session_id=bc5c95ffbe42480390874f2eb143d2b2, result=SpeechRecognitionResult(result_id=f6ea1bc8260c4322bd20cd3d12f22f72, text=\"he's not initial and dumb just wanted to know UM now everything the packaging and\", reason=ResultReason.RecognizingSpeech))\n",
      "RECOGNIZING: SpeechRecognitionEventArgs(session_id=bc5c95ffbe42480390874f2eb143d2b2, result=SpeechRecognitionResult(result_id=034870403c7d422895a74c95ed4b8d26, text=\"he's not initial and dumb just wanted to know UM now everything the packaging and everything\", reason=ResultReason.RecognizingSpeech))\n",
      "RECOGNIZING: SpeechRecognitionEventArgs(session_id=bc5c95ffbe42480390874f2eb143d2b2, result=SpeechRecognitionResult(result_id=36c955e41c2c4e13949b45d6effe49cf, text=\"he's not initial and dumb just wanted to know UM now everything the packaging and everything i've\", reason=ResultReason.RecognizingSpeech))\n",
      "RECOGNIZING: SpeechRecognitionEventArgs(session_id=bc5c95ffbe42480390874f2eb143d2b2, result=SpeechRecognitionResult(result_id=471046beacf74cb3aaea79cca49c4508, text=\"he's not initial and dumb just wanted to know UM now everything the packaging and everything i've kept it in\", reason=ResultReason.RecognizingSpeech))\n",
      "RECOGNIZING: SpeechRecognitionEventArgs(session_id=bc5c95ffbe42480390874f2eb143d2b2, result=SpeechRecognitionResult(result_id=cd515cf361be490aa62418a97e2d3513, text=\"he's not initial and dumb just wanted to know UM now everything the packaging and everything i've kept it in the\", reason=ResultReason.RecognizingSpeech))\n",
      "RECOGNIZING: SpeechRecognitionEventArgs(session_id=bc5c95ffbe42480390874f2eb143d2b2, result=SpeechRecognitionResult(result_id=5df72c3298ac47459c1996571e82049e, text=\"he's not initial and dumb just wanted to know UM now everything the packaging and everything i've kept it in the original thing\", reason=ResultReason.RecognizingSpeech))\n",
      "RECOGNIZING: SpeechRecognitionEventArgs(session_id=bc5c95ffbe42480390874f2eb143d2b2, result=SpeechRecognitionResult(result_id=3dd40fd9348945eab3a847398eefaf5f, text=\"he's not initial and dumb just wanted to know UM now everything the packaging and everything i've kept it in the original thing so\", reason=ResultReason.RecognizingSpeech))\n",
      "RECOGNIZING: SpeechRecognitionEventArgs(session_id=bc5c95ffbe42480390874f2eb143d2b2, result=SpeechRecognitionResult(result_id=c78b407dbf064f9d9ab662c984baeec3, text=\"he's not initial and dumb just wanted to know UM now everything the packaging and everything i've kept it in the original thing so perfect\", reason=ResultReason.RecognizingSpeech))\n",
      "RECOGNIZING: SpeechRecognitionEventArgs(session_id=bc5c95ffbe42480390874f2eb143d2b2, result=SpeechRecognitionResult(result_id=ff2cf571b23c42e3958d336b6b1417d4, text=\"he's not initial and dumb just wanted to know UM now everything the packaging and everything i've kept it in the original thing so perfect dragon everything is in\", reason=ResultReason.RecognizingSpeech))\n"
     ]
    },
    {
     "name": "stdout",
     "output_type": "stream",
     "text": [
      "RECOGNIZING: SpeechRecognitionEventArgs(session_id=bc5c95ffbe42480390874f2eb143d2b2, result=SpeechRecognitionResult(result_id=1ab86ca34624486db46056e8846acf52, text=\"he's not initial and dumb just wanted to know UM now everything the packaging and everything i've kept it in the original thing so perfect dragon everything is in practice\", reason=ResultReason.RecognizingSpeech))\n",
      "RECOGNIZING: SpeechRecognitionEventArgs(session_id=bc5c95ffbe42480390874f2eb143d2b2, result=SpeechRecognitionResult(result_id=a5413f01c1ec45f1a7aa62333440f46c, text=\"he's not initial and dumb just wanted to know UM now everything the packaging and everything i've kept it in the original thing so perfect dragon everything is in practice perfect\", reason=ResultReason.RecognizingSpeech))\n",
      "RECOGNIZING: SpeechRecognitionEventArgs(session_id=bc5c95ffbe42480390874f2eb143d2b2, result=SpeechRecognitionResult(result_id=1dbb214ae00a44319a090b557f7ec05b, text=\"he's not initial and dumb just wanted to know UM now everything the packaging and everything i've kept it in the original thing so perfect dragon everything is in practice perfect thank you\", reason=ResultReason.RecognizingSpeech))\n",
      "RECOGNIZING: SpeechRecognitionEventArgs(session_id=bc5c95ffbe42480390874f2eb143d2b2, result=SpeechRecognitionResult(result_id=1d3c5a20c2534a67839b8c8ba3148ade, text=\"he's not initial and dumb just wanted to know UM now everything the packaging and everything i've kept it in the original thing so perfect dragon everything is in practice perfect thank you so very much\", reason=ResultReason.RecognizingSpeech))\n",
      "RECOGNIZING: SpeechRecognitionEventArgs(session_id=bc5c95ffbe42480390874f2eb143d2b2, result=SpeechRecognitionResult(result_id=c130e8061e1f4ef69def667ca87e7df6, text=\"he's not initial and dumb just wanted to know UM now everything the packaging and everything i've kept it in the original thing so perfect dragon everything is in practice perfect thank you so very much thank you\", reason=ResultReason.RecognizingSpeech))\n",
      "RECOGNIZING: SpeechRecognitionEventArgs(session_id=bc5c95ffbe42480390874f2eb143d2b2, result=SpeechRecognitionResult(result_id=953e6a443f334fd1acd6972c26926b8e, text=\"he's not initial and dumb just wanted to know UM now everything the packaging and everything i've kept it in the original thing so perfect dragon everything is in practice perfect thank you so very much thank you bye\", reason=ResultReason.RecognizingSpeech))\n",
      "RECOGNIZED: SpeechRecognitionEventArgs(session_id=bc5c95ffbe42480390874f2eb143d2b2, result=SpeechRecognitionResult(result_id=006a154967fb4390b2af873759b0fa0c, text=\"Wait, not initial and dumb. Just wanted to know UM, now everything the packaging and everything. I've kept it in the original thing so perfect dragon everything is in practice perfect. Thank you so very much. Thank you bye.\", reason=ResultReason.RecognizedSpeech))\n",
      "RECOGNIZED: SpeechRecognitionEventArgs(session_id=bc5c95ffbe42480390874f2eb143d2b2, result=SpeechRecognitionResult(result_id=efe412325cdd4fbda6ba058930a1ec32, text=\"\", reason=ResultReason.RecognizedSpeech))\n",
      "CANCELED SpeechRecognitionCanceledEventArgs(session_id=bc5c95ffbe42480390874f2eb143d2b2, result=SpeechRecognitionResult(result_id=dd381b31cb4046c2813e571b4109fc83, text=\"\", reason=ResultReason.Canceled))\n",
      "CLOSING on SpeechRecognitionCanceledEventArgs(session_id=bc5c95ffbe42480390874f2eb143d2b2, result=SpeechRecognitionResult(result_id=dd381b31cb4046c2813e571b4109fc83, text=\"\", reason=ResultReason.Canceled))\n",
      "SESSION STOPPED SessionEventArgs(session_id=bc5c95ffbe42480390874f2eb143d2b2)\n",
      "CLOSING on SessionEventArgs(session_id=bc5c95ffbe42480390874f2eb143d2b2)\n"
     ]
    },
    {
     "ename": "KeyboardInterrupt",
     "evalue": "",
     "output_type": "error",
     "traceback": [
      "\u001b[1;31m---------------------------------------------------------------------------\u001b[0m",
      "\u001b[1;31mKeyboardInterrupt\u001b[0m                         Traceback (most recent call last)",
      "\u001b[1;32m~\\AppData\\Local\\Temp/ipykernel_5192/3894195497.py\u001b[0m in \u001b[0;36m<module>\u001b[1;34m\u001b[0m\n\u001b[0;32m     11\u001b[0m \u001b[1;33m\u001b[0m\u001b[0m\n\u001b[0;32m     12\u001b[0m \u001b[1;32mwhile\u001b[0m \u001b[1;32mnot\u001b[0m \u001b[0mdone\u001b[0m\u001b[1;33m:\u001b[0m\u001b[1;33m\u001b[0m\u001b[1;33m\u001b[0m\u001b[0m\n\u001b[1;32m---> 13\u001b[1;33m     \u001b[0mtime\u001b[0m\u001b[1;33m.\u001b[0m\u001b[0msleep\u001b[0m\u001b[1;33m(\u001b[0m\u001b[1;36m.5\u001b[0m\u001b[1;33m)\u001b[0m\u001b[1;33m\u001b[0m\u001b[1;33m\u001b[0m\u001b[0m\n\u001b[0m\u001b[0;32m     14\u001b[0m \u001b[1;33m\u001b[0m\u001b[0m\n\u001b[0;32m     15\u001b[0m \u001b[0mprint\u001b[0m\u001b[1;33m(\u001b[0m\u001b[1;34m\"Printing all results:\"\u001b[0m\u001b[1;33m)\u001b[0m\u001b[1;33m\u001b[0m\u001b[1;33m\u001b[0m\u001b[0m\n",
      "\u001b[1;31mKeyboardInterrupt\u001b[0m: "
     ]
    }
   ],
   "source": [
    "speech_recognizer.recognizing.connect(lambda evt: print('RECOGNIZING: {}'.format(evt)))\n",
    "speech_recognizer.recognized.connect(lambda evt: print('RECOGNIZED: {}'.format(evt)))\n",
    "speech_recognizer.session_started.connect(lambda evt: print('SESSION STARTED: {}'.format(evt)))\n",
    "speech_recognizer.session_stopped.connect(lambda evt: print('SESSION STOPPED {}'.format(evt)))\n",
    "speech_recognizer.canceled.connect(lambda evt: print('CANCELED {}'.format(evt)))\n",
    "# stop continuous recognition on either session stopped or canceled events\n",
    "speech_recognizer.session_stopped.connect(stop_cb)\n",
    "speech_recognizer.canceled.connect(stop_cb)\n",
    "\n",
    "speech_recognizer.start_continuous_recognition()\n",
    "\n",
    "while not done:\n",
    "    time.sleep(.5)\n",
    "    \n",
    "print(\"Printing all results:\")\n",
    "print(all_results)"
   ]
  },
  {
   "cell_type": "code",
   "execution_count": null,
   "id": "a130ab3c",
   "metadata": {},
   "outputs": [],
   "source": []
  }
 ],
 "metadata": {
  "kernelspec": {
   "display_name": "Python 3 (ipykernel)",
   "language": "python",
   "name": "python3"
  },
  "language_info": {
   "codemirror_mode": {
    "name": "ipython",
    "version": 3
   },
   "file_extension": ".py",
   "mimetype": "text/x-python",
   "name": "python",
   "nbconvert_exporter": "python",
   "pygments_lexer": "ipython3",
   "version": "3.8.12"
  }
 },
 "nbformat": 4,
 "nbformat_minor": 5
}
