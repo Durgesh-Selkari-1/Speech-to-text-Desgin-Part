{
 "cells": [
  {
   "cell_type": "code",
   "execution_count": 425,
   "id": "e5d25e00",
   "metadata": {},
   "outputs": [
    {
     "data": {
      "text/plain": [
       "True"
      ]
     },
     "execution_count": 425,
     "metadata": {},
     "output_type": "execute_result"
    }
   ],
   "source": [
    "import nltk\n",
    "nltk.download(\"punkt\", quiet=True)\n",
    "nltk.download(\"stopwords\", quiet=True)"
   ]
  },
  {
   "cell_type": "code",
   "execution_count": 426,
   "id": "e49131cc",
   "metadata": {},
   "outputs": [],
   "source": [
    "source_file = \"original_text.txt\"\n",
    "\n",
    "with open(source_file, \"r\", encoding='utf-8') as file:\n",
    "    text = file.readlines()"
   ]
  },
  {
   "cell_type": "code",
   "execution_count": 427,
   "id": "24c57472",
   "metadata": {},
   "outputs": [
    {
     "data": {
      "text/plain": [
       "[\"Rahul Sharad Dravid (/ˌrɑːhʊl drəvɪd/ (audio speaker iconlisten); born 11 January 1973) is a former Indian cricketer and captain of the Indian national team, currently serving as its head coach. Prior to his appointment to the senior men's national team, Dravid was the Head of Cricket at the National Cricket Academy (NCA), and the head coach of the India Under-19 and India A teams. Under his tutelage, the under-19 team finished runners up at the 2016 U-19 Cricket World Cup and won the 2018 U-19 Cricket World Cup. Known for his sound batting technique,[2] Dravid scored 24,177 runs in international cricket and is widely regarded as one of the greatest batsmen in the history of cricket.[3][4][5] He is colloquially known as Mr. Dependable and often referred to as The Wall.[6] Born in a Marathi family and raised in Bangalore, he started playing cricket at the age of 12 and later represented Karnataka at the under-15, under-17 and under-19 levels. Hailed as The Wall, Dravid was named one of the best five cricketers of the year by Wisden Cricketers' Almanack in 2000 and received the Player of the Year and the Test Player of the Year awards at the inaugural ICC awards ceremony in 2004.[7][8] In December 2011, he became the first non-Australian cricketer to deliver the Bradman Oration in Canberra.[9] As of December 2016, Dravid is the fourth-highest run scorer in Test cricket, after Sachin Tendulkar, Ricky Ponting and Jacques Kallis.[10][11] In 2004, after completing his century against Bangladesh in Chittagong, he became the first player to score a century in all the ten Test-playing countries.[12] As of October 2012, he holds the record for the most catches taken by a player (non-wicket-keeper) in Test cricket, with 210.[13] Dravid holds a unique record of never getting out for a Golden duck in the 286 Test innings which he has played. He has faced 31258 balls, which is the highest number of balls faced by any player in test cricket. He has also spent 44152 minutes at the crease, which is the highest time spent on crease by any player in test cricket.[14] Dravid and Sachin Tendulkar are currently the highest scoring partnership in Test cricket history having scored 6920 runs combined when batting together for India.\\n\",\n",
       " 'In August 2011, after receiving a surprise recall in the ODI series against England, Dravid declared his retirement from ODIs as well as Twenty20 International (T20I), and in March 2012, he announced his retirement from international and first-class cricket. He appeared in the 2012 Indian Premier League as captain of the Rajasthan Royals.[16]\\n',\n",
       " '\\n',\n",
       " \"Rahul Dravid, along with Glenn McGrath were honoured during the seventh annual Bradman Awards function in Sydney on 1 November 2012.[17] Dravid has also been honoured with the Padma Shri and the Padma Bhushan award, India's fourth and third highest civilian awards respectively.[18][19]\\n\",\n",
       " '\\n',\n",
       " \"In 2014, Rahul Dravid joined the GoSports Foundation, Bangalore as a member of their board of advisors. In collaboration with GoSports Foundation he is mentoring India's future Olympians and Paralympians as part of the Rahul Dravid Athlete Mentorship Programme.[20] Indian badminton player Prannoy Kumar, Para-swimmer Sharath Gayakwad and young Golfer S. Chikkarangappa was part of the initial group of athletes to be mentored by Rahul Dravid. In July 2018, Dravid became the fifth Indian cricketer to be inducted into ICC Hall of Fame.[21]\"]"
      ]
     },
     "execution_count": 427,
     "metadata": {},
     "output_type": "execute_result"
    }
   ],
   "source": [
    "text"
   ]
  },
  {
   "cell_type": "code",
   "execution_count": 428,
   "id": "c584762d",
   "metadata": {},
   "outputs": [],
   "source": [
    "text = ' '.join(text)"
   ]
  },
  {
   "cell_type": "code",
   "execution_count": 429,
   "id": "07d94cf8",
   "metadata": {},
   "outputs": [
    {
     "data": {
      "text/plain": [
       "\"Rahul Sharad Dravid (/ˌrɑːhʊl drəvɪd/ (audio speaker iconlisten); born 11 January 1973) is a former Indian cricketer and captain of the Indian national team, currently serving as its head coach. Prior to his appointment to the senior men's national team, Dravid was the Head of Cricket at the National Cricket Academy (NCA), and the head coach of the India Under-19 and India A teams. Under his tutelage, the under-19 team finished runners up at the 2016 U-19 Cricket World Cup and won the 2018 U-19 Cricket World Cup. Known for his sound batting technique,[2] Dravid scored 24,177 runs in international cricket and is widely regarded as one of the greatest batsmen in the history of cricket.[3][4][5] He is colloquially known as Mr. Dependable and often referred to as The Wall.[6] Born in a Marathi family and raised in Bangalore, he started playing cricket at the age of 12 and later represented Karnataka at the under-15, under-17 and under-19 levels. Hailed as The Wall, Dravid was named one of the best five cricketers of the year by Wisden Cricketers' Almanack in 2000 and received the Player of the Year and the Test Player of the Year awards at the inaugural ICC awards ceremony in 2004.[7][8] In December 2011, he became the first non-Australian cricketer to deliver the Bradman Oration in Canberra.[9] As of December 2016, Dravid is the fourth-highest run scorer in Test cricket, after Sachin Tendulkar, Ricky Ponting and Jacques Kallis.[10][11] In 2004, after completing his century against Bangladesh in Chittagong, he became the first player to score a century in all the ten Test-playing countries.[12] As of October 2012, he holds the record for the most catches taken by a player (non-wicket-keeper) in Test cricket, with 210.[13] Dravid holds a unique record of never getting out for a Golden duck in the 286 Test innings which he has played. He has faced 31258 balls, which is the highest number of balls faced by any player in test cricket. He has also spent 44152 minutes at the crease, which is the highest time spent on crease by any player in test cricket.[14] Dravid and Sachin Tendulkar are currently the highest scoring partnership in Test cricket history having scored 6920 runs combined when batting together for India.\\n In August 2011, after receiving a surprise recall in the ODI series against England, Dravid declared his retirement from ODIs as well as Twenty20 International (T20I), and in March 2012, he announced his retirement from international and first-class cricket. He appeared in the 2012 Indian Premier League as captain of the Rajasthan Royals.[16]\\n \\n Rahul Dravid, along with Glenn McGrath were honoured during the seventh annual Bradman Awards function in Sydney on 1 November 2012.[17] Dravid has also been honoured with the Padma Shri and the Padma Bhushan award, India's fourth and third highest civilian awards respectively.[18][19]\\n \\n In 2014, Rahul Dravid joined the GoSports Foundation, Bangalore as a member of their board of advisors. In collaboration with GoSports Foundation he is mentoring India's future Olympians and Paralympians as part of the Rahul Dravid Athlete Mentorship Programme.[20] Indian badminton player Prannoy Kumar, Para-swimmer Sharath Gayakwad and young Golfer S. Chikkarangappa was part of the initial group of athletes to be mentored by Rahul Dravid. In July 2018, Dravid became the fifth Indian cricketer to be inducted into ICC Hall of Fame.[21]\""
      ]
     },
     "execution_count": 429,
     "metadata": {},
     "output_type": "execute_result"
    }
   ],
   "source": [
    "text"
   ]
  },
  {
   "cell_type": "code",
   "execution_count": 430,
   "id": "f28cce91",
   "metadata": {},
   "outputs": [
    {
     "name": "stdout",
     "output_type": "stream",
     "text": [
      "25\n"
     ]
    }
   ],
   "source": [
    "from nltk.tokenize import sent_tokenize\n",
    "number_of_sentences = sent_tokenize(text)\n",
    "\n",
    "print(len(number_of_sentences))"
   ]
  },
  {
   "cell_type": "code",
   "execution_count": 431,
   "id": "8256c76b",
   "metadata": {},
   "outputs": [],
   "source": [
    "from nltk.tokenize import sent_tokenize, word_tokenize\n",
    "from nltk.corpus import stopwords"
   ]
  },
  {
   "cell_type": "code",
   "execution_count": 432,
   "id": "36dfaa8f",
   "metadata": {},
   "outputs": [],
   "source": [
    "def normalize_word(word):\n",
    "        return word.lower()"
   ]
  },
  {
   "cell_type": "code",
   "execution_count": 433,
   "id": "6443d3a0",
   "metadata": {},
   "outputs": [],
   "source": [
    "words = word_tokenize(text)"
   ]
  },
  {
   "cell_type": "code",
   "execution_count": 434,
   "id": "ad232a18",
   "metadata": {},
   "outputs": [],
   "source": [
    "words = tuple(words)"
   ]
  },
  {
   "cell_type": "code",
   "execution_count": 435,
   "id": "d872997a",
   "metadata": {},
   "outputs": [],
   "source": [
    "words = map(normalize_word, words)"
   ]
  },
  {
   "cell_type": "code",
   "execution_count": 436,
   "id": "0d976927",
   "metadata": {},
   "outputs": [],
   "source": [
    "_stop_words = list(stopwords.words('english'))"
   ]
  },
  {
   "cell_type": "code",
   "execution_count": 437,
   "id": "3e6c781e",
   "metadata": {},
   "outputs": [],
   "source": [
    "unique_words = frozenset(w for w in words if w not in _stop_words)"
   ]
  },
  {
   "cell_type": "code",
   "execution_count": 438,
   "id": "34ef4ce7",
   "metadata": {},
   "outputs": [],
   "source": [
    "dict1 = dict((w, i) for i, w in enumerate(unique_words))"
   ]
  },
  {
   "cell_type": "code",
   "execution_count": 439,
   "id": "23a19f31",
   "metadata": {},
   "outputs": [],
   "source": [
    "sentences = sent_tokenize(text)"
   ]
  },
  {
   "cell_type": "code",
   "execution_count": 440,
   "id": "4af9a8ea",
   "metadata": {},
   "outputs": [],
   "source": [
    "words_count = len(dict1)"
   ]
  },
  {
   "cell_type": "code",
   "execution_count": 441,
   "id": "5951c312",
   "metadata": {},
   "outputs": [],
   "source": [
    "sentences_count = len(sentences)"
   ]
  },
  {
   "cell_type": "code",
   "execution_count": 442,
   "id": "4d5e6284",
   "metadata": {},
   "outputs": [
    {
     "name": "stdout",
     "output_type": "stream",
     "text": [
      "249\n",
      "25\n"
     ]
    }
   ],
   "source": [
    "print(words_count)\n",
    "print(sentences_count)"
   ]
  },
  {
   "cell_type": "code",
   "execution_count": 443,
   "id": "e32615f6",
   "metadata": {},
   "outputs": [],
   "source": [
    "import numpy as np"
   ]
  },
  {
   "cell_type": "code",
   "execution_count": 444,
   "id": "2c4e4bcb",
   "metadata": {},
   "outputs": [],
   "source": [
    "matrix = np.zeros((words_count, sentences_count))"
   ]
  },
  {
   "cell_type": "code",
   "execution_count": 445,
   "id": "a03ba259",
   "metadata": {},
   "outputs": [
    {
     "data": {
      "text/plain": [
       "(249, 25)"
      ]
     },
     "execution_count": 445,
     "metadata": {},
     "output_type": "execute_result"
    }
   ],
   "source": [
    "matrix.shape"
   ]
  },
  {
   "cell_type": "code",
   "execution_count": 446,
   "id": "2b1ca494",
   "metadata": {},
   "outputs": [],
   "source": [
    "for col, sentence in enumerate(sentences):\n",
    "            words = word_tokenize(sentence)\n",
    "            for word in words:\n",
    "                # only valid words is counted (not stop-words, ...)\n",
    "                if word in dict1:\n",
    "                    row = dict1[word]\n",
    "                    matrix[row, col] += 1"
   ]
  },
  {
   "cell_type": "code",
   "execution_count": 447,
   "id": "0a743af9",
   "metadata": {},
   "outputs": [
    {
     "data": {
      "text/plain": [
       "array([0., 0., 0., 0., 0., 0., 1., 0., 0., 0., 0., 0., 0., 0., 0., 0., 0.,\n",
       "       0., 0., 0., 0., 0., 0., 0., 0.])"
      ]
     },
     "execution_count": 447,
     "metadata": {},
     "output_type": "execute_result"
    }
   ],
   "source": [
    "matrix[1]"
   ]
  },
  {
   "cell_type": "code",
   "execution_count": 448,
   "id": "c2ce4b43",
   "metadata": {},
   "outputs": [],
   "source": [
    "smooth=0.4"
   ]
  },
  {
   "cell_type": "code",
   "execution_count": 449,
   "id": "14146e7f",
   "metadata": {},
   "outputs": [],
   "source": [
    "assert 0.0 <= smooth < 1.0"
   ]
  },
  {
   "cell_type": "code",
   "execution_count": 450,
   "id": "bcf54ef9",
   "metadata": {},
   "outputs": [],
   "source": [
    "max_word_frequencies = np.max(matrix, axis=0)"
   ]
  },
  {
   "cell_type": "code",
   "execution_count": 451,
   "id": "77611fc8",
   "metadata": {},
   "outputs": [
    {
     "data": {
      "text/plain": [
       "25"
      ]
     },
     "execution_count": 451,
     "metadata": {},
     "output_type": "execute_result"
    }
   ],
   "source": [
    "len(max_word_frequencies)"
   ]
  },
  {
   "cell_type": "code",
   "execution_count": 452,
   "id": "c6a1f186",
   "metadata": {},
   "outputs": [
    {
     "data": {
      "text/plain": [
       "array([2., 2., 1., 2., 3., 1., 2., 2., 2., 3., 2., 2., 1., 2., 2., 1., 4.,\n",
       "       1., 1., 1., 2., 1., 1., 1., 1.])"
      ]
     },
     "execution_count": 452,
     "metadata": {},
     "output_type": "execute_result"
    }
   ],
   "source": [
    "max_word_frequencies"
   ]
  },
  {
   "cell_type": "code",
   "execution_count": 453,
   "id": "cc43fad7",
   "metadata": {},
   "outputs": [],
   "source": [
    "rows, cols = matrix.shape"
   ]
  },
  {
   "cell_type": "code",
   "execution_count": 454,
   "id": "579d6768",
   "metadata": {},
   "outputs": [],
   "source": [
    "for row in range(rows):\n",
    "    for col in range(cols):\n",
    "        max_word_frequency = max_word_frequencies[col]\n",
    "        if max_word_frequency != 0:\n",
    "                 frequency = matrix[row, col]/max_word_frequency\n",
    "                 matrix[row, col] = smooth + (1.0 - smooth)*frequency"
   ]
  },
  {
   "cell_type": "code",
   "execution_count": 455,
   "id": "bceb28b7",
   "metadata": {},
   "outputs": [
    {
     "data": {
      "text/plain": [
       "array([0.4, 0.4, 0.4, 0.4, 0.4, 0.4, 0.4, 0.4, 0.4, 0.4, 0.4, 0.4, 1. ,\n",
       "       0.4, 0.4, 0.4, 0.4, 0.4, 0.4, 0.4, 0.4, 0.4, 0.4, 0.4, 0.4])"
      ]
     },
     "execution_count": 455,
     "metadata": {},
     "output_type": "execute_result"
    }
   ],
   "source": [
    "matrix[0]"
   ]
  },
  {
   "cell_type": "code",
   "execution_count": 456,
   "id": "f166b2c2",
   "metadata": {},
   "outputs": [],
   "source": [
    "from numpy.linalg import svd as singular_value_decomposition"
   ]
  },
  {
   "cell_type": "code",
   "execution_count": 457,
   "id": "edfde22e",
   "metadata": {},
   "outputs": [],
   "source": [
    "u, sigma, v = singular_value_decomposition(matrix, full_matrices=False)"
   ]
  },
  {
   "cell_type": "code",
   "execution_count": 458,
   "id": "0de0eb42",
   "metadata": {},
   "outputs": [
    {
     "data": {
      "text/plain": [
       "(249, 25)"
      ]
     },
     "execution_count": 458,
     "metadata": {},
     "output_type": "execute_result"
    }
   ],
   "source": [
    "u.shape"
   ]
  },
  {
   "cell_type": "code",
   "execution_count": 459,
   "id": "a79e574f",
   "metadata": {},
   "outputs": [
    {
     "data": {
      "text/plain": [
       "(25,)"
      ]
     },
     "execution_count": 459,
     "metadata": {},
     "output_type": "execute_result"
    }
   ],
   "source": [
    "sigma.shape"
   ]
  },
  {
   "cell_type": "code",
   "execution_count": 460,
   "id": "4c218677",
   "metadata": {},
   "outputs": [
    {
     "data": {
      "text/plain": [
       "(25, 25)"
      ]
     },
     "execution_count": 460,
     "metadata": {},
     "output_type": "execute_result"
    }
   ],
   "source": [
    "v.shape"
   ]
  },
  {
   "cell_type": "code",
   "execution_count": 461,
   "id": "25e66e52",
   "metadata": {},
   "outputs": [
    {
     "data": {
      "text/plain": [
       "25"
      ]
     },
     "execution_count": 461,
     "metadata": {},
     "output_type": "execute_result"
    }
   ],
   "source": [
    "len(sigma)"
   ]
  },
  {
   "cell_type": "code",
   "execution_count": 462,
   "id": "a6c9ba42",
   "metadata": {},
   "outputs": [],
   "source": [
    "assert len(sigma) == v.shape[0]"
   ]
  },
  {
   "cell_type": "code",
   "execution_count": 463,
   "id": "ce5ded86",
   "metadata": {},
   "outputs": [],
   "source": [
    "MIN_DIMENSIONS = 3\n",
    "REDUCTION_RATIO = 1/1"
   ]
  },
  {
   "cell_type": "code",
   "execution_count": 464,
   "id": "9f88e855",
   "metadata": {},
   "outputs": [],
   "source": [
    "dimensions = max(MIN_DIMENSIONS,\n",
    "            int(len(sigma)*REDUCTION_RATIO))"
   ]
  },
  {
   "cell_type": "code",
   "execution_count": 465,
   "id": "8ba31916",
   "metadata": {},
   "outputs": [],
   "source": [
    "powered_sigma = tuple(s**2 if i < dimensions else 0.0\n",
    "            for i, s in enumerate(sigma))\n"
   ]
  },
  {
   "cell_type": "code",
   "execution_count": 466,
   "id": "c3f297f7",
   "metadata": {},
   "outputs": [],
   "source": [
    "import math"
   ]
  },
  {
   "cell_type": "code",
   "execution_count": 467,
   "id": "26bb1422",
   "metadata": {},
   "outputs": [],
   "source": [
    "ranks = []"
   ]
  },
  {
   "cell_type": "code",
   "execution_count": 468,
   "id": "89bd0e33",
   "metadata": {},
   "outputs": [],
   "source": [
    "for column_vector in v.T:\n",
    "    rank = sum(s*v**2 for s, v in zip(powered_sigma, column_vector))\n",
    "#     print(rank)\n",
    "    ranks.append(math.sqrt(rank))"
   ]
  },
  {
   "cell_type": "code",
   "execution_count": 469,
   "id": "550df662",
   "metadata": {},
   "outputs": [],
   "source": [
    "from collections import namedtuple"
   ]
  },
  {
   "cell_type": "code",
   "execution_count": 470,
   "id": "7c88af22",
   "metadata": {},
   "outputs": [],
   "source": [
    "SentenceInfo = namedtuple(\"SentenceInfo\", (\"sentence\", \"order\", \"rating\",))"
   ]
  },
  {
   "cell_type": "code",
   "execution_count": 471,
   "id": "7b7ace29",
   "metadata": {},
   "outputs": [],
   "source": [
    "ranks=iter(ranks)"
   ]
  },
  {
   "cell_type": "code",
   "execution_count": 472,
   "id": "339eaf78",
   "metadata": {},
   "outputs": [],
   "source": [
    "rate= lambda s: next(ranks)"
   ]
  },
  {
   "cell_type": "code",
   "execution_count": null,
   "id": "7bc0725e",
   "metadata": {},
   "outputs": [],
   "source": []
  },
  {
   "cell_type": "code",
   "execution_count": 473,
   "id": "caec7dee",
   "metadata": {},
   "outputs": [
    {
     "data": {
      "text/plain": [
       "function"
      ]
     },
     "execution_count": 473,
     "metadata": {},
     "output_type": "execute_result"
    }
   ],
   "source": [
    "type(rate)"
   ]
  },
  {
   "cell_type": "code",
   "execution_count": 474,
   "id": "45be5ec5",
   "metadata": {},
   "outputs": [],
   "source": [
    "if isinstance(rate, dict):\n",
    "            print(\"Subhash\")\n",
    "            assert not args and not kwargs\n",
    "            rate = lambda k: rating[k]"
   ]
  },
  {
   "cell_type": "code",
   "execution_count": 475,
   "id": "a0a6641f",
   "metadata": {},
   "outputs": [],
   "source": [
    "infos = (SentenceInfo(s, o, rate(s))\n",
    "            for o, s in enumerate(sentences))"
   ]
  },
  {
   "cell_type": "code",
   "execution_count": 476,
   "id": "4cac8c67",
   "metadata": {},
   "outputs": [],
   "source": [
    "from operator import attrgetter"
   ]
  },
  {
   "cell_type": "code",
   "execution_count": 477,
   "id": "591fbbe4",
   "metadata": {},
   "outputs": [],
   "source": [
    "infos = sorted(infos, key=attrgetter(\"rating\"), reverse=True)"
   ]
  },
  {
   "cell_type": "code",
   "execution_count": 478,
   "id": "95d3c8de",
   "metadata": {},
   "outputs": [
    {
     "data": {
      "text/plain": [
       "[SentenceInfo(sentence='[14] Dravid and Sachin Tendulkar are currently the highest scoring partnership in Test cricket history having scored 6920 runs combined when batting together for India.', order=15, rating=7.299315036357864),\n",
       " SentenceInfo(sentence=\"[17] Dravid has also been honoured with the Padma Shri and the Padma Bhushan award, India's fourth and third highest civilian awards respectively.\", order=19, rating=7.2415467960926705),\n",
       " SentenceInfo(sentence='[13] Dravid holds a unique record of never getting out for a Golden duck in the 286 Test innings which he has played.', order=12, rating=7.124605252222753),\n",
       " SentenceInfo(sentence='[20] Indian badminton player Prannoy Kumar, Para-swimmer Sharath Gayakwad and young Golfer S. Chikkarangappa was part of the initial group of athletes to be mentored by Rahul Dravid.', order=22, rating=7.124605252222753),\n",
       " SentenceInfo(sentence='[16]\\n \\n Rahul Dravid, along with Glenn McGrath were honoured during the seventh annual Bradman Awards function in Sydney on 1 November 2012.', order=18, rating=7.065408693062281),\n",
       " SentenceInfo(sentence='Rahul Sharad Dravid (/ˌrɑːhʊl drəvɪd/ (audio speaker iconlisten); born 11 January 1973) is a former Indian cricketer and captain of the Indian national team, currently serving as its head coach.', order=0, rating=6.93685807840985),\n",
       " SentenceInfo(sentence='Under his tutelage, the under-19 team finished runners up at the 2016 U-19 Cricket World Cup and won the 2018 U-19 Cricket World Cup.', order=2, rating=6.8847657912234075),\n",
       " SentenceInfo(sentence='[10][11] In 2004, after completing his century against Bangladesh in Chittagong, he became the first player to score a century in all the ten Test-playing countries.', order=10, rating=6.843244844370251),\n",
       " SentenceInfo(sentence='Known for his sound batting technique,[2] Dravid scored 24,177 runs in international cricket and is widely regarded as one of the greatest batsmen in the history of cricket.', order=3, rating=6.82788400604463),\n",
       " SentenceInfo(sentence='[6] Born in a Marathi family and raised in Bangalore, he started playing cricket at the age of 12 and later represented Karnataka at the under-15, under-17 and under-19 levels.', order=6, rating=6.803675477269625),\n",
       " SentenceInfo(sentence='In July 2018, Dravid became the fifth Indian cricketer to be inducted into ICC Hall of Fame.', order=23, rating=6.76165660175079),\n",
       " SentenceInfo(sentence='[12] As of October 2012, he holds the record for the most catches taken by a player (non-wicket-keeper) in Test cricket, with 210.', order=11, rating=6.754998149518623),\n",
       " SentenceInfo(sentence=\"Hailed as The Wall, Dravid was named one of the best five cricketers of the year by Wisden Cricketers' Almanack in 2000 and received the Player of the Year and the Test Player of the Year awards at the inaugural ICC awards ceremony in 2004.\", order=7, rating=6.730527468185538),\n",
       " SentenceInfo(sentence='[18][19]\\n \\n In 2014, Rahul Dravid joined the GoSports Foundation, Bangalore as a member of their board of advisors.', order=20, rating=6.708203932499373),\n",
       " SentenceInfo(sentence=\"In collaboration with GoSports Foundation he is mentoring India's future Olympians and Paralympians as part of the Rahul Dravid Athlete Mentorship Programme.\", order=21, rating=6.699253689777692),\n",
       " SentenceInfo(sentence='He has also spent 44152 minutes at the crease, which is the highest time spent on crease by any player in test cricket.', order=14, rating=6.694774081326422),\n",
       " SentenceInfo(sentence=\"Prior to his appointment to the senior men's national team, Dravid was the Head of Cricket at the National Cricket Academy (NCA), and the head coach of the India Under-19 and India A teams.\", order=1, rating=6.681317235396038),\n",
       " SentenceInfo(sentence='[7][8] In December 2011, he became the first non-Australian cricketer to deliver the Bradman Oration in Canberra.', order=8, rating=6.6700824582609215),\n",
       " SentenceInfo(sentence='He has faced 31258 balls, which is the highest number of balls faced by any player in test cricket.', order=13, rating=6.645299090334464),\n",
       " SentenceInfo(sentence='He appeared in the 2012 Indian Premier League as captain of the Rajasthan Royals.', order=17, rating=6.572670690061997),\n",
       " SentenceInfo(sentence='In August 2011, after receiving a surprise recall in the ODI series against England, Dravid declared his retirement from ODIs as well as Twenty20 International (T20I), and in March 2012, he announced his retirement from international and first-class cricket.', order=16, rating=6.568675665611754),\n",
       " SentenceInfo(sentence='[3][4][5] He is colloquially known as Mr.', order=4, rating=6.536053855347281),\n",
       " SentenceInfo(sentence='[9] As of December 2016, Dravid is the fourth-highest run scorer in Test cricket, after Sachin Tendulkar, Ricky Ponting and Jacques Kallis.', order=9, rating=6.517668294720134),\n",
       " SentenceInfo(sentence='Dependable and often referred to as The Wall.', order=5, rating=6.5084560381091965),\n",
       " SentenceInfo(sentence='[21]', order=24, rating=6.508456038109196)]"
      ]
     },
     "execution_count": 478,
     "metadata": {},
     "output_type": "execute_result"
    }
   ],
   "source": [
    "infos"
   ]
  },
  {
   "cell_type": "code",
   "execution_count": 479,
   "id": "33e6804a",
   "metadata": {},
   "outputs": [
    {
     "name": "stdout",
     "output_type": "stream",
     "text": [
      "Subhash\n"
     ]
    }
   ],
   "source": [
    "from utils import ItemsCount\n",
    "count=sentences_count*0.3\n",
    "if not isinstance(count, ItemsCount):\n",
    "            print(\"Subhash\")\n",
    "            count = ItemsCount(count)"
   ]
  },
  {
   "cell_type": "code",
   "execution_count": 480,
   "id": "aa4342f5",
   "metadata": {},
   "outputs": [],
   "source": [
    "infos = count(infos)"
   ]
  },
  {
   "cell_type": "code",
   "execution_count": 481,
   "id": "0a8f8dcc",
   "metadata": {},
   "outputs": [],
   "source": [
    "infos = sorted(infos, key=attrgetter(\"order\"))"
   ]
  },
  {
   "cell_type": "code",
   "execution_count": 485,
   "id": "17ea3855",
   "metadata": {},
   "outputs": [
    {
     "data": {
      "text/plain": [
       "[SentenceInfo(sentence='Rahul Sharad Dravid (/ˌrɑːhʊl drəvɪd/ (audio speaker iconlisten); born 11 January 1973) is a former Indian cricketer and captain of the Indian national team, currently serving as its head coach.', order=0, rating=6.93685807840985),\n",
       " SentenceInfo(sentence='Under his tutelage, the under-19 team finished runners up at the 2016 U-19 Cricket World Cup and won the 2018 U-19 Cricket World Cup.', order=2, rating=6.8847657912234075),\n",
       " SentenceInfo(sentence='[13] Dravid holds a unique record of never getting out for a Golden duck in the 286 Test innings which he has played.', order=12, rating=7.124605252222753),\n",
       " SentenceInfo(sentence='[14] Dravid and Sachin Tendulkar are currently the highest scoring partnership in Test cricket history having scored 6920 runs combined when batting together for India.', order=15, rating=7.299315036357864),\n",
       " SentenceInfo(sentence='[16]\\n \\n Rahul Dravid, along with Glenn McGrath were honoured during the seventh annual Bradman Awards function in Sydney on 1 November 2012.', order=18, rating=7.065408693062281),\n",
       " SentenceInfo(sentence=\"[17] Dravid has also been honoured with the Padma Shri and the Padma Bhushan award, India's fourth and third highest civilian awards respectively.\", order=19, rating=7.2415467960926705),\n",
       " SentenceInfo(sentence='[20] Indian badminton player Prannoy Kumar, Para-swimmer Sharath Gayakwad and young Golfer S. Chikkarangappa was part of the initial group of athletes to be mentored by Rahul Dravid.', order=22, rating=7.124605252222753)]"
      ]
     },
     "execution_count": 485,
     "metadata": {},
     "output_type": "execute_result"
    }
   ],
   "source": [
    "infos"
   ]
  },
  {
   "cell_type": "code",
   "execution_count": 487,
   "id": "22941da5",
   "metadata": {},
   "outputs": [
    {
     "data": {
      "text/plain": [
       "7"
      ]
     },
     "execution_count": 487,
     "metadata": {},
     "output_type": "execute_result"
    }
   ],
   "source": [
    "len(infos)"
   ]
  },
  {
   "cell_type": "code",
   "execution_count": 1,
   "id": "4b088199",
   "metadata": {},
   "outputs": [],
   "source": [
    "import ibm_watson"
   ]
  },
  {
   "cell_type": "code",
   "execution_count": 2,
   "id": "03617b78",
   "metadata": {},
   "outputs": [
    {
     "data": {
      "text/plain": [
       "'5.3.0'"
      ]
     },
     "execution_count": 2,
     "metadata": {},
     "output_type": "execute_result"
    }
   ],
   "source": [
    "ibm_watson.__version__"
   ]
  },
  {
   "cell_type": "code",
   "execution_count": null,
   "id": "54c74e2a",
   "metadata": {},
   "outputs": [],
   "source": []
  }
 ],
 "metadata": {
  "kernelspec": {
   "display_name": "Python 3 (ipykernel)",
   "language": "python",
   "name": "python3"
  },
  "language_info": {
   "codemirror_mode": {
    "name": "ipython",
    "version": 3
   },
   "file_extension": ".py",
   "mimetype": "text/x-python",
   "name": "python",
   "nbconvert_exporter": "python",
   "pygments_lexer": "ipython3",
   "version": "3.8.12"
  }
 },
 "nbformat": 4,
 "nbformat_minor": 5
}
