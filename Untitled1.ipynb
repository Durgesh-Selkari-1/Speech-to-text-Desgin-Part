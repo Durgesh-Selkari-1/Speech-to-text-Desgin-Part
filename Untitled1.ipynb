{
 "cells": [
  {
   "cell_type": "code",
   "execution_count": 46,
   "id": "c9c942e1",
   "metadata": {},
   "outputs": [],
   "source": [
    "import azure.cognitiveservices.speech as speechsdk"
   ]
  },
  {
   "cell_type": "code",
   "execution_count": 47,
   "id": "39449708",
   "metadata": {},
   "outputs": [],
   "source": [
    "import time\n",
    "import datetime"
   ]
  },
  {
   "cell_type": "code",
   "execution_count": 48,
   "id": "dcd5d1e9",
   "metadata": {},
   "outputs": [],
   "source": [
    "speech_key, service_region = \"4b73fedba5bf4049a6582a399123d50d\", \"centralus\"\n",
    "speech_config = speechsdk.SpeechConfig(subscription=speech_key, region=service_region)\n"
   ]
  },
  {
   "cell_type": "code",
   "execution_count": 49,
   "id": "22232882",
   "metadata": {},
   "outputs": [],
   "source": [
    "audio_filename = \"5.wav\"\n",
    "audio_input = speechsdk.audio.AudioConfig(filename=audio_filename)"
   ]
  },
  {
   "cell_type": "code",
   "execution_count": 50,
   "id": "23606d41",
   "metadata": {},
   "outputs": [],
   "source": [
    "speech_config.speech_recognition_language=\"en-US\"\n",
    "speech_config.request_word_level_timestamps()\n",
    "speech_config.enable_dictation()\n",
    "speech_config.output_format = speechsdk.OutputFormat(1)"
   ]
  },
  {
   "cell_type": "code",
   "execution_count": 51,
   "id": "f38b64e3",
   "metadata": {},
   "outputs": [],
   "source": [
    "speech_recognizer = speechsdk.SpeechRecognizer(speech_config=speech_config, audio_config=audio_input)"
   ]
  },
  {
   "cell_type": "code",
   "execution_count": 52,
   "id": "4a219f6e",
   "metadata": {},
   "outputs": [],
   "source": [
    "all_results = []\n"
   ]
  },
  {
   "cell_type": "code",
   "execution_count": 53,
   "id": "83b5ec32",
   "metadata": {},
   "outputs": [],
   "source": [
    "def handle_final_result(evt):\n",
    "    all_results.append(evt.result.text) "
   ]
  },
  {
   "cell_type": "code",
   "execution_count": 54,
   "id": "a22f28d4",
   "metadata": {},
   "outputs": [],
   "source": [
    "done = False\n",
    "\n",
    "def stop_cb(evt):\n",
    "    print('CLOSING on {}'.format(evt))\n",
    "    speech_recognizer.stop_continuous_recognition()\n",
    "    global done\n",
    "    done= True"
   ]
  },
  {
   "cell_type": "code",
   "execution_count": 55,
   "id": "11fe6344",
   "metadata": {},
   "outputs": [],
   "source": [
    "speech_recognizer.recognized.connect(handle_final_result) "
   ]
  },
  {
   "cell_type": "code",
   "execution_count": 56,
   "id": "994108ec",
   "metadata": {},
   "outputs": [
    {
     "name": "stdout",
     "output_type": "stream",
     "text": [
      "SESSION STARTED: SessionEventArgs(session_id=a731b2d4eb1146c9830444c62a7ec398)\n",
      "RECOGNIZING: SpeechRecognitionEventArgs(session_id=a731b2d4eb1146c9830444c62a7ec398, result=SpeechRecognitionResult(result_id=2ad7cda5d186443a995bd03c0e71c05d, text=\"and how\", reason=ResultReason.RecognizingSpeech))\n",
      "RECOGNIZING: SpeechRecognitionEventArgs(session_id=a731b2d4eb1146c9830444c62a7ec398, result=SpeechRecognitionResult(result_id=858f7a75c37645529660d7656ee57a61, text=\"and how is\", reason=ResultReason.RecognizingSpeech))\n",
      "RECOGNIZING: SpeechRecognitionEventArgs(session_id=a731b2d4eb1146c9830444c62a7ec398, result=SpeechRecognitionResult(result_id=d4549add489d4e3d911ab10ae818d903, text=\"and how's\", reason=ResultReason.RecognizingSpeech))\n",
      "RECOGNIZING: SpeechRecognitionEventArgs(session_id=a731b2d4eb1146c9830444c62a7ec398, result=SpeechRecognitionResult(result_id=b3f16b14d6eb4e8e840928a3de73e115, text=\"and how is wearing a\", reason=ResultReason.RecognizingSpeech))\n",
      "RECOGNIZING: SpeechRecognitionEventArgs(session_id=a731b2d4eb1146c9830444c62a7ec398, result=SpeechRecognitionResult(result_id=631563a3ac3e45ec8bb6920e2ae4cce2, text=\"and how is wearing a a\", reason=ResultReason.RecognizingSpeech))\n",
      "RECOGNIZING: SpeechRecognitionEventArgs(session_id=a731b2d4eb1146c9830444c62a7ec398, result=SpeechRecognitionResult(result_id=655b93e5300a461ea709471cbf8964c3, text=\"and how is wearing a a mazon\", reason=ResultReason.RecognizingSpeech))\n",
      "RECOGNIZING: SpeechRecognitionEventArgs(session_id=a731b2d4eb1146c9830444c62a7ec398, result=SpeechRecognitionResult(result_id=8fe449bd4cc44cb58512cd42546ee2ea, text=\"and how is wearing a UM as any is there\", reason=ResultReason.RecognizingSpeech))\n",
      "RECOGNIZING: SpeechRecognitionEventArgs(session_id=a731b2d4eb1146c9830444c62a7ec398, result=SpeechRecognitionResult(result_id=4b5a54c90dcd4480bbdc2bf89838e7ec, text=\"and how is wearing a UM as any is there anybody who's going to\", reason=ResultReason.RecognizingSpeech))\n",
      "RECOGNIZING: SpeechRecognitionEventArgs(session_id=a731b2d4eb1146c9830444c62a7ec398, result=SpeechRecognitionResult(result_id=b0ce75eaac0941b987c9330532e2cb05, text=\"and how is wearing a UM as any is there anybody who's going to come and pick\", reason=ResultReason.RecognizingSpeech))\n",
      "RECOGNIZING: SpeechRecognitionEventArgs(session_id=a731b2d4eb1146c9830444c62a7ec398, result=SpeechRecognitionResult(result_id=4ce752e3b95141cc8fad0e6a88b9bb82, text=\"and how is wearing a UM as any is there anybody who's going to come and pick up\", reason=ResultReason.RecognizingSpeech))\n",
      "RECOGNIZING: SpeechRecognitionEventArgs(session_id=a731b2d4eb1146c9830444c62a7ec398, result=SpeechRecognitionResult(result_id=de0b2539e8984203903b8a1c902d4250, text=\"and how is wearing a UM as any is there anybody who's going to come and pick up so\", reason=ResultReason.RecognizingSpeech))\n",
      "RECOGNIZING: SpeechRecognitionEventArgs(session_id=a731b2d4eb1146c9830444c62a7ec398, result=SpeechRecognitionResult(result_id=620eb316a6f24a9897bf20282567d629, text=\"and how is wearing a UM as any is there anybody who's going to come and pick up so yes\", reason=ResultReason.RecognizingSpeech))\n",
      "RECOGNIZING: SpeechRecognitionEventArgs(session_id=a731b2d4eb1146c9830444c62a7ec398, result=SpeechRecognitionResult(result_id=926f31bd7cc2405ea1fdd61e1e1a3ce8, text=\"and how is wearing a UM as any is there anybody who's going to come and pick up so yes this\", reason=ResultReason.RecognizingSpeech))\n",
      "RECOGNIZING: SpeechRecognitionEventArgs(session_id=a731b2d4eb1146c9830444c62a7ec398, result=SpeechRecognitionResult(result_id=2dbffb5002194715a575fe5270f2a4e5, text=\"and how is wearing a UM as any is there anybody who's going to come and pick up so yes this will be\", reason=ResultReason.RecognizingSpeech))\n",
      "RECOGNIZING: SpeechRecognitionEventArgs(session_id=a731b2d4eb1146c9830444c62a7ec398, result=SpeechRecognitionResult(result_id=7b9b796c9bfa48faba21f76119b152d0, text=\"and how is wearing a UM as any is there anybody who's going to come and pick up so yes this will be picked up\", reason=ResultReason.RecognizingSpeech))\n",
      "RECOGNIZING: SpeechRecognitionEventArgs(session_id=a731b2d4eb1146c9830444c62a7ec398, result=SpeechRecognitionResult(result_id=7dc6ff1be458462381ce827075dfc413, text=\"and how is wearing a UM as any is there anybody who's going to come and pick up so yes this will be picked up a\", reason=ResultReason.RecognizingSpeech))\n",
      "RECOGNIZING: SpeechRecognitionEventArgs(session_id=a731b2d4eb1146c9830444c62a7ec398, result=SpeechRecognitionResult(result_id=b5d8cf8c0d914ff2948316548cbfafeb, text=\"and how is wearing a UM as any is there anybody who's going to come and pick up so yes this will be picked up a we are\", reason=ResultReason.RecognizingSpeech))\n",
      "RECOGNIZING: SpeechRecognitionEventArgs(session_id=a731b2d4eb1146c9830444c62a7ec398, result=SpeechRecognitionResult(result_id=c47b79bc51474c78b1ccde0c28efb8a3, text=\"and how is wearing a UM as any is there anybody who's going to come and pick up so yes this will be picked up uh we are\", reason=ResultReason.RecognizingSpeech))\n",
      "RECOGNIZING: SpeechRecognitionEventArgs(session_id=a731b2d4eb1146c9830444c62a7ec398, result=SpeechRecognitionResult(result_id=fbf6f89e6f7c4488934b9d0e33c79e34, text=\"and how is wearing a UM as any is there anybody who's going to come and pick up so yes this will be picked up a we are career\", reason=ResultReason.RecognizingSpeech))\n",
      "RECOGNIZING: SpeechRecognitionEventArgs(session_id=a731b2d4eb1146c9830444c62a7ec398, result=SpeechRecognitionResult(result_id=8956173fd6874faeb47c156b63112fba, text=\"and how is wearing a UM as any is there anybody who's going to come and pick up so yes this will be picked up a we are courier partner\", reason=ResultReason.RecognizingSpeech))\n",
      "RECOGNIZING: SpeechRecognitionEventArgs(session_id=a731b2d4eb1146c9830444c62a7ec398, result=SpeechRecognitionResult(result_id=1b5bb2ae781e47dcb304c2363fc0c6f4, text=\"and how is wearing a UM as any is there anybody who's going to come and pick up so yes this will be picked up a we are courier partner and\", reason=ResultReason.RecognizingSpeech))\n",
      "RECOGNIZING: SpeechRecognitionEventArgs(session_id=a731b2d4eb1146c9830444c62a7ec398, result=SpeechRecognitionResult(result_id=3a69e614311f4bf38b8378ce7b958deb, text=\"and how is wearing a UM as any is there anybody who's going to come and pick up so yes this will be picked up a we are courier partner and uh\", reason=ResultReason.RecognizingSpeech))\n",
      "RECOGNIZING: SpeechRecognitionEventArgs(session_id=a731b2d4eb1146c9830444c62a7ec398, result=SpeechRecognitionResult(result_id=2c9584693fd84e89be4ca9380e648620, text=\"and how is wearing a UM as any is there anybody who's going to come and pick up so yes this will be picked up a we are courier partner and uh when he\", reason=ResultReason.RecognizingSpeech))\n",
      "RECOGNIZING: SpeechRecognitionEventArgs(session_id=a731b2d4eb1146c9830444c62a7ec398, result=SpeechRecognitionResult(result_id=108a4bb2c7f744fb815ecc1ca87efc26, text=\"and how is wearing a UM as any is there anybody who's going to come and pick up so yes this will be picked up a we are courier partner and uh when he comes there\", reason=ResultReason.RecognizingSpeech))\n",
      "RECOGNIZING: SpeechRecognitionEventArgs(session_id=a731b2d4eb1146c9830444c62a7ec398, result=SpeechRecognitionResult(result_id=3a579f4c9e8c4c7a8c32cc23b86f0102, text=\"and how is wearing a UM as any is there anybody who's going to come and pick up so yes this will be picked up a we are courier partner and uh when he comes there to pick\", reason=ResultReason.RecognizingSpeech))\n",
      "RECOGNIZING: SpeechRecognitionEventArgs(session_id=a731b2d4eb1146c9830444c62a7ec398, result=SpeechRecognitionResult(result_id=82c618e561d44b65a287bc1d9821ddd8, text=\"and how is wearing a UM as any is there anybody who's going to come and pick up so yes this will be picked up a we are courier partner and uh when he comes there to pick it up\", reason=ResultReason.RecognizingSpeech))\n",
      "RECOGNIZING: SpeechRecognitionEventArgs(session_id=a731b2d4eb1146c9830444c62a7ec398, result=SpeechRecognitionResult(result_id=746cda27ff0547f4a4a4ff8eb98fb25c, text=\"and how is wearing a UM as any is there anybody who's going to come and pick up so yes this will be picked up a we are courier partner and uh when he comes there to pick it up there\", reason=ResultReason.RecognizingSpeech))\n",
      "RECOGNIZING: SpeechRecognitionEventArgs(session_id=a731b2d4eb1146c9830444c62a7ec398, result=SpeechRecognitionResult(result_id=e8cb7eca166643a69b60e618118a856f, text=\"and how is wearing a UM as any is there anybody who's going to come and pick up so yes this will be picked up a we are courier partner and uh when he comes there to pick it up that is\", reason=ResultReason.RecognizingSpeech))\n",
      "RECOGNIZING: SpeechRecognitionEventArgs(session_id=a731b2d4eb1146c9830444c62a7ec398, result=SpeechRecognitionResult(result_id=add6dab8addf4a2da57d59fe71bc1a79, text=\"and how is wearing a UM as any is there anybody who's going to come and pick up so yes this will be picked up a we are courier partner and uh when he comes there to pick it up that is the\", reason=ResultReason.RecognizingSpeech))\n"
     ]
    },
    {
     "name": "stdout",
     "output_type": "stream",
     "text": [
      "RECOGNIZING: SpeechRecognitionEventArgs(session_id=a731b2d4eb1146c9830444c62a7ec398, result=SpeechRecognitionResult(result_id=2f4d9b8660244ce68c701b18b26eebe3, text=\"and how is wearing a UM as any is there anybody who's going to come and pick up so yes this will be picked up a we are courier partner and uh when he comes there to pick it up that is the same\", reason=ResultReason.RecognizingSpeech))\n",
      "RECOGNIZING: SpeechRecognitionEventArgs(session_id=a731b2d4eb1146c9830444c62a7ec398, result=SpeechRecognitionResult(result_id=9fc9bbf842234d388d7dcd55d90163f3, text=\"and how is wearing a UM as any is there anybody who's going to come and pick up so yes this will be picked up a we are courier partner and uh when he comes there to pick it up that is the same time he's\", reason=ResultReason.RecognizingSpeech))\n",
      "RECOGNIZING: SpeechRecognitionEventArgs(session_id=a731b2d4eb1146c9830444c62a7ec398, result=SpeechRecognitionResult(result_id=170d1848ddd94937adca0c9df9bbd8c7, text=\"and how is wearing a UM as any is there anybody who's going to come and pick up so yes this will be picked up a we are courier partner and uh when he comes there to pick it up that is the same time he's done\", reason=ResultReason.RecognizingSpeech))\n",
      "RECOGNIZING: SpeechRecognitionEventArgs(session_id=a731b2d4eb1146c9830444c62a7ec398, result=SpeechRecognitionResult(result_id=1db8eb0f47a546a68e4f90e9fe4257e4, text=\"and how is wearing a UM as any is there anybody who's going to come and pick up so yes this will be picked up a we are courier partner and uh when he comes there to pick it up that is the same time he'll deliver the\", reason=ResultReason.RecognizingSpeech))\n",
      "RECOGNIZING: SpeechRecognitionEventArgs(session_id=a731b2d4eb1146c9830444c62a7ec398, result=SpeechRecognitionResult(result_id=a786ffb9f41b4d6299405ee1888d487a, text=\"and how is wearing a UM as any is there anybody who's going to come and pick up so yes this will be picked up a we are courier partner and uh when he comes there to pick it up that is the same time he'll deliver the replacement right\", reason=ResultReason.RecognizingSpeech))\n",
      "RECOGNIZING: SpeechRecognitionEventArgs(session_id=a731b2d4eb1146c9830444c62a7ec398, result=SpeechRecognitionResult(result_id=688b92e424a64b88bac59206fccdb87f, text=\"and how is wearing a UM as any is there anybody who's going to come and pick up so yes this will be picked up a we are courier partner and uh when he comes there to pick it up that is the same time he's delivered a replacement ice cream\", reason=ResultReason.RecognizingSpeech))\n",
      "RECOGNIZING: SpeechRecognitionEventArgs(session_id=a731b2d4eb1146c9830444c62a7ec398, result=SpeechRecognitionResult(result_id=71637eecfeca46eeaee4808886eecc19, text=\"and how is wearing a UM as any is there anybody who's going to come and pick up so yes this will be picked up a we are courier partner and uh when he comes there to pick it up that is the same time he's delivered a replacement ice cream so\", reason=ResultReason.RecognizingSpeech))\n",
      "RECOGNIZING: SpeechRecognitionEventArgs(session_id=a731b2d4eb1146c9830444c62a7ec398, result=SpeechRecognitionResult(result_id=b012f9366ad243b9b273e2f427a9340e, text=\"and how is wearing a UM as any is there anybody who's going to come and pick up so yes this will be picked up a we are courier partner and uh when he comes there to pick it up that is the same time he's delivered a replacement ice cream so i'm\", reason=ResultReason.RecognizingSpeech))\n",
      "RECOGNIZING: SpeechRecognitionEventArgs(session_id=a731b2d4eb1146c9830444c62a7ec398, result=SpeechRecognitionResult(result_id=2027f819013f47b1a44c0fb1d325f1cb, text=\"and how is wearing a UM as any is there anybody who's going to come and pick up so yes this will be picked up a we are courier partner and uh when he comes there to pick it up that is the same time he's delivered a replacement ice cream so i'm putting\", reason=ResultReason.RecognizingSpeech))\n",
      "RECOGNIZING: SpeechRecognitionEventArgs(session_id=a731b2d4eb1146c9830444c62a7ec398, result=SpeechRecognitionResult(result_id=6f62c4c407a348458389d833c03f0ccc, text=\"and how is wearing a UM as any is there anybody who's going to come and pick up so yes this will be picked up a we are courier partner and uh when he comes there to pick it up that is the same time he's delivered a replacement ice cream so i'm putting in a\", reason=ResultReason.RecognizingSpeech))\n",
      "RECOGNIZING: SpeechRecognitionEventArgs(session_id=a731b2d4eb1146c9830444c62a7ec398, result=SpeechRecognitionResult(result_id=b529b225eb89434290de1532b844ab2a, text=\"and how is wearing a UM as any is there anybody who's going to come and pick up so yes this will be picked up a we are courier partner and uh when he comes there to pick it up that is the same time he's delivered a replacement ice cream so i'm putting in a request for\", reason=ResultReason.RecognizingSpeech))\n",
      "RECOGNIZING: SpeechRecognitionEventArgs(session_id=a731b2d4eb1146c9830444c62a7ec398, result=SpeechRecognitionResult(result_id=bd9e933e065d4c2cadf9458bb6d86f59, text=\"and how is wearing a UM as any is there anybody who's going to come and pick up so yes this will be picked up a we are courier partner and uh when he comes there to pick it up that is the same time he's delivered a replacement ice cream so i'm putting in a request for the\", reason=ResultReason.RecognizingSpeech))\n",
      "RECOGNIZING: SpeechRecognitionEventArgs(session_id=a731b2d4eb1146c9830444c62a7ec398, result=SpeechRecognitionResult(result_id=db762b4d6ec24a8c9e1c3b36e2ccd6c5, text=\"and how is wearing a UM as any is there anybody who's going to come and pick up so yes this will be picked up a we are courier partner and uh when he comes there to pick it up that is the same time he's delivered a replacement ice cream so i'm putting in a request for the excel\", reason=ResultReason.RecognizingSpeech))\n",
      "RECOGNIZING: SpeechRecognitionEventArgs(session_id=a731b2d4eb1146c9830444c62a7ec398, result=SpeechRecognitionResult(result_id=20dbbfec361340c189fa3e6efe73f9c6, text=\"and how is wearing a UM as any is there anybody who's going to come and pick up so yes this will be picked up a we are courier partner and uh when he comes there to pick it up that is the same time he's delivered a replacement ice cream so i'm putting in a request for the excel size\", reason=ResultReason.RecognizingSpeech))\n",
      "RECOGNIZING: SpeechRecognitionEventArgs(session_id=a731b2d4eb1146c9830444c62a7ec398, result=SpeechRecognitionResult(result_id=e4e1da8c08f54334824ec6352b6e93e4, text=\"and how is wearing a UM as any is there anybody who's going to come and pick up so yes this will be picked up a we are courier partner and uh when he comes there to pick it up that is the same time he's delivered a replacement ice cream so i'm putting in a request for the excel size for the\", reason=ResultReason.RecognizingSpeech))\n",
      "RECOGNIZING: SpeechRecognitionEventArgs(session_id=a731b2d4eb1146c9830444c62a7ec398, result=SpeechRecognitionResult(result_id=1e252414bdbf4715ad8624572c5ff3f3, text=\"and how is wearing a UM as any is there anybody who's going to come and pick up so yes this will be picked up a we are courier partner and uh when he comes there to pick it up that is the same time he's delivered a replacement ice cream so i'm putting in a request for the excel size for the crop\", reason=ResultReason.RecognizingSpeech))\n",
      "RECOGNIZING: SpeechRecognitionEventArgs(session_id=a731b2d4eb1146c9830444c62a7ec398, result=SpeechRecognitionResult(result_id=c1d617aa177347aa8306c42bfcdbf5d6, text=\"and how is wearing a UM as any is there anybody who's going to come and pick up so yes this will be picked up a we are courier partner and uh when he comes there to pick it up that is the same time he's delivered a replacement ice cream so i'm putting in a request for the excel size for the crop top\", reason=ResultReason.RecognizingSpeech))\n",
      "RECOGNIZING: SpeechRecognitionEventArgs(session_id=a731b2d4eb1146c9830444c62a7ec398, result=SpeechRecognitionResult(result_id=4fbfbcce58eb4d7181affa0011fa60f8, text=\"and how is wearing a UM as any is there anybody who's going to come and pick up so yes this will be picked up a we are courier partner and uh when he comes there to pick it up that is the same time he's delivered a replacement ice cream so i'm putting in a request for the excel size for the cropped or anything\", reason=ResultReason.RecognizingSpeech))\n"
     ]
    },
    {
     "name": "stdout",
     "output_type": "stream",
     "text": [
      "RECOGNIZING: SpeechRecognitionEventArgs(session_id=a731b2d4eb1146c9830444c62a7ec398, result=SpeechRecognitionResult(result_id=0d6843d0d9c64d68b52c9331e0c1ba34, text=\"and how is wearing a UM as any is there anybody who's going to come and pick up so yes this will be picked up a we are courier partner and uh when he comes there to pick it up that is the same time he's delivered a replacement ice cream so i'm putting in a request for the excel size for the crop top yeah anything else apart\", reason=ResultReason.RecognizingSpeech))\n",
      "RECOGNIZING: SpeechRecognitionEventArgs(session_id=a731b2d4eb1146c9830444c62a7ec398, result=SpeechRecognitionResult(result_id=17801a8317c54b3c9235e7fceb91413b, text=\"and how is wearing a UM as any is there anybody who's going to come and pick up so yes this will be picked up a we are courier partner and uh when he comes there to pick it up that is the same time he's delivered a replacement ice cream so i'm putting in a request for the excel size for the crop top yeah anything else apart from this\", reason=ResultReason.RecognizingSpeech))\n",
      "RECOGNIZING: SpeechRecognitionEventArgs(session_id=a731b2d4eb1146c9830444c62a7ec398, result=SpeechRecognitionResult(result_id=c6174208e4a24a958da516fceb2ace28, text=\"and how is wearing a UM as any is there anybody who's going to come and pick up so yes this will be picked up a we are courier partner and uh when he comes there to pick it up that is the same time he's delivered a replacement ice cream so i'm putting in a request for the excel size for the crop top yeah anything else apart from this no\", reason=ResultReason.RecognizingSpeech))\n",
      "RECOGNIZING: SpeechRecognitionEventArgs(session_id=a731b2d4eb1146c9830444c62a7ec398, result=SpeechRecognitionResult(result_id=43fe80ca05024c63a3b622c8c3c37204, text=\"and how is wearing a UM as any is there anybody who's going to come and pick up so yes this will be picked up a we are courier partner and uh when he comes there to pick it up that is the same time he's delivered a replacement ice cream so i'm putting in a request for the excel size for the crop top yeah anything else apart from this no that's\", reason=ResultReason.RecognizingSpeech))\n",
      "RECOGNIZING: SpeechRecognitionEventArgs(session_id=a731b2d4eb1146c9830444c62a7ec398, result=SpeechRecognitionResult(result_id=1f3bc5ec2a7043738ad094044acee2b1, text=\"and how is wearing a UM as any is there anybody who's going to come and pick up so yes this will be picked up a we are courier partner and uh when he comes there to pick it up that is the same time he's delivered a replacement ice cream so i'm putting in a request for the excel size for the crop top yeah anything else apart from this no that's about it thank\", reason=ResultReason.RecognizingSpeech))\n",
      "RECOGNIZING: SpeechRecognitionEventArgs(session_id=a731b2d4eb1146c9830444c62a7ec398, result=SpeechRecognitionResult(result_id=513c95b629c24ae18299eaf9c98a6a06, text=\"and how is wearing a UM as any is there anybody who's going to come and pick up so yes this will be picked up a we are courier partner and uh when he comes there to pick it up that is the same time he's delivered a replacement ice cream so i'm putting in a request for the excel size for the crop top yeah anything else apart from this no that's about it thank you\", reason=ResultReason.RecognizingSpeech))\n",
      "RECOGNIZING: SpeechRecognitionEventArgs(session_id=a731b2d4eb1146c9830444c62a7ec398, result=SpeechRecognitionResult(result_id=408eff859e2343b6b4b81d6fd4f20df4, text=\"and how is wearing a UM as any is there anybody who's going to come and pick up so yes this will be picked up a we are courier partner and uh when he comes there to pick it up that is the same time he's delivered a replacement ice cream so i'm putting in a request for the excel size for the crop top yeah anything else apart from this no that's about it thank you so very much\", reason=ResultReason.RecognizingSpeech))\n",
      "RECOGNIZING: SpeechRecognitionEventArgs(session_id=a731b2d4eb1146c9830444c62a7ec398, result=SpeechRecognitionResult(result_id=4fa7255a0c98430d939e18bfc6e8f81c, text=\"and how is wearing a UM as any is there anybody who's going to come and pick up so yes this will be picked up a we are courier partner and uh when he comes there to pick it up that is the same time he's delivered a replacement ice cream so i'm putting in a request for the excel size for the crop top yeah anything else apart from this no that's about it thank you so very much problem you make i don't\", reason=ResultReason.RecognizingSpeech))\n",
      "RECOGNIZING: SpeechRecognitionEventArgs(session_id=a731b2d4eb1146c9830444c62a7ec398, result=SpeechRecognitionResult(result_id=09cfe3fb836048bb855eff1f3950a60d, text=\"and how is wearing a UM as any is there anybody who's going to come and pick up so yes this will be picked up a we are courier partner and uh when he comes there to pick it up that is the same time he's delivered a replacement ice cream so i'm putting in a request for the excel size for the crop top yeah anything else apart from this no that's about it thank you so very much problem you make i don't sorry go ahead\", reason=ResultReason.RecognizingSpeech))\n",
      "RECOGNIZING: SpeechRecognitionEventArgs(session_id=a731b2d4eb1146c9830444c62a7ec398, result=SpeechRecognitionResult(result_id=ba6aacb1ad7a4d0f8468cabb75de65b3, text=\"and how is wearing a UM as any is there anybody who's going to come and pick up so yes this will be picked up a we are courier partner and uh when he comes there to pick it up that is the same time he's delivered a replacement ice cream so i'm putting in a request for the excel size for the crop top yeah anything else apart from this no that's about it thank you so very much problem you make i don't sorry go ahead yeah\", reason=ResultReason.RecognizingSpeech))\n",
      "RECOGNIZING: SpeechRecognitionEventArgs(session_id=a731b2d4eb1146c9830444c62a7ec398, result=SpeechRecognitionResult(result_id=80ddfda929a54fbb8ad221973241ce01, text=\"and how is wearing a UM as any is there anybody who's going to come and pick up so yes this will be picked up a we are courier partner and uh when he comes there to pick it up that is the same time he's delivered a replacement ice cream so i'm putting in a request for the excel size for the crop top yeah anything else apart from this no that's about it thank you so very much problem you make i don't sorry go ahead yeah you may\", reason=ResultReason.RecognizingSpeech))\n",
      "RECOGNIZING: SpeechRecognitionEventArgs(session_id=a731b2d4eb1146c9830444c62a7ec398, result=SpeechRecognitionResult(result_id=945fa7f7d2224faf9a8923cdb365f8c8, text=\"and how is wearing a UM as any is there anybody who's going to come and pick up so yes this will be picked up a we are courier partner and uh when he comes there to pick it up that is the same time he's delivered a replacement ice cream so i'm putting in a request for the excel size for the crop top yeah anything else apart from this no that's about it thank you so very much problem you make i don't sorry go ahead yeah you may expect\", reason=ResultReason.RecognizingSpeech))\n",
      "RECOGNIZING: SpeechRecognitionEventArgs(session_id=a731b2d4eb1146c9830444c62a7ec398, result=SpeechRecognitionResult(result_id=173cdc77029d4dea9f4e2b99e2b71ebd, text=\"and how is wearing a UM as any is there anybody who's going to come and pick up so yes this will be picked up a we are courier partner and uh when he comes there to pick it up that is the same time he's delivered a replacement ice cream so i'm putting in a request for the excel size for the crop top yeah anything else apart from this no that's about it thank you so very much problem you make i don't sorry go ahead yeah you may expect to arrive\", reason=ResultReason.RecognizingSpeech))\n",
      "RECOGNIZING: SpeechRecognitionEventArgs(session_id=a731b2d4eb1146c9830444c62a7ec398, result=SpeechRecognitionResult(result_id=34151b98634a4f0c9617dcf414fd7b1c, text=\"and how is wearing a UM as any is there anybody who's going to come and pick up so yes this will be picked up a we are courier partner and uh when he comes there to pick it up that is the same time he's delivered a replacement ice cream so i'm putting in a request for the excel size for the crop top yeah anything else apart from this no that's about it thank you so very much problem you make i don't sorry go ahead yeah you may expect to arrive in\", reason=ResultReason.RecognizingSpeech))\n"
     ]
    },
    {
     "name": "stdout",
     "output_type": "stream",
     "text": [
      "RECOGNIZING: SpeechRecognitionEventArgs(session_id=a731b2d4eb1146c9830444c62a7ec398, result=SpeechRecognitionResult(result_id=bd4a782837b545bcadeb44504bcdda4d, text=\"and how is wearing a UM as any is there anybody who's going to come and pick up so yes this will be picked up a we are courier partner and uh when he comes there to pick it up that is the same time he's delivered a replacement ice cream so i'm putting in a request for the excel size for the crop top yeah anything else apart from this no that's about it thank you so very much problem you make i don't sorry go ahead yeah you may expect to arrive in another 2\", reason=ResultReason.RecognizingSpeech))\n",
      "RECOGNIZING: SpeechRecognitionEventArgs(session_id=a731b2d4eb1146c9830444c62a7ec398, result=SpeechRecognitionResult(result_id=200aae9d233c48ef8417598bbcd0d02a, text=\"and how is wearing a UM as any is there anybody who's going to come and pick up so yes this will be picked up a we are courier partner and uh when he comes there to pick it up that is the same time he's delivered a replacement ice cream so i'm putting in a request for the excel size for the crop top yeah anything else apart from this no that's about it thank you so very much problem you make i don't sorry go ahead yeah you may expect to arrive in another two to\", reason=ResultReason.RecognizingSpeech))\n",
      "RECOGNIZING: SpeechRecognitionEventArgs(session_id=a731b2d4eb1146c9830444c62a7ec398, result=SpeechRecognitionResult(result_id=ac290beee2d141e9b0785105853d5bb5, text=\"and how is wearing a UM as any is there anybody who's going to come and pick up so yes this will be picked up a we are courier partner and uh when he comes there to pick it up that is the same time he's delivered a replacement ice cream so i'm putting in a request for the excel size for the crop top yeah anything else apart from this no that's about it thank you so very much problem you make i don't sorry go ahead yeah you may expect to arrive in another two to three\", reason=ResultReason.RecognizingSpeech))\n",
      "RECOGNIZING: SpeechRecognitionEventArgs(session_id=a731b2d4eb1146c9830444c62a7ec398, result=SpeechRecognitionResult(result_id=931c4e274be14314b69e1ae2d4ef0274, text=\"and how is wearing a UM as any is there anybody who's going to come and pick up so yes this will be picked up a we are courier partner and uh when he comes there to pick it up that is the same time he's delivered a replacement ice cream so i'm putting in a request for the excel size for the crop top yeah anything else apart from this no that's about it thank you so very much problem you make i don't sorry go ahead yeah you may expect to arrive in another two to three working\", reason=ResultReason.RecognizingSpeech))\n",
      "RECOGNIZED: SpeechRecognitionEventArgs(session_id=a731b2d4eb1146c9830444c62a7ec398, result=SpeechRecognitionResult(result_id=2042db3e6d464f62a4af09a1ec9213ae, text=\"And how is wearing a UM as any? Is there anybody who's going to come and pick up? So yes, this will be picked up a we are Courier partner and uh, when he comes there to pick it up. That is the same time he's delivered a replacement ice cream. So I'm putting in a request for the Excel sign for the crop top. Yeah, anything else apart from this? No, that's about it. Thank you so very much problem you make. I don't sorry go ahead. Yeah, you may expect to arrive in another two to three working.\", reason=ResultReason.RecognizedSpeech))\n",
      "RECOGNIZING: SpeechRecognitionEventArgs(session_id=a731b2d4eb1146c9830444c62a7ec398, result=SpeechRecognitionResult(result_id=812a6f85e1fd491384cf146c93d75b46, text=\"wait\", reason=ResultReason.RecognizingSpeech))\n",
      "RECOGNIZING: SpeechRecognitionEventArgs(session_id=a731b2d4eb1146c9830444c62a7ec398, result=SpeechRecognitionResult(result_id=b26f73274a2b4d8aafb5c22dd39ddc27, text=\"he's not\", reason=ResultReason.RecognizingSpeech))\n",
      "RECOGNIZING: SpeechRecognitionEventArgs(session_id=a731b2d4eb1146c9830444c62a7ec398, result=SpeechRecognitionResult(result_id=fbf76f3747de4bd68683b1f581ed87f9, text=\"he's not initial\", reason=ResultReason.RecognizingSpeech))\n",
      "RECOGNIZING: SpeechRecognitionEventArgs(session_id=a731b2d4eb1146c9830444c62a7ec398, result=SpeechRecognitionResult(result_id=4cfe59562b654b54bf7a740e07584093, text=\"he's not initially and\", reason=ResultReason.RecognizingSpeech))\n",
      "RECOGNIZING: SpeechRecognitionEventArgs(session_id=a731b2d4eb1146c9830444c62a7ec398, result=SpeechRecognitionResult(result_id=24f0841c26684754be28bd3fd662f6dd, text=\"he's not initial and\", reason=ResultReason.RecognizingSpeech))\n",
      "RECOGNIZING: SpeechRecognitionEventArgs(session_id=a731b2d4eb1146c9830444c62a7ec398, result=SpeechRecognitionResult(result_id=6ffd730d4eab4802997aaea679e64677, text=\"he's not initial and dumb\", reason=ResultReason.RecognizingSpeech))\n",
      "RECOGNIZING: SpeechRecognitionEventArgs(session_id=a731b2d4eb1146c9830444c62a7ec398, result=SpeechRecognitionResult(result_id=f39a50a2cb1e4644aa58b840dbed6f11, text=\"he's not initial and dumb just wanted to\", reason=ResultReason.RecognizingSpeech))\n",
      "RECOGNIZING: SpeechRecognitionEventArgs(session_id=a731b2d4eb1146c9830444c62a7ec398, result=SpeechRecognitionResult(result_id=2a74d7a1203d42cc8125f199de797248, text=\"he's not initial and dumb just wanted to know\", reason=ResultReason.RecognizingSpeech))\n",
      "RECOGNIZING: SpeechRecognitionEventArgs(session_id=a731b2d4eb1146c9830444c62a7ec398, result=SpeechRecognitionResult(result_id=ff9a84b3e9884e1fb6c7818f2cb93b99, text=\"he's not initial and dumb just wanted to know UM\", reason=ResultReason.RecognizingSpeech))\n",
      "RECOGNIZING: SpeechRecognitionEventArgs(session_id=a731b2d4eb1146c9830444c62a7ec398, result=SpeechRecognitionResult(result_id=933388c331d64271a356dea5e3eadfe8, text=\"he's not initial and dumb just wanted to know UM now everything\", reason=ResultReason.RecognizingSpeech))\n",
      "RECOGNIZING: SpeechRecognitionEventArgs(session_id=a731b2d4eb1146c9830444c62a7ec398, result=SpeechRecognitionResult(result_id=8af97639e12f4efdb78441221bd45028, text=\"he's not initial and dumb just wanted to know UM now everything the packaging\", reason=ResultReason.RecognizingSpeech))\n",
      "RECOGNIZING: SpeechRecognitionEventArgs(session_id=a731b2d4eb1146c9830444c62a7ec398, result=SpeechRecognitionResult(result_id=f477258ae1954a2aa38414fa8034108a, text=\"he's not initial and dumb just wanted to know UM now everything the packaging and\", reason=ResultReason.RecognizingSpeech))\n",
      "RECOGNIZING: SpeechRecognitionEventArgs(session_id=a731b2d4eb1146c9830444c62a7ec398, result=SpeechRecognitionResult(result_id=a1a072216d234872b95378dcad7f3fed, text=\"he's not initial and dumb just wanted to know UM now everything the packaging and everything\", reason=ResultReason.RecognizingSpeech))\n",
      "RECOGNIZING: SpeechRecognitionEventArgs(session_id=a731b2d4eb1146c9830444c62a7ec398, result=SpeechRecognitionResult(result_id=61164e0764d8445bb51072631eb21452, text=\"he's not initial and dumb just wanted to know UM now everything the packaging and everything i've kept it in\", reason=ResultReason.RecognizingSpeech))\n",
      "RECOGNIZING: SpeechRecognitionEventArgs(session_id=a731b2d4eb1146c9830444c62a7ec398, result=SpeechRecognitionResult(result_id=d8112d1f45074dc984d804b2c8dd4a32, text=\"he's not initial and dumb just wanted to know UM now everything the packaging and everything i've kept it in the\", reason=ResultReason.RecognizingSpeech))\n",
      "RECOGNIZING: SpeechRecognitionEventArgs(session_id=a731b2d4eb1146c9830444c62a7ec398, result=SpeechRecognitionResult(result_id=eca032894b9c4e3c9f3f39be532848b0, text=\"he's not initial and dumb just wanted to know UM now everything the packaging and everything i've kept it in the version\", reason=ResultReason.RecognizingSpeech))\n",
      "RECOGNIZING: SpeechRecognitionEventArgs(session_id=a731b2d4eb1146c9830444c62a7ec398, result=SpeechRecognitionResult(result_id=fd91815cab1b46fe8adfad9639b31272, text=\"he's not initial and dumb just wanted to know UM now everything the packaging and everything i've kept it in the original thing\", reason=ResultReason.RecognizingSpeech))\n",
      "RECOGNIZING: SpeechRecognitionEventArgs(session_id=a731b2d4eb1146c9830444c62a7ec398, result=SpeechRecognitionResult(result_id=2cfa9c79ab53459a8b4c564000dad9d0, text=\"he's not initial and dumb just wanted to know UM now everything the packaging and everything i've kept it in the original thing so\", reason=ResultReason.RecognizingSpeech))\n"
     ]
    },
    {
     "name": "stdout",
     "output_type": "stream",
     "text": [
      "RECOGNIZING: SpeechRecognitionEventArgs(session_id=a731b2d4eb1146c9830444c62a7ec398, result=SpeechRecognitionResult(result_id=c7734b8b99aa4c559707ee3f0d562ad2, text=\"he's not initial and dumb just wanted to know UM now everything the packaging and everything i've kept it in the original thing so perfect\", reason=ResultReason.RecognizingSpeech))\n",
      "RECOGNIZING: SpeechRecognitionEventArgs(session_id=a731b2d4eb1146c9830444c62a7ec398, result=SpeechRecognitionResult(result_id=33bc877c1cc04651941f0e37ab2b7c38, text=\"he's not initial and dumb just wanted to know UM now everything the packaging and everything i've kept it in the original thing so perfect dragon everything is\", reason=ResultReason.RecognizingSpeech))\n",
      "RECOGNIZING: SpeechRecognitionEventArgs(session_id=a731b2d4eb1146c9830444c62a7ec398, result=SpeechRecognitionResult(result_id=c855cf92cbe549bc8d223d6394100c70, text=\"he's not initial and dumb just wanted to know UM now everything the packaging and everything i've kept it in the original thing so perfect dragon everything is in\", reason=ResultReason.RecognizingSpeech))\n",
      "RECOGNIZING: SpeechRecognitionEventArgs(session_id=a731b2d4eb1146c9830444c62a7ec398, result=SpeechRecognitionResult(result_id=ce11efa2d6474f02a5655528f0cc95ec, text=\"he's not initial and dumb just wanted to know UM now everything the packaging and everything i've kept it in the original thing so perfect dragon everything is\", reason=ResultReason.RecognizingSpeech))\n",
      "RECOGNIZING: SpeechRecognitionEventArgs(session_id=a731b2d4eb1146c9830444c62a7ec398, result=SpeechRecognitionResult(result_id=a6902bba32934338b88ebdee2b5dd53c, text=\"he's not initial and dumb just wanted to know UM now everything the packaging and everything i've kept it in the original thing so perfect dragon everything is in practice\", reason=ResultReason.RecognizingSpeech))\n",
      "RECOGNIZING: SpeechRecognitionEventArgs(session_id=a731b2d4eb1146c9830444c62a7ec398, result=SpeechRecognitionResult(result_id=551b784a245d4165a2374d289624f755, text=\"he's not initial and dumb just wanted to know UM now everything the packaging and everything i've kept it in the original thing so perfect dragon everything is in practice perfect\", reason=ResultReason.RecognizingSpeech))\n",
      "RECOGNIZING: SpeechRecognitionEventArgs(session_id=a731b2d4eb1146c9830444c62a7ec398, result=SpeechRecognitionResult(result_id=a4c11949e6744c1e8996eeabdf6b68bc, text=\"he's not initial and dumb just wanted to know UM now everything the packaging and everything i've kept it in the original thing so perfect dragon everything is in practice perfect thank you\", reason=ResultReason.RecognizingSpeech))\n",
      "RECOGNIZING: SpeechRecognitionEventArgs(session_id=a731b2d4eb1146c9830444c62a7ec398, result=SpeechRecognitionResult(result_id=4569176c3bf244628f038a54d167df7c, text=\"he's not initial and dumb just wanted to know UM now everything the packaging and everything i've kept it in the original thing so perfect dragon everything is in practice perfect thank you so very much\", reason=ResultReason.RecognizingSpeech))\n",
      "RECOGNIZING: SpeechRecognitionEventArgs(session_id=a731b2d4eb1146c9830444c62a7ec398, result=SpeechRecognitionResult(result_id=3d483fc3336d495badf59822f78de51d, text=\"he's not initial and dumb just wanted to know UM now everything the packaging and everything i've kept it in the original thing so perfect dragon everything is in practice perfect thank you so very much thank you\", reason=ResultReason.RecognizingSpeech))\n",
      "RECOGNIZING: SpeechRecognitionEventArgs(session_id=a731b2d4eb1146c9830444c62a7ec398, result=SpeechRecognitionResult(result_id=f211448be046440fa3cc8e72838c11ce, text=\"he's not initial and dumb just wanted to know UM now everything the packaging and everything i've kept it in the original thing so perfect dragon everything is in practice perfect thank you so very much thank you bye\", reason=ResultReason.RecognizingSpeech))\n",
      "RECOGNIZED: SpeechRecognitionEventArgs(session_id=a731b2d4eb1146c9830444c62a7ec398, result=SpeechRecognitionResult(result_id=0f07bef290854b01b03e6c95d9ecd0c1, text=\"Wait, not initial and dumb. Just wanted to know UM, now everything the packaging and everything. I've kept it in the original thing so perfect dragon everything is in practice perfect. Thank you so very much. Thank you bye.\", reason=ResultReason.RecognizedSpeech))\n",
      "RECOGNIZED: SpeechRecognitionEventArgs(session_id=a731b2d4eb1146c9830444c62a7ec398, result=SpeechRecognitionResult(result_id=43b3ec431d654d959dc8497210dfa0bb, text=\"\", reason=ResultReason.RecognizedSpeech))\n",
      "CANCELED SpeechRecognitionCanceledEventArgs(session_id=a731b2d4eb1146c9830444c62a7ec398, result=SpeechRecognitionResult(result_id=b07d6849ae734f3cb68a22a2f0492062, text=\"\", reason=ResultReason.Canceled))\n",
      "CLOSING on SpeechRecognitionCanceledEventArgs(session_id=a731b2d4eb1146c9830444c62a7ec398, result=SpeechRecognitionResult(result_id=b07d6849ae734f3cb68a22a2f0492062, text=\"\", reason=ResultReason.Canceled))\n",
      "SESSION STOPPED SessionEventArgs(session_id=a731b2d4eb1146c9830444c62a7ec398)\n",
      "CLOSING on SessionEventArgs(session_id=a731b2d4eb1146c9830444c62a7ec398)\n",
      "Printing all results:\n",
      "[\"And how is wearing a UM as any? Is there anybody who's going to come and pick up? So yes, this will be picked up a we are Courier partner and uh, when he comes there to pick it up. That is the same time he's delivered a replacement ice cream. So I'm putting in a request for the Excel sign for the crop top. Yeah, anything else apart from this? No, that's about it. Thank you so very much problem you make. I don't sorry go ahead. Yeah, you may expect to arrive in another two to three working.\", \"Wait, not initial and dumb. Just wanted to know UM, now everything the packaging and everything. I've kept it in the original thing so perfect dragon everything is in practice perfect. Thank you so very much. Thank you bye.\", '']\n"
     ]
    }
   ],
   "source": [
    "speech_recognizer.recognizing.connect(lambda evt: print('RECOGNIZING: {}'.format(evt)))\n",
    "speech_recognizer.recognized.connect(lambda evt: print('RECOGNIZED: {}'.format(evt)))\n",
    "speech_recognizer.session_started.connect(lambda evt: print('SESSION STARTED: {}'.format(evt)))\n",
    "speech_recognizer.session_stopped.connect(lambda evt: print('SESSION STOPPED {}'.format(evt)))\n",
    "speech_recognizer.canceled.connect(lambda evt: print('CANCELED {}'.format(evt)))\n",
    "# stop continuous recognition on either session stopped or canceled events\n",
    "speech_recognizer.session_stopped.connect(stop_cb)\n",
    "speech_recognizer.canceled.connect(stop_cb)\n",
    "\n",
    "speech_recognizer.start_continuous_recognition()\n",
    "\n",
    "while not done:\n",
    "    time.sleep(.5)\n",
    "    \n",
    "print(\"Printing all results:\")\n",
    "print(all_results)"
   ]
  },
  {
   "cell_type": "code",
   "execution_count": 57,
   "id": "a130ab3c",
   "metadata": {},
   "outputs": [],
   "source": [
    "import azure.cognitiveservices.speech as speechsdk\n",
    "import time\n",
    "import datetime\n",
    "\n",
    "def speech_to_text():\n",
    "    \n",
    "    # Creates an instance of a speech config with specified subscription key and service region.\n",
    "    # Replace with your own subscription key and region identifier from here: https://aka.ms/speech/sdkregion\n",
    "    speech_key, service_region = \"4b73fedba5bf4049a6582a399123d50d\", \"centralus\"\n",
    "    speech_config = speechsdk.SpeechConfig(subscription=speech_key, region=service_region)\n",
    "\n",
    "    # Creates an audio configuration that points to an audio file.\n",
    "    # Replace with your own audio filename.\n",
    "    audio_filename = \"5.wav\"\n",
    "    audio_input = speechsdk.audio.AudioConfig(filename=audio_filename)\n",
    "\n",
    "    # Creates a recognizer with the given settings\n",
    "    speech_config.speech_recognition_language=\"en-US\"\n",
    "    speech_config.request_word_level_timestamps()\n",
    "    speech_config.enable_dictation()\n",
    "    speech_config.output_format = speechsdk.OutputFormat(1)\n",
    "\n",
    "    speech_recognizer = speechsdk.SpeechRecognizer(speech_config=speech_config, audio_config=audio_input)\n",
    "\n",
    "    #result = speech_recognizer.recognize_once()\n",
    "    all_results = []\n",
    "\n",
    "\n",
    "\n",
    "    #https://docs.microsoft.com/en-us/python/api/azure-cognitiveservices-speech/azure.cognitiveservices.speech.recognitionresult?view=azure-python\n",
    "    def handle_final_result(evt):\n",
    "        all_results.append(evt.result.text) \n",
    "    \n",
    "    \n",
    "    done = False\n",
    "\n",
    "    def stop_cb(evt):\n",
    "        print('CLOSING on {}'.format(evt))\n",
    "        speech_recognizer.stop_continuous_recognition()\n",
    "        nonlocal done\n",
    "        done= True\n",
    "\n",
    "    #Appends the recognized text to the all_results variable. \n",
    "    speech_recognizer.recognized.connect(handle_final_result) \n",
    "\n",
    "    #Connect callbacks to the events fired by the speech recognizer & displays the info/status\n",
    "    #Ref:https://docs.microsoft.com/en-us/python/api/azure-cognitiveservices-speech/azure.cognitiveservices.speech.eventsignal?view=azure-python   \n",
    "    speech_recognizer.recognizing.connect(lambda evt: print('RECOGNIZING: {}'.format(evt)))\n",
    "    speech_recognizer.recognized.connect(lambda evt: print('RECOGNIZED: {}'.format(evt)))\n",
    "    speech_recognizer.session_started.connect(lambda evt: print('SESSION STARTED: {}'.format(evt)))\n",
    "    speech_recognizer.session_stopped.connect(lambda evt: print('SESSION STOPPED {}'.format(evt)))\n",
    "    speech_recognizer.canceled.connect(lambda evt: print('CANCELED {}'.format(evt)))\n",
    "    # stop continuous recognition on either session stopped or canceled events\n",
    "    speech_recognizer.session_stopped.connect(stop_cb)\n",
    "    speech_recognizer.canceled.connect(stop_cb)\n",
    "\n",
    "    speech_recognizer.start_continuous_recognition()\n",
    "\n",
    "    while not done:\n",
    "        time.sleep(.5)\n",
    "            \n",
    "    print(\"Printing all results:\")\n",
    "    print(all_results)\n",
    "\n",
    "#calling the conversion through a function    \n"
   ]
  },
  {
   "cell_type": "code",
   "execution_count": 43,
   "id": "ce02a7df",
   "metadata": {},
   "outputs": [
    {
     "name": "stdout",
     "output_type": "stream",
     "text": [
      "SESSION STARTED: SessionEventArgs(session_id=38f398c8753441dea4b350f98df1f51f)\n",
      "RECOGNIZING: SpeechRecognitionEventArgs(session_id=38f398c8753441dea4b350f98df1f51f, result=SpeechRecognitionResult(result_id=16478a4b94804041b7cf8df49450b187, text=\"and how\", reason=ResultReason.RecognizingSpeech))\n",
      "RECOGNIZING: SpeechRecognitionEventArgs(session_id=38f398c8753441dea4b350f98df1f51f, result=SpeechRecognitionResult(result_id=edbda7d042ae48d1bce9bfc5bb135ab3, text=\"and how's\", reason=ResultReason.RecognizingSpeech))\n",
      "RECOGNIZING: SpeechRecognitionEventArgs(session_id=38f398c8753441dea4b350f98df1f51f, result=SpeechRecognitionResult(result_id=aedde426607c4baf855e964d0d3d87dd, text=\"and how is wearing a\", reason=ResultReason.RecognizingSpeech))\n",
      "RECOGNIZING: SpeechRecognitionEventArgs(session_id=38f398c8753441dea4b350f98df1f51f, result=SpeechRecognitionResult(result_id=f200c411ae294be381a53e566ece6d0d, text=\"and how is wearing a a\", reason=ResultReason.RecognizingSpeech))\n",
      "RECOGNIZING: SpeechRecognitionEventArgs(session_id=38f398c8753441dea4b350f98df1f51f, result=SpeechRecognitionResult(result_id=dea07410a72b433f9bc14cb916b914f9, text=\"and how is wearing a a mazon\", reason=ResultReason.RecognizingSpeech))\n",
      "RECOGNIZING: SpeechRecognitionEventArgs(session_id=38f398c8753441dea4b350f98df1f51f, result=SpeechRecognitionResult(result_id=2e3973f054014864b4b127dea3bcf9b2, text=\"and how is wearing a UM as any is there\", reason=ResultReason.RecognizingSpeech))\n",
      "RECOGNIZING: SpeechRecognitionEventArgs(session_id=38f398c8753441dea4b350f98df1f51f, result=SpeechRecognitionResult(result_id=1f2dfff3730a4ece8d6a44b36a928022, text=\"and how is wearing a UM as any is there anybody who's going to\", reason=ResultReason.RecognizingSpeech))\n",
      "RECOGNIZING: SpeechRecognitionEventArgs(session_id=38f398c8753441dea4b350f98df1f51f, result=SpeechRecognitionResult(result_id=0072c56f5ea94d6db889e7415c723e3a, text=\"and how is wearing a UM as any is there anybody who's going to come in\", reason=ResultReason.RecognizingSpeech))\n",
      "RECOGNIZING: SpeechRecognitionEventArgs(session_id=38f398c8753441dea4b350f98df1f51f, result=SpeechRecognitionResult(result_id=3b9aced05b3e401582919554fedad8d0, text=\"and how is wearing a UM as any is there anybody who's going to come and pick\", reason=ResultReason.RecognizingSpeech))\n",
      "RECOGNIZING: SpeechRecognitionEventArgs(session_id=38f398c8753441dea4b350f98df1f51f, result=SpeechRecognitionResult(result_id=0af126a61a6d40028fc6cb82556afa9b, text=\"and how is wearing a UM as any is there anybody who's going to come and pick up\", reason=ResultReason.RecognizingSpeech))\n",
      "RECOGNIZING: SpeechRecognitionEventArgs(session_id=38f398c8753441dea4b350f98df1f51f, result=SpeechRecognitionResult(result_id=57b5ca39bc89443f90a4e1fae75a58b5, text=\"and how is wearing a UM as any is there anybody who's going to come and pick up so\", reason=ResultReason.RecognizingSpeech))\n",
      "RECOGNIZING: SpeechRecognitionEventArgs(session_id=38f398c8753441dea4b350f98df1f51f, result=SpeechRecognitionResult(result_id=53c47a2a67b14a7a85deef999edae215, text=\"and how is wearing a UM as any is there anybody who's going to come and pick up so yes\", reason=ResultReason.RecognizingSpeech))\n",
      "RECOGNIZING: SpeechRecognitionEventArgs(session_id=38f398c8753441dea4b350f98df1f51f, result=SpeechRecognitionResult(result_id=cabdb9d5fe0d45a5ad42d2390fa3f45f, text=\"and how is wearing a UM as any is there anybody who's going to come and pick up so yes this will be\", reason=ResultReason.RecognizingSpeech))\n",
      "RECOGNIZING: SpeechRecognitionEventArgs(session_id=38f398c8753441dea4b350f98df1f51f, result=SpeechRecognitionResult(result_id=50bc4c50df954dae86d69ab572d5ca1d, text=\"and how is wearing a UM as any is there anybody who's going to come and pick up so yes this will be picked\", reason=ResultReason.RecognizingSpeech))\n",
      "RECOGNIZING: SpeechRecognitionEventArgs(session_id=38f398c8753441dea4b350f98df1f51f, result=SpeechRecognitionResult(result_id=eaf1b773ecc745d78f4d1fbf288f2199, text=\"and how is wearing a UM as any is there anybody who's going to come and pick up so yes this will be picked up\", reason=ResultReason.RecognizingSpeech))\n",
      "RECOGNIZING: SpeechRecognitionEventArgs(session_id=38f398c8753441dea4b350f98df1f51f, result=SpeechRecognitionResult(result_id=927a433b9c9746eab40676216b189e68, text=\"and how is wearing a UM as any is there anybody who's going to come and pick up so yes this will be picked up a\", reason=ResultReason.RecognizingSpeech))\n",
      "RECOGNIZING: SpeechRecognitionEventArgs(session_id=38f398c8753441dea4b350f98df1f51f, result=SpeechRecognitionResult(result_id=b741df6418d64aa99e1a87381a38f216, text=\"and how is wearing a UM as any is there anybody who's going to come and pick up so yes this will be picked up a we are\", reason=ResultReason.RecognizingSpeech))\n",
      "RECOGNIZING: SpeechRecognitionEventArgs(session_id=38f398c8753441dea4b350f98df1f51f, result=SpeechRecognitionResult(result_id=81bcff6067954a969576159725c4810f, text=\"and how is wearing a UM as any is there anybody who's going to come and pick up so yes this will be picked up a we are career\", reason=ResultReason.RecognizingSpeech))\n",
      "RECOGNIZING: SpeechRecognitionEventArgs(session_id=38f398c8753441dea4b350f98df1f51f, result=SpeechRecognitionResult(result_id=3cc9049b50474de3a0b60786589ea67b, text=\"and how is wearing a UM as any is there anybody who's going to come and pick up so yes this will be picked up a we are career path\", reason=ResultReason.RecognizingSpeech))\n",
      "RECOGNIZING: SpeechRecognitionEventArgs(session_id=38f398c8753441dea4b350f98df1f51f, result=SpeechRecognitionResult(result_id=d883b64f1c274cd0bc091897bee2df7b, text=\"and how is wearing a UM as any is there anybody who's going to come and pick up so yes this will be picked up a we are courier partner\", reason=ResultReason.RecognizingSpeech))\n",
      "RECOGNIZING: SpeechRecognitionEventArgs(session_id=38f398c8753441dea4b350f98df1f51f, result=SpeechRecognitionResult(result_id=fc4d6a468c91488cafb512b3d3f35f24, text=\"and how is wearing a UM as any is there anybody who's going to come and pick up so yes this will be picked up a we are courier partner and\", reason=ResultReason.RecognizingSpeech))\n",
      "RECOGNIZING: SpeechRecognitionEventArgs(session_id=38f398c8753441dea4b350f98df1f51f, result=SpeechRecognitionResult(result_id=126c8a7df67a49aea5c7ffdf21130b6b, text=\"and how is wearing a UM as any is there anybody who's going to come and pick up so yes this will be picked up a we are courier partner and uh\", reason=ResultReason.RecognizingSpeech))\n",
      "RECOGNIZING: SpeechRecognitionEventArgs(session_id=38f398c8753441dea4b350f98df1f51f, result=SpeechRecognitionResult(result_id=19089ea8c63a4479961fe8d979f37dac, text=\"and how is wearing a UM as any is there anybody who's going to come and pick up so yes this will be picked up a we are courier partner and uh when he\", reason=ResultReason.RecognizingSpeech))\n",
      "RECOGNIZING: SpeechRecognitionEventArgs(session_id=38f398c8753441dea4b350f98df1f51f, result=SpeechRecognitionResult(result_id=b5f138ef265c401cbab4c7f84aead127, text=\"and how is wearing a UM as any is there anybody who's going to come and pick up so yes this will be picked up a we are courier partner and uh when he comes\", reason=ResultReason.RecognizingSpeech))\n",
      "RECOGNIZING: SpeechRecognitionEventArgs(session_id=38f398c8753441dea4b350f98df1f51f, result=SpeechRecognitionResult(result_id=7178e1f369b34564ad678dcf202a1a47, text=\"and how is wearing a UM as any is there anybody who's going to come and pick up so yes this will be picked up a we are courier partner and uh when he comes there to pick\", reason=ResultReason.RecognizingSpeech))\n",
      "RECOGNIZING: SpeechRecognitionEventArgs(session_id=38f398c8753441dea4b350f98df1f51f, result=SpeechRecognitionResult(result_id=e8fcfa4a0b864107b9c91dad37b4f904, text=\"and how is wearing a UM as any is there anybody who's going to come and pick up so yes this will be picked up a we are courier partner and uh when he comes there to pick it up\", reason=ResultReason.RecognizingSpeech))\n",
      "RECOGNIZING: SpeechRecognitionEventArgs(session_id=38f398c8753441dea4b350f98df1f51f, result=SpeechRecognitionResult(result_id=a0bc2c9c45a840c1a4b7a2c47af2ad97, text=\"and how is wearing a UM as any is there anybody who's going to come and pick up so yes this will be picked up a we are courier partner and uh when he comes there to pick it up there\", reason=ResultReason.RecognizingSpeech))\n"
     ]
    },
    {
     "name": "stdout",
     "output_type": "stream",
     "text": [
      "RECOGNIZING: SpeechRecognitionEventArgs(session_id=38f398c8753441dea4b350f98df1f51f, result=SpeechRecognitionResult(result_id=77dfa01d7c1844c9b534b819b8983966, text=\"and how is wearing a UM as any is there anybody who's going to come and pick up so yes this will be picked up a we are courier partner and uh when he comes there to pick it up that is\", reason=ResultReason.RecognizingSpeech))\n",
      "RECOGNIZING: SpeechRecognitionEventArgs(session_id=38f398c8753441dea4b350f98df1f51f, result=SpeechRecognitionResult(result_id=98ec42d1531c4e92ab999a54f683cf92, text=\"and how is wearing a UM as any is there anybody who's going to come and pick up so yes this will be picked up a we are courier partner and uh when he comes there to pick it up that is the same\", reason=ResultReason.RecognizingSpeech))\n",
      "RECOGNIZING: SpeechRecognitionEventArgs(session_id=38f398c8753441dea4b350f98df1f51f, result=SpeechRecognitionResult(result_id=f6464de00e73400fb85c11a788bad2b7, text=\"and how is wearing a UM as any is there anybody who's going to come and pick up so yes this will be picked up a we are courier partner and uh when he comes there to pick it up that is the same time\", reason=ResultReason.RecognizingSpeech))\n",
      "RECOGNIZING: SpeechRecognitionEventArgs(session_id=38f398c8753441dea4b350f98df1f51f, result=SpeechRecognitionResult(result_id=54107def7dbd45318551af3f436bfbf4, text=\"and how is wearing a UM as any is there anybody who's going to come and pick up so yes this will be picked up a we are courier partner and uh when he comes there to pick it up that is the same time he's done\", reason=ResultReason.RecognizingSpeech))\n",
      "RECOGNIZING: SpeechRecognitionEventArgs(session_id=38f398c8753441dea4b350f98df1f51f, result=SpeechRecognitionResult(result_id=9461e812c5e347029f3a359900f05238, text=\"and how is wearing a UM as any is there anybody who's going to come and pick up so yes this will be picked up a we are courier partner and uh when he comes there to pick it up that is the same time he's delivered\", reason=ResultReason.RecognizingSpeech))\n",
      "RECOGNIZING: SpeechRecognitionEventArgs(session_id=38f398c8753441dea4b350f98df1f51f, result=SpeechRecognitionResult(result_id=cc8f6acbdd19467681f3c673cc21cd09, text=\"and how is wearing a UM as any is there anybody who's going to come and pick up so yes this will be picked up a we are courier partner and uh when he comes there to pick it up that is the same time he'll deliver the\", reason=ResultReason.RecognizingSpeech))\n",
      "RECOGNIZING: SpeechRecognitionEventArgs(session_id=38f398c8753441dea4b350f98df1f51f, result=SpeechRecognitionResult(result_id=2c040812c09546b9a909ba280769e865, text=\"and how is wearing a UM as any is there anybody who's going to come and pick up so yes this will be picked up a we are courier partner and uh when he comes there to pick it up that is the same time he's delivered a replacement\", reason=ResultReason.RecognizingSpeech))\n",
      "RECOGNIZING: SpeechRecognitionEventArgs(session_id=38f398c8753441dea4b350f98df1f51f, result=SpeechRecognitionResult(result_id=16ba744be6a743ccafe83c92980bdd60, text=\"and how is wearing a UM as any is there anybody who's going to come and pick up so yes this will be picked up a we are courier partner and uh when he comes there to pick it up that is the same time he'll deliver the replacement right\", reason=ResultReason.RecognizingSpeech))\n",
      "RECOGNIZING: SpeechRecognitionEventArgs(session_id=38f398c8753441dea4b350f98df1f51f, result=SpeechRecognitionResult(result_id=8530a1faa350491a8294c31b00e59270, text=\"and how is wearing a UM as any is there anybody who's going to come and pick up so yes this will be picked up a we are courier partner and uh when he comes there to pick it up that is the same time he's delivered a replacement ice cream\", reason=ResultReason.RecognizingSpeech))\n",
      "RECOGNIZING: SpeechRecognitionEventArgs(session_id=38f398c8753441dea4b350f98df1f51f, result=SpeechRecognitionResult(result_id=0263878f41c44e5093f7d3049f34621e, text=\"and how is wearing a UM as any is there anybody who's going to come and pick up so yes this will be picked up a we are courier partner and uh when he comes there to pick it up that is the same time he's delivered a replacement ice cream so\", reason=ResultReason.RecognizingSpeech))\n",
      "RECOGNIZING: SpeechRecognitionEventArgs(session_id=38f398c8753441dea4b350f98df1f51f, result=SpeechRecognitionResult(result_id=59de82cb5d7e4d2b984333f5c79cf741, text=\"and how is wearing a UM as any is there anybody who's going to come and pick up so yes this will be picked up a we are courier partner and uh when he comes there to pick it up that is the same time he's delivered a replacement ice cream so i'm\", reason=ResultReason.RecognizingSpeech))\n",
      "RECOGNIZING: SpeechRecognitionEventArgs(session_id=38f398c8753441dea4b350f98df1f51f, result=SpeechRecognitionResult(result_id=c96f9aff84f44ad6b028c27256779842, text=\"and how is wearing a UM as any is there anybody who's going to come and pick up so yes this will be picked up a we are courier partner and uh when he comes there to pick it up that is the same time he's delivered a replacement ice cream so i'm putting in a\", reason=ResultReason.RecognizingSpeech))\n",
      "RECOGNIZING: SpeechRecognitionEventArgs(session_id=38f398c8753441dea4b350f98df1f51f, result=SpeechRecognitionResult(result_id=775bbb64e73c4d94b8b960f186f664bc, text=\"and how is wearing a UM as any is there anybody who's going to come and pick up so yes this will be picked up a we are courier partner and uh when he comes there to pick it up that is the same time he's delivered a replacement ice cream so i'm putting in a request for\", reason=ResultReason.RecognizingSpeech))\n",
      "RECOGNIZING: SpeechRecognitionEventArgs(session_id=38f398c8753441dea4b350f98df1f51f, result=SpeechRecognitionResult(result_id=a6cd5711af344f4dbf0092c408522b4c, text=\"and how is wearing a UM as any is there anybody who's going to come and pick up so yes this will be picked up a we are courier partner and uh when he comes there to pick it up that is the same time he's delivered a replacement ice cream so i'm putting in a request for the\", reason=ResultReason.RecognizingSpeech))\n",
      "RECOGNIZING: SpeechRecognitionEventArgs(session_id=38f398c8753441dea4b350f98df1f51f, result=SpeechRecognitionResult(result_id=5676cee4b252410ea3783fc3707c1c81, text=\"and how is wearing a UM as any is there anybody who's going to come and pick up so yes this will be picked up a we are courier partner and uh when he comes there to pick it up that is the same time he's delivered a replacement ice cream so i'm putting in a request for the excel\", reason=ResultReason.RecognizingSpeech))\n",
      "RECOGNIZING: SpeechRecognitionEventArgs(session_id=38f398c8753441dea4b350f98df1f51f, result=SpeechRecognitionResult(result_id=db246d19ae2545c891f7d63388a0611b, text=\"and how is wearing a UM as any is there anybody who's going to come and pick up so yes this will be picked up a we are courier partner and uh when he comes there to pick it up that is the same time he's delivered a replacement ice cream so i'm putting in a request for the excel size\", reason=ResultReason.RecognizingSpeech))\n",
      "RECOGNIZING: SpeechRecognitionEventArgs(session_id=38f398c8753441dea4b350f98df1f51f, result=SpeechRecognitionResult(result_id=aa40ec70f77d4ee781d8200959cf3ee6, text=\"and how is wearing a UM as any is there anybody who's going to come and pick up so yes this will be picked up a we are courier partner and uh when he comes there to pick it up that is the same time he's delivered a replacement ice cream so i'm putting in a request for the excel sign for\", reason=ResultReason.RecognizingSpeech))\n",
      "RECOGNIZING: SpeechRecognitionEventArgs(session_id=38f398c8753441dea4b350f98df1f51f, result=SpeechRecognitionResult(result_id=8b8df478f5dc404b9ac3942fd4a34de4, text=\"and how is wearing a UM as any is there anybody who's going to come and pick up so yes this will be picked up a we are courier partner and uh when he comes there to pick it up that is the same time he's delivered a replacement ice cream so i'm putting in a request for the excel sign for the crop\", reason=ResultReason.RecognizingSpeech))\n",
      "RECOGNIZING: SpeechRecognitionEventArgs(session_id=38f398c8753441dea4b350f98df1f51f, result=SpeechRecognitionResult(result_id=3e264ee365164aa8aa208cfde7bbaa13, text=\"and how is wearing a UM as any is there anybody who's going to come and pick up so yes this will be picked up a we are courier partner and uh when he comes there to pick it up that is the same time he's delivered a replacement ice cream so i'm putting in a request for the excel sign for the crop top\", reason=ResultReason.RecognizingSpeech))\n"
     ]
    },
    {
     "name": "stdout",
     "output_type": "stream",
     "text": [
      "RECOGNIZING: SpeechRecognitionEventArgs(session_id=38f398c8753441dea4b350f98df1f51f, result=SpeechRecognitionResult(result_id=633b9b3ffd424848afbff56fa2c28013, text=\"and how is wearing a UM as any is there anybody who's going to come and pick up so yes this will be picked up a we are courier partner and uh when he comes there to pick it up that is the same time he's delivered a replacement ice cream so i'm putting in a request for the excel sign for the cropped or anything\", reason=ResultReason.RecognizingSpeech))\n",
      "RECOGNIZING: SpeechRecognitionEventArgs(session_id=38f398c8753441dea4b350f98df1f51f, result=SpeechRecognitionResult(result_id=3a9e441b939a4878a2124495000a33c2, text=\"and how is wearing a UM as any is there anybody who's going to come and pick up so yes this will be picked up a we are courier partner and uh when he comes there to pick it up that is the same time he's delivered a replacement ice cream so i'm putting in a request for the excel sign for the cropped or anything else apart\", reason=ResultReason.RecognizingSpeech))\n",
      "RECOGNIZING: SpeechRecognitionEventArgs(session_id=38f398c8753441dea4b350f98df1f51f, result=SpeechRecognitionResult(result_id=77fc84e70c574ce4aecee28bdaec4a49, text=\"and how is wearing a UM as any is there anybody who's going to come and pick up so yes this will be picked up a we are courier partner and uh when he comes there to pick it up that is the same time he's delivered a replacement ice cream so i'm putting in a request for the excel sign for the cropped or anything else apart from this\", reason=ResultReason.RecognizingSpeech))\n",
      "RECOGNIZING: SpeechRecognitionEventArgs(session_id=38f398c8753441dea4b350f98df1f51f, result=SpeechRecognitionResult(result_id=ffde3b75d140441eae1468d556efac88, text=\"and how is wearing a UM as any is there anybody who's going to come and pick up so yes this will be picked up a we are courier partner and uh when he comes there to pick it up that is the same time he's delivered a replacement ice cream so i'm putting in a request for the excel sign for the cropped or anything else apart from this no\", reason=ResultReason.RecognizingSpeech))\n",
      "RECOGNIZING: SpeechRecognitionEventArgs(session_id=38f398c8753441dea4b350f98df1f51f, result=SpeechRecognitionResult(result_id=500cb1aa31284922b513221aa7c76913, text=\"and how is wearing a UM as any is there anybody who's going to come and pick up so yes this will be picked up a we are courier partner and uh when he comes there to pick it up that is the same time he's delivered a replacement ice cream so i'm putting in a request for the excel sign for the cropped or anything else apart from this no that's\", reason=ResultReason.RecognizingSpeech))\n",
      "RECOGNIZING: SpeechRecognitionEventArgs(session_id=38f398c8753441dea4b350f98df1f51f, result=SpeechRecognitionResult(result_id=05f20bd6067c495384b2aa45752eb943, text=\"and how is wearing a UM as any is there anybody who's going to come and pick up so yes this will be picked up a we are courier partner and uh when he comes there to pick it up that is the same time he's delivered a replacement ice cream so i'm putting in a request for the excel sign for the cropped or anything else apart from this no that's about\", reason=ResultReason.RecognizingSpeech))\n",
      "RECOGNIZING: SpeechRecognitionEventArgs(session_id=38f398c8753441dea4b350f98df1f51f, result=SpeechRecognitionResult(result_id=65aa0e0c60e54771930266afbb060005, text=\"and how is wearing a UM as any is there anybody who's going to come and pick up so yes this will be picked up a we are courier partner and uh when he comes there to pick it up that is the same time he's delivered a replacement ice cream so i'm putting in a request for the excel sign for the cropped or anything else apart from this no that's about it thank you\", reason=ResultReason.RecognizingSpeech))\n",
      "RECOGNIZING: SpeechRecognitionEventArgs(session_id=38f398c8753441dea4b350f98df1f51f, result=SpeechRecognitionResult(result_id=8bc6f84e2c3d4a059d73db8c2db58f57, text=\"and how is wearing a UM as any is there anybody who's going to come and pick up so yes this will be picked up a we are courier partner and uh when he comes there to pick it up that is the same time he's delivered a replacement ice cream so i'm putting in a request for the excel sign for the cropped or anything else apart from this no that's about it thank you so\", reason=ResultReason.RecognizingSpeech))\n",
      "RECOGNIZING: SpeechRecognitionEventArgs(session_id=38f398c8753441dea4b350f98df1f51f, result=SpeechRecognitionResult(result_id=dbdfb640ced44a06ad8158542f39e369, text=\"and how is wearing a UM as any is there anybody who's going to come and pick up so yes this will be picked up a we are courier partner and uh when he comes there to pick it up that is the same time he's delivered a replacement ice cream so i'm putting in a request for the excel sign for the cropped or anything else apart from this no that's about it thank you so very much\", reason=ResultReason.RecognizingSpeech))\n",
      "RECOGNIZING: SpeechRecognitionEventArgs(session_id=38f398c8753441dea4b350f98df1f51f, result=SpeechRecognitionResult(result_id=a32d23798cda4043ba257434587f2d42, text=\"and how is wearing a UM as any is there anybody who's going to come and pick up so yes this will be picked up a we are courier partner and uh when he comes there to pick it up that is the same time he's delivered a replacement ice cream so i'm putting in a request for the excel sign for the cropped or anything else apart from this no that's about it thank you so very much i don't\", reason=ResultReason.RecognizingSpeech))\n",
      "RECOGNIZING: SpeechRecognitionEventArgs(session_id=38f398c8753441dea4b350f98df1f51f, result=SpeechRecognitionResult(result_id=fdba2962a40d4817be864b655abb2913, text=\"and how is wearing a UM as any is there anybody who's going to come and pick up so yes this will be picked up a we are courier partner and uh when he comes there to pick it up that is the same time he's delivered a replacement ice cream so i'm putting in a request for the excel sign for the cropped or anything else apart from this no that's about it thank you so very much problem you make i don't sorry\", reason=ResultReason.RecognizingSpeech))\n",
      "RECOGNIZING: SpeechRecognitionEventArgs(session_id=38f398c8753441dea4b350f98df1f51f, result=SpeechRecognitionResult(result_id=485f4bbbf3b64d6096d9715c3faddd52, text=\"and how is wearing a UM as any is there anybody who's going to come and pick up so yes this will be picked up a we are courier partner and uh when he comes there to pick it up that is the same time he's delivered a replacement ice cream so i'm putting in a request for the excel sign for the cropped or anything else apart from this no that's about it thank you so very much problem you make i don't sorry go ahead\", reason=ResultReason.RecognizingSpeech))\n",
      "RECOGNIZING: SpeechRecognitionEventArgs(session_id=38f398c8753441dea4b350f98df1f51f, result=SpeechRecognitionResult(result_id=da7c93b6e3b048a9afcf9953e4cd056d, text=\"and how is wearing a UM as any is there anybody who's going to come and pick up so yes this will be picked up a we are courier partner and uh when he comes there to pick it up that is the same time he's delivered a replacement ice cream so i'm putting in a request for the excel sign for the cropped or anything else apart from this no that's about it thank you so very much problem you make i don't sorry go ahead yeah\", reason=ResultReason.RecognizingSpeech))\n",
      "RECOGNIZING: SpeechRecognitionEventArgs(session_id=38f398c8753441dea4b350f98df1f51f, result=SpeechRecognitionResult(result_id=7759505ad8b747148a54a94002c1aae3, text=\"and how is wearing a UM as any is there anybody who's going to come and pick up so yes this will be picked up a we are courier partner and uh when he comes there to pick it up that is the same time he's delivered a replacement ice cream so i'm putting in a request for the excel sign for the cropped or anything else apart from this no that's about it thank you so very much problem you make i don't sorry go ahead yeah you may expect\", reason=ResultReason.RecognizingSpeech))\n",
      "RECOGNIZING: SpeechRecognitionEventArgs(session_id=38f398c8753441dea4b350f98df1f51f, result=SpeechRecognitionResult(result_id=dd9b4e1189d14913a5747549bfab771c, text=\"and how is wearing a UM as any is there anybody who's going to come and pick up so yes this will be picked up a we are courier partner and uh when he comes there to pick it up that is the same time he's delivered a replacement ice cream so i'm putting in a request for the excel sign for the cropped or anything else apart from this no that's about it thank you so very much problem you make i don't sorry go ahead yeah you may expect to arrive\", reason=ResultReason.RecognizingSpeech))\n"
     ]
    },
    {
     "name": "stdout",
     "output_type": "stream",
     "text": [
      "RECOGNIZING: SpeechRecognitionEventArgs(session_id=38f398c8753441dea4b350f98df1f51f, result=SpeechRecognitionResult(result_id=705208f3d1d94bf982cedabfa0290a81, text=\"and how is wearing a UM as any is there anybody who's going to come and pick up so yes this will be picked up a we are courier partner and uh when he comes there to pick it up that is the same time he's delivered a replacement ice cream so i'm putting in a request for the excel sign for the cropped or anything else apart from this no that's about it thank you so very much problem you make i don't sorry go ahead yeah you may expect to arrive in\", reason=ResultReason.RecognizingSpeech))\n",
      "RECOGNIZING: SpeechRecognitionEventArgs(session_id=38f398c8753441dea4b350f98df1f51f, result=SpeechRecognitionResult(result_id=bf713fade59c4337a66aed94c6e69d75, text=\"and how is wearing a UM as any is there anybody who's going to come and pick up so yes this will be picked up a we are courier partner and uh when he comes there to pick it up that is the same time he's delivered a replacement ice cream so i'm putting in a request for the excel sign for the cropped or anything else apart from this no that's about it thank you so very much problem you make i don't sorry go ahead yeah you may expect to arrive in another two to\", reason=ResultReason.RecognizingSpeech))\n",
      "RECOGNIZING: SpeechRecognitionEventArgs(session_id=38f398c8753441dea4b350f98df1f51f, result=SpeechRecognitionResult(result_id=4eaa46435b664268a8134a84d5d73df4, text=\"and how is wearing a UM as any is there anybody who's going to come and pick up so yes this will be picked up a we are courier partner and uh when he comes there to pick it up that is the same time he's delivered a replacement ice cream so i'm putting in a request for the excel sign for the cropped or anything else apart from this no that's about it thank you so very much problem you make i don't sorry go ahead yeah you may expect to arrive in another two to three\", reason=ResultReason.RecognizingSpeech))\n",
      "RECOGNIZING: SpeechRecognitionEventArgs(session_id=38f398c8753441dea4b350f98df1f51f, result=SpeechRecognitionResult(result_id=b7bddffdac4b4fdeb17da675de20be78, text=\"and how is wearing a UM as any is there anybody who's going to come and pick up so yes this will be picked up a we are courier partner and uh when he comes there to pick it up that is the same time he's delivered a replacement ice cream so i'm putting in a request for the excel sign for the cropped or anything else apart from this no that's about it thank you so very much problem you make i don't sorry go ahead yeah you may expect to arrive in another two to three working\", reason=ResultReason.RecognizingSpeech))\n",
      "RECOGNIZED: SpeechRecognitionEventArgs(session_id=38f398c8753441dea4b350f98df1f51f, result=SpeechRecognitionResult(result_id=1bdcc2d529b84acebf5db69e30bf779a, text=\"And how is wearing a UM as any? Is there anybody who's going to come and pick up? So yes, this will be picked up a we are Courier partner and uh, when he comes there to pick it up. That is the same time he's delivered a replacement ice cream. So I'm putting in a request for the Excel sign for the cropped or anything else apart from this. No, that's about it. Thank you so very much. I don't. Sorry go ahead. Yeah, you may expect to arrive in another two to three working.\", reason=ResultReason.RecognizedSpeech))\n",
      "RECOGNIZING: SpeechRecognitionEventArgs(session_id=38f398c8753441dea4b350f98df1f51f, result=SpeechRecognitionResult(result_id=82a25c3a04e94b3387891140c773e2f7, text=\"wait\", reason=ResultReason.RecognizingSpeech))\n",
      "RECOGNIZING: SpeechRecognitionEventArgs(session_id=38f398c8753441dea4b350f98df1f51f, result=SpeechRecognitionResult(result_id=5808efd9b4cc4802bf89fadc819fd5cb, text=\"he's not\", reason=ResultReason.RecognizingSpeech))\n",
      "RECOGNIZING: SpeechRecognitionEventArgs(session_id=38f398c8753441dea4b350f98df1f51f, result=SpeechRecognitionResult(result_id=26b99f542d414924b3a2f6f408f38c13, text=\"he's not initial\", reason=ResultReason.RecognizingSpeech))\n",
      "RECOGNIZING: SpeechRecognitionEventArgs(session_id=38f398c8753441dea4b350f98df1f51f, result=SpeechRecognitionResult(result_id=de3e645405784ebab663d1202d4de48f, text=\"he's not initially and\", reason=ResultReason.RecognizingSpeech))\n",
      "RECOGNIZING: SpeechRecognitionEventArgs(session_id=38f398c8753441dea4b350f98df1f51f, result=SpeechRecognitionResult(result_id=2ec7fa3abd994b969e6af9926a16bc9c, text=\"he's not initial and dumb\", reason=ResultReason.RecognizingSpeech))\n",
      "RECOGNIZING: SpeechRecognitionEventArgs(session_id=38f398c8753441dea4b350f98df1f51f, result=SpeechRecognitionResult(result_id=725c7212dcbb41fe8a1e45b86ffdbec4, text=\"he's not initial and dumb just wanted to know\", reason=ResultReason.RecognizingSpeech))\n",
      "RECOGNIZING: SpeechRecognitionEventArgs(session_id=38f398c8753441dea4b350f98df1f51f, result=SpeechRecognitionResult(result_id=27ffddfffea94747a8017996fd7e8e37, text=\"he's not initial and dumb just wanted to know UM\", reason=ResultReason.RecognizingSpeech))\n",
      "RECOGNIZING: SpeechRecognitionEventArgs(session_id=38f398c8753441dea4b350f98df1f51f, result=SpeechRecognitionResult(result_id=a026d190918c4df19dec8d11a193058e, text=\"he's not initial and dumb just wanted to know UM now\", reason=ResultReason.RecognizingSpeech))\n",
      "RECOGNIZING: SpeechRecognitionEventArgs(session_id=38f398c8753441dea4b350f98df1f51f, result=SpeechRecognitionResult(result_id=3a56fcab18204bf7a93acb71e909704d, text=\"he's not initial and dumb just wanted to know UM now everything\", reason=ResultReason.RecognizingSpeech))\n",
      "RECOGNIZING: SpeechRecognitionEventArgs(session_id=38f398c8753441dea4b350f98df1f51f, result=SpeechRecognitionResult(result_id=c7f725181166407f8bc86fd490cc6562, text=\"he's not initial and dumb just wanted to know UM now everything the packaging\", reason=ResultReason.RecognizingSpeech))\n",
      "RECOGNIZING: SpeechRecognitionEventArgs(session_id=38f398c8753441dea4b350f98df1f51f, result=SpeechRecognitionResult(result_id=a70a9546aa554e199cfdf03a84169d5b, text=\"he's not initial and dumb just wanted to know UM now everything the packaging and everything\", reason=ResultReason.RecognizingSpeech))\n",
      "RECOGNIZING: SpeechRecognitionEventArgs(session_id=38f398c8753441dea4b350f98df1f51f, result=SpeechRecognitionResult(result_id=4154e46cfe8e4acca66eeaad85f346e8, text=\"he's not initial and dumb just wanted to know UM now everything the packaging and everything i've kept it in\", reason=ResultReason.RecognizingSpeech))\n",
      "RECOGNIZING: SpeechRecognitionEventArgs(session_id=38f398c8753441dea4b350f98df1f51f, result=SpeechRecognitionResult(result_id=6d7bfe28f198459e941beea81efe36e5, text=\"he's not initial and dumb just wanted to know UM now everything the packaging and everything i've kept it in the\", reason=ResultReason.RecognizingSpeech))\n",
      "RECOGNIZING: SpeechRecognitionEventArgs(session_id=38f398c8753441dea4b350f98df1f51f, result=SpeechRecognitionResult(result_id=5909deb041ab49728c93d7cd623c5e94, text=\"he's not initial and dumb just wanted to know UM now everything the packaging and everything i've kept it in the original thing\", reason=ResultReason.RecognizingSpeech))\n",
      "RECOGNIZING: SpeechRecognitionEventArgs(session_id=38f398c8753441dea4b350f98df1f51f, result=SpeechRecognitionResult(result_id=9f7482c9ac074509b20e1c314d2c4167, text=\"he's not initial and dumb just wanted to know UM now everything the packaging and everything i've kept it in the original thing so\", reason=ResultReason.RecognizingSpeech))\n",
      "RECOGNIZING: SpeechRecognitionEventArgs(session_id=38f398c8753441dea4b350f98df1f51f, result=SpeechRecognitionResult(result_id=9eb05365cdb648bdafdf8d3a7d6f5989, text=\"he's not initial and dumb just wanted to know UM now everything the packaging and everything i've kept it in the original thing so perfect\", reason=ResultReason.RecognizingSpeech))\n",
      "RECOGNIZING: SpeechRecognitionEventArgs(session_id=38f398c8753441dea4b350f98df1f51f, result=SpeechRecognitionResult(result_id=4e4aca3a955749b4b784071abaddb2d4, text=\"he's not initial and dumb just wanted to know UM now everything the packaging and everything i've kept it in the original thing so perfect dragon\", reason=ResultReason.RecognizingSpeech))\n",
      "RECOGNIZING: SpeechRecognitionEventArgs(session_id=38f398c8753441dea4b350f98df1f51f, result=SpeechRecognitionResult(result_id=35af5c5532994fa5b8462e05034785cf, text=\"he's not initial and dumb just wanted to know UM now everything the packaging and everything i've kept it in the original thing so perfect dragon everything is in\", reason=ResultReason.RecognizingSpeech))\n"
     ]
    },
    {
     "name": "stdout",
     "output_type": "stream",
     "text": [
      "RECOGNIZING: SpeechRecognitionEventArgs(session_id=38f398c8753441dea4b350f98df1f51f, result=SpeechRecognitionResult(result_id=2e5a839ff12e417da7d3e41d592c1336, text=\"he's not initial and dumb just wanted to know UM now everything the packaging and everything i've kept it in the original thing so perfect dragon everything is in practice\", reason=ResultReason.RecognizingSpeech))\n",
      "RECOGNIZING: SpeechRecognitionEventArgs(session_id=38f398c8753441dea4b350f98df1f51f, result=SpeechRecognitionResult(result_id=0e633294cc8a424ba3b859d262c6bc98, text=\"he's not initial and dumb just wanted to know UM now everything the packaging and everything i've kept it in the original thing so perfect dragon everything is in practice perfect\", reason=ResultReason.RecognizingSpeech))\n",
      "RECOGNIZING: SpeechRecognitionEventArgs(session_id=38f398c8753441dea4b350f98df1f51f, result=SpeechRecognitionResult(result_id=c745c0bf97f74be7aad04e0446b80c8e, text=\"he's not initial and dumb just wanted to know UM now everything the packaging and everything i've kept it in the original thing so perfect dragon everything is in practice perfect thank\", reason=ResultReason.RecognizingSpeech))\n",
      "RECOGNIZING: SpeechRecognitionEventArgs(session_id=38f398c8753441dea4b350f98df1f51f, result=SpeechRecognitionResult(result_id=b70a45c2765c4569b2d7e007072b0b28, text=\"he's not initial and dumb just wanted to know UM now everything the packaging and everything i've kept it in the original thing so perfect dragon everything is in practice perfect thank you\", reason=ResultReason.RecognizingSpeech))\n",
      "RECOGNIZING: SpeechRecognitionEventArgs(session_id=38f398c8753441dea4b350f98df1f51f, result=SpeechRecognitionResult(result_id=543eda2e3bdb40bf97d92681344e417a, text=\"he's not initial and dumb just wanted to know UM now everything the packaging and everything i've kept it in the original thing so perfect dragon everything is in practice perfect thank you so\", reason=ResultReason.RecognizingSpeech))\n",
      "RECOGNIZING: SpeechRecognitionEventArgs(session_id=38f398c8753441dea4b350f98df1f51f, result=SpeechRecognitionResult(result_id=c36852907d9c44d3bb1bca496a7618ea, text=\"he's not initial and dumb just wanted to know UM now everything the packaging and everything i've kept it in the original thing so perfect dragon everything is in practice perfect thank you so very much\", reason=ResultReason.RecognizingSpeech))\n",
      "RECOGNIZING: SpeechRecognitionEventArgs(session_id=38f398c8753441dea4b350f98df1f51f, result=SpeechRecognitionResult(result_id=43452849cbdd401cb490c68fc917db40, text=\"he's not initial and dumb just wanted to know UM now everything the packaging and everything i've kept it in the original thing so perfect dragon everything is in practice perfect thank you so very much thank you\", reason=ResultReason.RecognizingSpeech))\n",
      "RECOGNIZING: SpeechRecognitionEventArgs(session_id=38f398c8753441dea4b350f98df1f51f, result=SpeechRecognitionResult(result_id=6d923a02927f4345aa8882a7c4e417d8, text=\"he's not initial and dumb just wanted to know UM now everything the packaging and everything i've kept it in the original thing so perfect dragon everything is in practice perfect thank you so very much thank you bye\", reason=ResultReason.RecognizingSpeech))\n",
      "RECOGNIZED: SpeechRecognitionEventArgs(session_id=38f398c8753441dea4b350f98df1f51f, result=SpeechRecognitionResult(result_id=73c97a07358c4df2a2cb4c5d581c4e51, text=\"Please not initial and dumb, just wanted to know, UM now everything the packaging and everything I've kept it in the original thing so perfect dragon everything is in practice perfect. Thank you so very much. Thank you bye.\", reason=ResultReason.RecognizedSpeech))\n",
      "RECOGNIZED: SpeechRecognitionEventArgs(session_id=38f398c8753441dea4b350f98df1f51f, result=SpeechRecognitionResult(result_id=d8c295053d6b451ba4f34ecb102111f4, text=\"\", reason=ResultReason.RecognizedSpeech))\n",
      "CANCELED SpeechRecognitionCanceledEventArgs(session_id=38f398c8753441dea4b350f98df1f51f, result=SpeechRecognitionResult(result_id=0c0e7f99bd864f24a98f28a34d089e43, text=\"\", reason=ResultReason.Canceled))\n",
      "CLOSING on SpeechRecognitionCanceledEventArgs(session_id=38f398c8753441dea4b350f98df1f51f, result=SpeechRecognitionResult(result_id=0c0e7f99bd864f24a98f28a34d089e43, text=\"\", reason=ResultReason.Canceled))\n",
      "SESSION STOPPED SessionEventArgs(session_id=38f398c8753441dea4b350f98df1f51f)\n",
      "CLOSING on SessionEventArgs(session_id=38f398c8753441dea4b350f98df1f51f)\n",
      "Printing all results:\n",
      "[\"And how is wearing a UM as any? Is there anybody who's going to come and pick up? So yes, this will be picked up a we are Courier partner and uh, when he comes there to pick it up. That is the same time he's delivered a replacement ice cream. So I'm putting in a request for the Excel sign for the cropped or anything else apart from this. No, that's about it. Thank you so very much. I don't. Sorry go ahead. Yeah, you may expect to arrive in another two to three working.\", \"Please not initial and dumb, just wanted to know, UM now everything the packaging and everything I've kept it in the original thing so perfect dragon everything is in practice perfect. Thank you so very much. Thank you bye.\", '']\n"
     ]
    }
   ],
   "source": [
    "speech_to_text()"
   ]
  },
  {
   "cell_type": "code",
   "execution_count": 58,
   "id": "c9a6eb43",
   "metadata": {},
   "outputs": [],
   "source": [
    "with open(\"original_text.txt\", \"w\") as text_file:\n",
    "            text_file.write(all_results[0])"
   ]
  },
  {
   "cell_type": "code",
   "execution_count": 45,
   "id": "6243ffa9",
   "metadata": {},
   "outputs": [
    {
     "data": {
      "text/plain": [
       "[]"
      ]
     },
     "execution_count": 45,
     "metadata": {},
     "output_type": "execute_result"
    }
   ],
   "source": [
    "all_results"
   ]
  },
  {
   "cell_type": "code",
   "execution_count": null,
   "id": "a68a5f3e",
   "metadata": {},
   "outputs": [],
   "source": []
  }
 ],
 "metadata": {
  "kernelspec": {
   "display_name": "Python 3 (ipykernel)",
   "language": "python",
   "name": "python3"
  },
  "language_info": {
   "codemirror_mode": {
    "name": "ipython",
    "version": 3
   },
   "file_extension": ".py",
   "mimetype": "text/x-python",
   "name": "python",
   "nbconvert_exporter": "python",
   "pygments_lexer": "ipython3",
   "version": "3.8.12"
  }
 },
 "nbformat": 4,
 "nbformat_minor": 5
}
