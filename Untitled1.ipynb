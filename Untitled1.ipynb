{
 "cells": [
  {
   "cell_type": "code",
   "execution_count": 59,
   "id": "c9c942e1",
   "metadata": {},
   "outputs": [],
   "source": [
    "import azure.cognitiveservices.speech as speechsdk"
   ]
  },
  {
   "cell_type": "code",
   "execution_count": 60,
   "id": "39449708",
   "metadata": {},
   "outputs": [],
   "source": [
    "import time\n",
    "import datetime"
   ]
  },
  {
   "cell_type": "code",
   "execution_count": 61,
   "id": "dcd5d1e9",
   "metadata": {},
   "outputs": [],
   "source": [
    "speech_key, service_region = \"4b73fedba5bf4049a6582a399123d50d\", \"centralus\"\n",
    "speech_config = speechsdk.SpeechConfig(subscription=speech_key, region=service_region)\n"
   ]
  },
  {
   "cell_type": "code",
   "execution_count": 62,
   "id": "22232882",
   "metadata": {},
   "outputs": [],
   "source": [
    "audio_filename = \"5.wav\"\n",
    "audio_input = speechsdk.audio.AudioConfig(filename=audio_filename)"
   ]
  },
  {
   "cell_type": "code",
   "execution_count": 63,
   "id": "23606d41",
   "metadata": {},
   "outputs": [],
   "source": [
    "speech_config.speech_recognition_language=\"en-US\"\n",
    "speech_config.request_word_level_timestamps()\n",
    "speech_config.enable_dictation()\n",
    "speech_config.output_format = speechsdk.OutputFormat(1)"
   ]
  },
  {
   "cell_type": "code",
   "execution_count": 64,
   "id": "f38b64e3",
   "metadata": {},
   "outputs": [],
   "source": [
    "speech_recognizer = speechsdk.SpeechRecognizer(speech_config=speech_config, audio_config=audio_input)"
   ]
  },
  {
   "cell_type": "code",
   "execution_count": 65,
   "id": "4a219f6e",
   "metadata": {},
   "outputs": [],
   "source": [
    "all_results = []\n"
   ]
  },
  {
   "cell_type": "code",
   "execution_count": 66,
   "id": "83b5ec32",
   "metadata": {},
   "outputs": [],
   "source": [
    "def handle_final_result(evt):\n",
    "    all_results.append(evt.result.text) "
   ]
  },
  {
   "cell_type": "code",
   "execution_count": 67,
   "id": "a22f28d4",
   "metadata": {},
   "outputs": [],
   "source": [
    "done = False\n",
    "\n",
    "def stop_cb(evt):\n",
    "    print('CLOSING on {}'.format(evt))\n",
    "    speech_recognizer.stop_continuous_recognition()\n",
    "    global done\n",
    "    done= True"
   ]
  },
  {
   "cell_type": "code",
   "execution_count": 68,
   "id": "11fe6344",
   "metadata": {},
   "outputs": [],
   "source": [
    "speech_recognizer.recognized.connect(handle_final_result) "
   ]
  },
  {
   "cell_type": "code",
   "execution_count": 69,
   "id": "994108ec",
   "metadata": {},
   "outputs": [
    {
     "name": "stdout",
     "output_type": "stream",
     "text": [
      "SESSION STARTED: SessionEventArgs(session_id=d01628922d8443a285c9776981120383)\n",
      "RECOGNIZING: SpeechRecognitionEventArgs(session_id=d01628922d8443a285c9776981120383, result=SpeechRecognitionResult(result_id=3ce1326c7cfb4241881986520a76e58e, text=\"and how\", reason=ResultReason.RecognizingSpeech))\n",
      "RECOGNIZING: SpeechRecognitionEventArgs(session_id=d01628922d8443a285c9776981120383, result=SpeechRecognitionResult(result_id=5ed4c0d7d98246d9a5ae6746d8333bce, text=\"and how is\", reason=ResultReason.RecognizingSpeech))\n",
      "RECOGNIZING: SpeechRecognitionEventArgs(session_id=d01628922d8443a285c9776981120383, result=SpeechRecognitionResult(result_id=d467ae1080734378bba9de732ab7eaea, text=\"and how's\", reason=ResultReason.RecognizingSpeech))\n",
      "RECOGNIZING: SpeechRecognitionEventArgs(session_id=d01628922d8443a285c9776981120383, result=SpeechRecognitionResult(result_id=14d44c4930074a73a8bdd0fc424a37f4, text=\"and how is wearing a\", reason=ResultReason.RecognizingSpeech))\n",
      "RECOGNIZING: SpeechRecognitionEventArgs(session_id=d01628922d8443a285c9776981120383, result=SpeechRecognitionResult(result_id=f109b2d540b348caa0c4c2d227762d55, text=\"and how is wearing a a\", reason=ResultReason.RecognizingSpeech))\n",
      "RECOGNIZING: SpeechRecognitionEventArgs(session_id=d01628922d8443a285c9776981120383, result=SpeechRecognitionResult(result_id=276d2d89fba34c7d9ae4159a361c6eb7, text=\"and how is wearing a a maza\", reason=ResultReason.RecognizingSpeech))\n",
      "RECOGNIZING: SpeechRecognitionEventArgs(session_id=d01628922d8443a285c9776981120383, result=SpeechRecognitionResult(result_id=ec349f72d2664927a4f12ecbf6138b90, text=\"and how is wearing a a mazon\", reason=ResultReason.RecognizingSpeech))\n",
      "RECOGNIZING: SpeechRecognitionEventArgs(session_id=d01628922d8443a285c9776981120383, result=SpeechRecognitionResult(result_id=e5b2c9a4e354439fa7704575669b30ed, text=\"and how is wearing a UM as any is there\", reason=ResultReason.RecognizingSpeech))\n",
      "RECOGNIZING: SpeechRecognitionEventArgs(session_id=d01628922d8443a285c9776981120383, result=SpeechRecognitionResult(result_id=a5e46752b976433d8cb11b772852f87f, text=\"and how is wearing a UM as any is there anybody who\", reason=ResultReason.RecognizingSpeech))\n",
      "RECOGNIZING: SpeechRecognitionEventArgs(session_id=d01628922d8443a285c9776981120383, result=SpeechRecognitionResult(result_id=9b6ae5e1010a4c3984e38493a4af7574, text=\"and how is wearing a UM as any is there anybody who's going to\", reason=ResultReason.RecognizingSpeech))\n",
      "RECOGNIZING: SpeechRecognitionEventArgs(session_id=d01628922d8443a285c9776981120383, result=SpeechRecognitionResult(result_id=ea8f5ae6aa2c41c2853b104699248e8c, text=\"and how is wearing a UM as any is there anybody who's going to come in\", reason=ResultReason.RecognizingSpeech))\n",
      "RECOGNIZING: SpeechRecognitionEventArgs(session_id=d01628922d8443a285c9776981120383, result=SpeechRecognitionResult(result_id=a87c64c701ef4fc3aa39f0a5a5c8981b, text=\"and how is wearing a UM as any is there anybody who's going to come and pick\", reason=ResultReason.RecognizingSpeech))\n",
      "RECOGNIZING: SpeechRecognitionEventArgs(session_id=d01628922d8443a285c9776981120383, result=SpeechRecognitionResult(result_id=80720af49fa34dd19b15aa2924ac8f95, text=\"and how is wearing a UM as any is there anybody who's going to come and pick up\", reason=ResultReason.RecognizingSpeech))\n",
      "RECOGNIZING: SpeechRecognitionEventArgs(session_id=d01628922d8443a285c9776981120383, result=SpeechRecognitionResult(result_id=7eeae3d22ffb4d0fbded38ed99d1eb5d, text=\"and how is wearing a UM as any is there anybody who's going to come and pick up so\", reason=ResultReason.RecognizingSpeech))\n",
      "RECOGNIZING: SpeechRecognitionEventArgs(session_id=d01628922d8443a285c9776981120383, result=SpeechRecognitionResult(result_id=d28e5d5df6db4e90b7ed21114e121d83, text=\"and how is wearing a UM as any is there anybody who's going to come and pick up so yes\", reason=ResultReason.RecognizingSpeech))\n",
      "RECOGNIZING: SpeechRecognitionEventArgs(session_id=d01628922d8443a285c9776981120383, result=SpeechRecognitionResult(result_id=bfc053250ca040cb948b4b50f46e826b, text=\"and how is wearing a UM as any is there anybody who's going to come and pick up so yes this\", reason=ResultReason.RecognizingSpeech))\n",
      "RECOGNIZING: SpeechRecognitionEventArgs(session_id=d01628922d8443a285c9776981120383, result=SpeechRecognitionResult(result_id=10462bbb6de74d85af2daf827abfe01f, text=\"and how is wearing a UM as any is there anybody who's going to come and pick up so yes this will be\", reason=ResultReason.RecognizingSpeech))\n",
      "RECOGNIZING: SpeechRecognitionEventArgs(session_id=d01628922d8443a285c9776981120383, result=SpeechRecognitionResult(result_id=e50332bc60af4ba99b35fe2fecae0fc0, text=\"and how is wearing a UM as any is there anybody who's going to come and pick up so yes this will be picked up\", reason=ResultReason.RecognizingSpeech))\n",
      "RECOGNIZING: SpeechRecognitionEventArgs(session_id=d01628922d8443a285c9776981120383, result=SpeechRecognitionResult(result_id=1c8d6454da6d45739599100d24e582aa, text=\"and how is wearing a UM as any is there anybody who's going to come and pick up so yes this will be picked up a\", reason=ResultReason.RecognizingSpeech))\n",
      "RECOGNIZING: SpeechRecognitionEventArgs(session_id=d01628922d8443a285c9776981120383, result=SpeechRecognitionResult(result_id=96e987116e024f5eb8a45310a973a0ef, text=\"and how is wearing a UM as any is there anybody who's going to come and pick up so yes this will be picked up a we are\", reason=ResultReason.RecognizingSpeech))\n",
      "RECOGNIZING: SpeechRecognitionEventArgs(session_id=d01628922d8443a285c9776981120383, result=SpeechRecognitionResult(result_id=3172dc7fd76d4525aa92ca01016d527d, text=\"and how is wearing a UM as any is there anybody who's going to come and pick up so yes this will be picked up a we are career\", reason=ResultReason.RecognizingSpeech))\n",
      "RECOGNIZING: SpeechRecognitionEventArgs(session_id=d01628922d8443a285c9776981120383, result=SpeechRecognitionResult(result_id=11e7a01aae9742888ef4a13b4f6d4d10, text=\"and how is wearing a UM as any is there anybody who's going to come and pick up so yes this will be picked up a we are courier partner\", reason=ResultReason.RecognizingSpeech))\n",
      "RECOGNIZING: SpeechRecognitionEventArgs(session_id=d01628922d8443a285c9776981120383, result=SpeechRecognitionResult(result_id=056afffc720d4849901c54867d0362c7, text=\"and how is wearing a UM as any is there anybody who's going to come and pick up so yes this will be picked up a we are courier partner and\", reason=ResultReason.RecognizingSpeech))\n",
      "RECOGNIZING: SpeechRecognitionEventArgs(session_id=d01628922d8443a285c9776981120383, result=SpeechRecognitionResult(result_id=551f13539bc74973a62b277a2014a8bd, text=\"and how is wearing a UM as any is there anybody who's going to come and pick up so yes this will be picked up a we are courier partner and a\", reason=ResultReason.RecognizingSpeech))\n",
      "RECOGNIZING: SpeechRecognitionEventArgs(session_id=d01628922d8443a285c9776981120383, result=SpeechRecognitionResult(result_id=689e28d2a9ae4b6f9e0b77bbe289e519, text=\"and how is wearing a UM as any is there anybody who's going to come and pick up so yes this will be picked up a we are courier partner and uh\", reason=ResultReason.RecognizingSpeech))\n",
      "RECOGNIZING: SpeechRecognitionEventArgs(session_id=d01628922d8443a285c9776981120383, result=SpeechRecognitionResult(result_id=36b767f93b6f413b835a2f78a42e454e, text=\"and how is wearing a UM as any is there anybody who's going to come and pick up so yes this will be picked up a we are courier partner and a\", reason=ResultReason.RecognizingSpeech))\n",
      "RECOGNIZING: SpeechRecognitionEventArgs(session_id=d01628922d8443a285c9776981120383, result=SpeechRecognitionResult(result_id=34b1c1554b824d3cb781bc71ace1d6e9, text=\"and how is wearing a UM as any is there anybody who's going to come and pick up so yes this will be picked up a we are courier partner and uh when he\", reason=ResultReason.RecognizingSpeech))\n",
      "RECOGNIZING: SpeechRecognitionEventArgs(session_id=d01628922d8443a285c9776981120383, result=SpeechRecognitionResult(result_id=40abb327a4a64aa5b9f485c522da9d60, text=\"and how is wearing a UM as any is there anybody who's going to come and pick up so yes this will be picked up a we are courier partner and uh when he comes\", reason=ResultReason.RecognizingSpeech))\n",
      "RECOGNIZING: SpeechRecognitionEventArgs(session_id=d01628922d8443a285c9776981120383, result=SpeechRecognitionResult(result_id=e70456fc73314f0e81fbd4c392205aa8, text=\"and how is wearing a UM as any is there anybody who's going to come and pick up so yes this will be picked up a we are courier partner and uh when he comes there to pick\", reason=ResultReason.RecognizingSpeech))\n"
     ]
    },
    {
     "name": "stdout",
     "output_type": "stream",
     "text": [
      "RECOGNIZING: SpeechRecognitionEventArgs(session_id=d01628922d8443a285c9776981120383, result=SpeechRecognitionResult(result_id=cbe6ee18c88642268d851c5a875a2bc5, text=\"and how is wearing a UM as any is there anybody who's going to come and pick up so yes this will be picked up a we are courier partner and uh when he comes there to pick it up there\", reason=ResultReason.RecognizingSpeech))\n",
      "RECOGNIZING: SpeechRecognitionEventArgs(session_id=d01628922d8443a285c9776981120383, result=SpeechRecognitionResult(result_id=3fc4c419156d401baa639f4c4bcb82a1, text=\"and how is wearing a UM as any is there anybody who's going to come and pick up so yes this will be picked up a we are courier partner and uh when he comes there to pick it up that is the\", reason=ResultReason.RecognizingSpeech))\n",
      "RECOGNIZING: SpeechRecognitionEventArgs(session_id=d01628922d8443a285c9776981120383, result=SpeechRecognitionResult(result_id=1632c4dbfd394c86835acef67e141330, text=\"and how is wearing a UM as any is there anybody who's going to come and pick up so yes this will be picked up a we are courier partner and uh when he comes there to pick it up that is the same\", reason=ResultReason.RecognizingSpeech))\n",
      "RECOGNIZING: SpeechRecognitionEventArgs(session_id=d01628922d8443a285c9776981120383, result=SpeechRecognitionResult(result_id=654c219c01614113bb07bf05e8d996c2, text=\"and how is wearing a UM as any is there anybody who's going to come and pick up so yes this will be picked up a we are courier partner and uh when he comes there to pick it up that is the same time he's done\", reason=ResultReason.RecognizingSpeech))\n",
      "RECOGNIZING: SpeechRecognitionEventArgs(session_id=d01628922d8443a285c9776981120383, result=SpeechRecognitionResult(result_id=849bdcb188394233aa2b07c69f62abe5, text=\"and how is wearing a UM as any is there anybody who's going to come and pick up so yes this will be picked up a we are courier partner and uh when he comes there to pick it up that is the same time he'll deliver the\", reason=ResultReason.RecognizingSpeech))\n",
      "RECOGNIZING: SpeechRecognitionEventArgs(session_id=d01628922d8443a285c9776981120383, result=SpeechRecognitionResult(result_id=a83ff3a47361427ab9ca479c528692db, text=\"and how is wearing a UM as any is there anybody who's going to come and pick up so yes this will be picked up a we are courier partner and uh when he comes there to pick it up that is the same time he'll deliver the replacement right\", reason=ResultReason.RecognizingSpeech))\n",
      "RECOGNIZING: SpeechRecognitionEventArgs(session_id=d01628922d8443a285c9776981120383, result=SpeechRecognitionResult(result_id=a77bd397ba2644a2993bbb276c518ace, text=\"and how is wearing a UM as any is there anybody who's going to come and pick up so yes this will be picked up a we are courier partner and uh when he comes there to pick it up that is the same time he's delivered a replacement ice cream\", reason=ResultReason.RecognizingSpeech))\n",
      "RECOGNIZING: SpeechRecognitionEventArgs(session_id=d01628922d8443a285c9776981120383, result=SpeechRecognitionResult(result_id=07e3e02f029c47398f046d0c11a21377, text=\"and how is wearing a UM as any is there anybody who's going to come and pick up so yes this will be picked up a we are courier partner and uh when he comes there to pick it up that is the same time he's delivered a replacement ice cream so i'm\", reason=ResultReason.RecognizingSpeech))\n",
      "RECOGNIZING: SpeechRecognitionEventArgs(session_id=d01628922d8443a285c9776981120383, result=SpeechRecognitionResult(result_id=2e7ba7d9814f4604be921ce3271f6252, text=\"and how is wearing a UM as any is there anybody who's going to come and pick up so yes this will be picked up a we are courier partner and uh when he comes there to pick it up that is the same time he's delivered a replacement ice cream so i'm putting\", reason=ResultReason.RecognizingSpeech))\n",
      "RECOGNIZING: SpeechRecognitionEventArgs(session_id=d01628922d8443a285c9776981120383, result=SpeechRecognitionResult(result_id=6ab050a29ab1499cb223e84bc6753617, text=\"and how is wearing a UM as any is there anybody who's going to come and pick up so yes this will be picked up a we are courier partner and uh when he comes there to pick it up that is the same time he's delivered a replacement ice cream so i'm putting in a\", reason=ResultReason.RecognizingSpeech))\n",
      "RECOGNIZING: SpeechRecognitionEventArgs(session_id=d01628922d8443a285c9776981120383, result=SpeechRecognitionResult(result_id=6a7b40538cbb424ba598e289d25e03ef, text=\"and how is wearing a UM as any is there anybody who's going to come and pick up so yes this will be picked up a we are courier partner and uh when he comes there to pick it up that is the same time he's delivered a replacement ice cream so i'm putting in a request\", reason=ResultReason.RecognizingSpeech))\n",
      "RECOGNIZING: SpeechRecognitionEventArgs(session_id=d01628922d8443a285c9776981120383, result=SpeechRecognitionResult(result_id=ef62e1bb1b874c58aadbd943e76fa4f7, text=\"and how is wearing a UM as any is there anybody who's going to come and pick up so yes this will be picked up a we are courier partner and uh when he comes there to pick it up that is the same time he's delivered a replacement ice cream so i'm putting in a request for\", reason=ResultReason.RecognizingSpeech))\n",
      "RECOGNIZING: SpeechRecognitionEventArgs(session_id=d01628922d8443a285c9776981120383, result=SpeechRecognitionResult(result_id=26047305db41427ba75f521324d58988, text=\"and how is wearing a UM as any is there anybody who's going to come and pick up so yes this will be picked up a we are courier partner and uh when he comes there to pick it up that is the same time he's delivered a replacement ice cream so i'm putting in a request for the\", reason=ResultReason.RecognizingSpeech))\n",
      "RECOGNIZING: SpeechRecognitionEventArgs(session_id=d01628922d8443a285c9776981120383, result=SpeechRecognitionResult(result_id=411dd826b349415dbd3aecdbf0e96f49, text=\"and how is wearing a UM as any is there anybody who's going to come and pick up so yes this will be picked up a we are courier partner and uh when he comes there to pick it up that is the same time he's delivered a replacement ice cream so i'm putting in a request for the excel\", reason=ResultReason.RecognizingSpeech))\n",
      "RECOGNIZING: SpeechRecognitionEventArgs(session_id=d01628922d8443a285c9776981120383, result=SpeechRecognitionResult(result_id=e859154481734312bfd8e02bcaa5f238, text=\"and how is wearing a UM as any is there anybody who's going to come and pick up so yes this will be picked up a we are courier partner and uh when he comes there to pick it up that is the same time he's delivered a replacement ice cream so i'm putting in a request for the excel size\", reason=ResultReason.RecognizingSpeech))\n",
      "RECOGNIZING: SpeechRecognitionEventArgs(session_id=d01628922d8443a285c9776981120383, result=SpeechRecognitionResult(result_id=27c55d4abaf4493a844a925bb4e89c13, text=\"and how is wearing a UM as any is there anybody who's going to come and pick up so yes this will be picked up a we are courier partner and uh when he comes there to pick it up that is the same time he's delivered a replacement ice cream so i'm putting in a request for the excel size for the crop\", reason=ResultReason.RecognizingSpeech))\n",
      "RECOGNIZING: SpeechRecognitionEventArgs(session_id=d01628922d8443a285c9776981120383, result=SpeechRecognitionResult(result_id=7222f0109a7b4d6ab1825d79a473a912, text=\"and how is wearing a UM as any is there anybody who's going to come and pick up so yes this will be picked up a we are courier partner and uh when he comes there to pick it up that is the same time he's delivered a replacement ice cream so i'm putting in a request for the excel size for the copter\", reason=ResultReason.RecognizingSpeech))\n",
      "RECOGNIZING: SpeechRecognitionEventArgs(session_id=d01628922d8443a285c9776981120383, result=SpeechRecognitionResult(result_id=8727580c95024672a83fb75eb51432b9, text=\"and how is wearing a UM as any is there anybody who's going to come and pick up so yes this will be picked up a we are courier partner and uh when he comes there to pick it up that is the same time he's delivered a replacement ice cream so i'm putting in a request for the excel size for the crop top\", reason=ResultReason.RecognizingSpeech))\n"
     ]
    },
    {
     "name": "stdout",
     "output_type": "stream",
     "text": [
      "RECOGNIZING: SpeechRecognitionEventArgs(session_id=d01628922d8443a285c9776981120383, result=SpeechRecognitionResult(result_id=908f59924f784184a2d92f789d609d6f, text=\"and how is wearing a UM as any is there anybody who's going to come and pick up so yes this will be picked up a we are courier partner and uh when he comes there to pick it up that is the same time he's delivered a replacement ice cream so i'm putting in a request for the excel size for the cropped or anything\", reason=ResultReason.RecognizingSpeech))\n",
      "RECOGNIZING: SpeechRecognitionEventArgs(session_id=d01628922d8443a285c9776981120383, result=SpeechRecognitionResult(result_id=44b8a3d373ad407d85b289152dfcac10, text=\"and how is wearing a UM as any is there anybody who's going to come and pick up so yes this will be picked up a we are courier partner and uh when he comes there to pick it up that is the same time he's delivered a replacement ice cream so i'm putting in a request for the excel size for the cropped or anything else\", reason=ResultReason.RecognizingSpeech))\n",
      "RECOGNIZING: SpeechRecognitionEventArgs(session_id=d01628922d8443a285c9776981120383, result=SpeechRecognitionResult(result_id=94870be1710549b2879dfd98ffe4c8db, text=\"and how is wearing a UM as any is there anybody who's going to come and pick up so yes this will be picked up a we are courier partner and uh when he comes there to pick it up that is the same time he's delivered a replacement ice cream so i'm putting in a request for the excel size for the crop top yeah anything else apart\", reason=ResultReason.RecognizingSpeech))\n",
      "RECOGNIZING: SpeechRecognitionEventArgs(session_id=d01628922d8443a285c9776981120383, result=SpeechRecognitionResult(result_id=1562b466fb2048f6ba98ab070b9b50bc, text=\"and how is wearing a UM as any is there anybody who's going to come and pick up so yes this will be picked up a we are courier partner and uh when he comes there to pick it up that is the same time he's delivered a replacement ice cream so i'm putting in a request for the excel size for the crop top yeah anything else apart from this\", reason=ResultReason.RecognizingSpeech))\n",
      "RECOGNIZING: SpeechRecognitionEventArgs(session_id=d01628922d8443a285c9776981120383, result=SpeechRecognitionResult(result_id=ccd4711fb56744d79482db2a4f130dfa, text=\"and how is wearing a UM as any is there anybody who's going to come and pick up so yes this will be picked up a we are courier partner and uh when he comes there to pick it up that is the same time he's delivered a replacement ice cream so i'm putting in a request for the excel size for the crop top yeah anything else apart from this no\", reason=ResultReason.RecognizingSpeech))\n",
      "RECOGNIZING: SpeechRecognitionEventArgs(session_id=d01628922d8443a285c9776981120383, result=SpeechRecognitionResult(result_id=d124b09623154304b4af8de6f3d07398, text=\"and how is wearing a UM as any is there anybody who's going to come and pick up so yes this will be picked up a we are courier partner and uh when he comes there to pick it up that is the same time he's delivered a replacement ice cream so i'm putting in a request for the excel size for the crop top yeah anything else apart from this no that's\", reason=ResultReason.RecognizingSpeech))\n",
      "RECOGNIZING: SpeechRecognitionEventArgs(session_id=d01628922d8443a285c9776981120383, result=SpeechRecognitionResult(result_id=3f264f8419354a0b8f87341e64ae35b2, text=\"and how is wearing a UM as any is there anybody who's going to come and pick up so yes this will be picked up a we are courier partner and uh when he comes there to pick it up that is the same time he's delivered a replacement ice cream so i'm putting in a request for the excel size for the crop top yeah anything else apart from this no that's about it\", reason=ResultReason.RecognizingSpeech))\n",
      "RECOGNIZING: SpeechRecognitionEventArgs(session_id=d01628922d8443a285c9776981120383, result=SpeechRecognitionResult(result_id=c69b9aded52f453182aa76e9c14df3b4, text=\"and how is wearing a UM as any is there anybody who's going to come and pick up so yes this will be picked up a we are courier partner and uh when he comes there to pick it up that is the same time he's delivered a replacement ice cream so i'm putting in a request for the excel size for the crop top yeah anything else apart from this no that's about it thank you\", reason=ResultReason.RecognizingSpeech))\n",
      "RECOGNIZING: SpeechRecognitionEventArgs(session_id=d01628922d8443a285c9776981120383, result=SpeechRecognitionResult(result_id=18bcf6627f9f4e22898b53d94968ce5c, text=\"and how is wearing a UM as any is there anybody who's going to come and pick up so yes this will be picked up a we are courier partner and uh when he comes there to pick it up that is the same time he's delivered a replacement ice cream so i'm putting in a request for the excel size for the crop top yeah anything else apart from this no that's about it thank you so\", reason=ResultReason.RecognizingSpeech))\n",
      "RECOGNIZING: SpeechRecognitionEventArgs(session_id=d01628922d8443a285c9776981120383, result=SpeechRecognitionResult(result_id=a4fd95f0ea1245199b536c4baa4d5244, text=\"and how is wearing a UM as any is there anybody who's going to come and pick up so yes this will be picked up a we are courier partner and uh when he comes there to pick it up that is the same time he's delivered a replacement ice cream so i'm putting in a request for the excel size for the crop top yeah anything else apart from this no that's about it thank you so very much\", reason=ResultReason.RecognizingSpeech))\n",
      "RECOGNIZING: SpeechRecognitionEventArgs(session_id=d01628922d8443a285c9776981120383, result=SpeechRecognitionResult(result_id=8521e36bf60e4977a17ff88f3dee07bc, text=\"and how is wearing a UM as any is there anybody who's going to come and pick up so yes this will be picked up a we are courier partner and uh when he comes there to pick it up that is the same time he's delivered a replacement ice cream so i'm putting in a request for the excel size for the crop top yeah anything else apart from this no that's about it thank you so very much problem you make i don't\", reason=ResultReason.RecognizingSpeech))\n",
      "RECOGNIZING: SpeechRecognitionEventArgs(session_id=d01628922d8443a285c9776981120383, result=SpeechRecognitionResult(result_id=8577327c3efb4f839c1930777f6dee23, text=\"and how is wearing a UM as any is there anybody who's going to come and pick up so yes this will be picked up a we are courier partner and uh when he comes there to pick it up that is the same time he's delivered a replacement ice cream so i'm putting in a request for the excel size for the crop top yeah anything else apart from this no that's about it thank you so very much problem you make i don't sorry go ahead\", reason=ResultReason.RecognizingSpeech))\n",
      "RECOGNIZING: SpeechRecognitionEventArgs(session_id=d01628922d8443a285c9776981120383, result=SpeechRecognitionResult(result_id=b6e18514b0bd43c99bfc3df13621c1e3, text=\"and how is wearing a UM as any is there anybody who's going to come and pick up so yes this will be picked up a we are courier partner and uh when he comes there to pick it up that is the same time he's delivered a replacement ice cream so i'm putting in a request for the excel size for the crop top yeah anything else apart from this no that's about it thank you so very much problem you make i don't sorry go ahead yeah\", reason=ResultReason.RecognizingSpeech))\n",
      "RECOGNIZING: SpeechRecognitionEventArgs(session_id=d01628922d8443a285c9776981120383, result=SpeechRecognitionResult(result_id=5d5ea2dd6a954712ac335b4bd1cc3376, text=\"and how is wearing a UM as any is there anybody who's going to come and pick up so yes this will be picked up a we are courier partner and uh when he comes there to pick it up that is the same time he's delivered a replacement ice cream so i'm putting in a request for the excel size for the crop top yeah anything else apart from this no that's about it thank you so very much problem you make i don't sorry go ahead yeah you may expect\", reason=ResultReason.RecognizingSpeech))\n",
      "RECOGNIZING: SpeechRecognitionEventArgs(session_id=d01628922d8443a285c9776981120383, result=SpeechRecognitionResult(result_id=c28c4b968f7b485ebfdfca66a41c9faa, text=\"and how is wearing a UM as any is there anybody who's going to come and pick up so yes this will be picked up a we are courier partner and uh when he comes there to pick it up that is the same time he's delivered a replacement ice cream so i'm putting in a request for the excel size for the crop top yeah anything else apart from this no that's about it thank you so very much problem you make i don't sorry go ahead yeah you may expect to arrive\", reason=ResultReason.RecognizingSpeech))\n"
     ]
    },
    {
     "name": "stdout",
     "output_type": "stream",
     "text": [
      "RECOGNIZING: SpeechRecognitionEventArgs(session_id=d01628922d8443a285c9776981120383, result=SpeechRecognitionResult(result_id=a625e12b1aad45d59e5d9ce962f30122, text=\"and how is wearing a UM as any is there anybody who's going to come and pick up so yes this will be picked up a we are courier partner and uh when he comes there to pick it up that is the same time he's delivered a replacement ice cream so i'm putting in a request for the excel size for the crop top yeah anything else apart from this no that's about it thank you so very much problem you make i don't sorry go ahead yeah you may expect to arrive in\", reason=ResultReason.RecognizingSpeech))\n",
      "RECOGNIZING: SpeechRecognitionEventArgs(session_id=d01628922d8443a285c9776981120383, result=SpeechRecognitionResult(result_id=bccf8fa1fd8d430c8fc5f9adb74b3fff, text=\"and how is wearing a UM as any is there anybody who's going to come and pick up so yes this will be picked up a we are courier partner and uh when he comes there to pick it up that is the same time he's delivered a replacement ice cream so i'm putting in a request for the excel size for the crop top yeah anything else apart from this no that's about it thank you so very much problem you make i don't sorry go ahead yeah you may expect to arrive in another two to\", reason=ResultReason.RecognizingSpeech))\n",
      "RECOGNIZING: SpeechRecognitionEventArgs(session_id=d01628922d8443a285c9776981120383, result=SpeechRecognitionResult(result_id=9b25ddcaa4d04642acaa50884262c24c, text=\"and how is wearing a UM as any is there anybody who's going to come and pick up so yes this will be picked up a we are courier partner and uh when he comes there to pick it up that is the same time he's delivered a replacement ice cream so i'm putting in a request for the excel size for the crop top yeah anything else apart from this no that's about it thank you so very much problem you make i don't sorry go ahead yeah you may expect to arrive in another two to three\", reason=ResultReason.RecognizingSpeech))\n",
      "RECOGNIZING: SpeechRecognitionEventArgs(session_id=d01628922d8443a285c9776981120383, result=SpeechRecognitionResult(result_id=7127a550b0564125bc3433a68cf89aaa, text=\"and how is wearing a UM as any is there anybody who's going to come and pick up so yes this will be picked up a we are courier partner and uh when he comes there to pick it up that is the same time he's delivered a replacement ice cream so i'm putting in a request for the excel size for the crop top yeah anything else apart from this no that's about it thank you so very much problem you make i don't sorry go ahead yeah you may expect to arrive in another two to three working\", reason=ResultReason.RecognizingSpeech))\n",
      "RECOGNIZED: SpeechRecognitionEventArgs(session_id=d01628922d8443a285c9776981120383, result=SpeechRecognitionResult(result_id=46a0ffde7a0340d3ba4b87d94133b9fb, text=\"And how is wearing a UM as any? Is there anybody who's going to come and pick up? So yes, this will be picked up a we are Courier partner and uh, when he comes there to pick it up. That is the same time he's delivered a replacement ice cream. So I'm putting in a request for the Excel sign for the crop top. Yeah, anything else apart from this? No, that's about it. Thank you so very much problem you make. I don't sorry go ahead. Yeah, you may expect to arrive in another two to three working.\", reason=ResultReason.RecognizedSpeech))\n",
      "RECOGNIZING: SpeechRecognitionEventArgs(session_id=d01628922d8443a285c9776981120383, result=SpeechRecognitionResult(result_id=81b150907bd4439c95a3fe540249be4e, text=\"wait\", reason=ResultReason.RecognizingSpeech))\n",
      "RECOGNIZING: SpeechRecognitionEventArgs(session_id=d01628922d8443a285c9776981120383, result=SpeechRecognitionResult(result_id=1e1bd152a73b40fca3e8b70d75d04edc, text=\"right now\", reason=ResultReason.RecognizingSpeech))\n",
      "RECOGNIZING: SpeechRecognitionEventArgs(session_id=d01628922d8443a285c9776981120383, result=SpeechRecognitionResult(result_id=dba91cdbf93c4f17a9b89b873ec37316, text=\"he's not\", reason=ResultReason.RecognizingSpeech))\n",
      "RECOGNIZING: SpeechRecognitionEventArgs(session_id=d01628922d8443a285c9776981120383, result=SpeechRecognitionResult(result_id=1ecf2eec7fd946799fa97c5593f8cfb9, text=\"he's not initial\", reason=ResultReason.RecognizingSpeech))\n",
      "RECOGNIZING: SpeechRecognitionEventArgs(session_id=d01628922d8443a285c9776981120383, result=SpeechRecognitionResult(result_id=7063de40bea04efb88509e9490487396, text=\"he's not initially and\", reason=ResultReason.RecognizingSpeech))\n",
      "RECOGNIZING: SpeechRecognitionEventArgs(session_id=d01628922d8443a285c9776981120383, result=SpeechRecognitionResult(result_id=7cead6356c114ffdbf67846c8ee10c71, text=\"he's not initial and dumb\", reason=ResultReason.RecognizingSpeech))\n",
      "RECOGNIZING: SpeechRecognitionEventArgs(session_id=d01628922d8443a285c9776981120383, result=SpeechRecognitionResult(result_id=9b8c631dcb3f454fabdc7f19188a2072, text=\"he's not initial and dumb just\", reason=ResultReason.RecognizingSpeech))\n",
      "RECOGNIZING: SpeechRecognitionEventArgs(session_id=d01628922d8443a285c9776981120383, result=SpeechRecognitionResult(result_id=1a1b7adf7b6d413a9ff00380476620df, text=\"he's not initial and dumb just wanted to know\", reason=ResultReason.RecognizingSpeech))\n",
      "RECOGNIZING: SpeechRecognitionEventArgs(session_id=d01628922d8443a285c9776981120383, result=SpeechRecognitionResult(result_id=1d2785b733f24ced87c83fac507e1e38, text=\"he's not initial and dumb just wanted to know UM\", reason=ResultReason.RecognizingSpeech))\n",
      "RECOGNIZING: SpeechRecognitionEventArgs(session_id=d01628922d8443a285c9776981120383, result=SpeechRecognitionResult(result_id=f76914ed7b5d4c76bebde8db1741f261, text=\"he's not initial and dumb just wanted to know UM now everything\", reason=ResultReason.RecognizingSpeech))\n",
      "RECOGNIZING: SpeechRecognitionEventArgs(session_id=d01628922d8443a285c9776981120383, result=SpeechRecognitionResult(result_id=056bc53930144f19b0b51069cfb83700, text=\"he's not initial and dumb just wanted to know UM now everything the packaging\", reason=ResultReason.RecognizingSpeech))\n",
      "RECOGNIZING: SpeechRecognitionEventArgs(session_id=d01628922d8443a285c9776981120383, result=SpeechRecognitionResult(result_id=f9db45e12e444b3bb8aa0cbaa4cb9f31, text=\"he's not initial and dumb just wanted to know UM now everything the packaging and everything\", reason=ResultReason.RecognizingSpeech))\n",
      "RECOGNIZING: SpeechRecognitionEventArgs(session_id=d01628922d8443a285c9776981120383, result=SpeechRecognitionResult(result_id=098e7f88817e4b29a4fa6db49e910218, text=\"he's not initial and dumb just wanted to know UM now everything the packaging and everything i've kept it in\", reason=ResultReason.RecognizingSpeech))\n",
      "RECOGNIZING: SpeechRecognitionEventArgs(session_id=d01628922d8443a285c9776981120383, result=SpeechRecognitionResult(result_id=e7f472d0a09c4e08b1858b3530bad8e6, text=\"he's not initial and dumb just wanted to know UM now everything the packaging and everything i've kept it in the\", reason=ResultReason.RecognizingSpeech))\n",
      "RECOGNIZING: SpeechRecognitionEventArgs(session_id=d01628922d8443a285c9776981120383, result=SpeechRecognitionResult(result_id=8a9a34ba6a834915aab3c875a50b025a, text=\"he's not initial and dumb just wanted to know UM now everything the packaging and everything i've kept it in the version\", reason=ResultReason.RecognizingSpeech))\n",
      "RECOGNIZING: SpeechRecognitionEventArgs(session_id=d01628922d8443a285c9776981120383, result=SpeechRecognitionResult(result_id=927837fc44e74836b841c5d4c274ce6d, text=\"he's not initial and dumb just wanted to know UM now everything the packaging and everything i've kept it in the original thing\", reason=ResultReason.RecognizingSpeech))\n",
      "RECOGNIZING: SpeechRecognitionEventArgs(session_id=d01628922d8443a285c9776981120383, result=SpeechRecognitionResult(result_id=28fb1da4267541728148479bd04e5eb2, text=\"he's not initial and dumb just wanted to know UM now everything the packaging and everything i've kept it in the original thing so\", reason=ResultReason.RecognizingSpeech))\n",
      "RECOGNIZING: SpeechRecognitionEventArgs(session_id=d01628922d8443a285c9776981120383, result=SpeechRecognitionResult(result_id=134e87c50b77460883c312469c407dc2, text=\"he's not initial and dumb just wanted to know UM now everything the packaging and everything i've kept it in the original thing so perfect\", reason=ResultReason.RecognizingSpeech))\n"
     ]
    },
    {
     "name": "stdout",
     "output_type": "stream",
     "text": [
      "RECOGNIZING: SpeechRecognitionEventArgs(session_id=d01628922d8443a285c9776981120383, result=SpeechRecognitionResult(result_id=63d653170b564f0f89fa9835949346ff, text=\"he's not initial and dumb just wanted to know UM now everything the packaging and everything i've kept it in the original thing so perfect dragon everything is in\", reason=ResultReason.RecognizingSpeech))\n",
      "RECOGNIZING: SpeechRecognitionEventArgs(session_id=d01628922d8443a285c9776981120383, result=SpeechRecognitionResult(result_id=31340d72b97c4948b315657720f7985f, text=\"he's not initial and dumb just wanted to know UM now everything the packaging and everything i've kept it in the original thing so perfect dragon everything is in practice\", reason=ResultReason.RecognizingSpeech))\n",
      "RECOGNIZING: SpeechRecognitionEventArgs(session_id=d01628922d8443a285c9776981120383, result=SpeechRecognitionResult(result_id=18ada7ea5b944d36a2e07789d9932dca, text=\"he's not initial and dumb just wanted to know UM now everything the packaging and everything i've kept it in the original thing so perfect dragon everything is in practice perfect\", reason=ResultReason.RecognizingSpeech))\n",
      "RECOGNIZING: SpeechRecognitionEventArgs(session_id=d01628922d8443a285c9776981120383, result=SpeechRecognitionResult(result_id=1b68ea6c2baa4279a9bf5f5bfb5e1243, text=\"he's not initial and dumb just wanted to know UM now everything the packaging and everything i've kept it in the original thing so perfect dragon everything is in practice perfect thank\", reason=ResultReason.RecognizingSpeech))\n",
      "RECOGNIZING: SpeechRecognitionEventArgs(session_id=d01628922d8443a285c9776981120383, result=SpeechRecognitionResult(result_id=43cfdc1b388b4262bd313450c5ecb8eb, text=\"he's not initial and dumb just wanted to know UM now everything the packaging and everything i've kept it in the original thing so perfect dragon everything is in practice perfect thank you\", reason=ResultReason.RecognizingSpeech))\n",
      "RECOGNIZING: SpeechRecognitionEventArgs(session_id=d01628922d8443a285c9776981120383, result=SpeechRecognitionResult(result_id=c583ad232d1444e2a5277e466aac5fa6, text=\"he's not initial and dumb just wanted to know UM now everything the packaging and everything i've kept it in the original thing so perfect dragon everything is in practice perfect thank you so very much\", reason=ResultReason.RecognizingSpeech))\n",
      "RECOGNIZING: SpeechRecognitionEventArgs(session_id=d01628922d8443a285c9776981120383, result=SpeechRecognitionResult(result_id=5fa18b99d019446da4fe5b23231d5ee4, text=\"he's not initial and dumb just wanted to know UM now everything the packaging and everything i've kept it in the original thing so perfect dragon everything is in practice perfect thank you so very much thank you\", reason=ResultReason.RecognizingSpeech))\n",
      "RECOGNIZING: SpeechRecognitionEventArgs(session_id=d01628922d8443a285c9776981120383, result=SpeechRecognitionResult(result_id=c3251cc1ede14bf1818b310872310134, text=\"he's not initial and dumb just wanted to know UM now everything the packaging and everything i've kept it in the original thing so perfect dragon everything is in practice perfect thank you so very much thank you bye\", reason=ResultReason.RecognizingSpeech))\n",
      "RECOGNIZED: SpeechRecognitionEventArgs(session_id=d01628922d8443a285c9776981120383, result=SpeechRecognitionResult(result_id=821d1a11a23f401f929ee499b589fe9f, text=\"Wait, not initial and dumb. Just wanted to know UM, now everything the packaging and everything. I've kept it in the original thing so perfect dragon everything is in practice perfect. Thank you so very much. Thank you bye.\", reason=ResultReason.RecognizedSpeech))\n",
      "RECOGNIZED: SpeechRecognitionEventArgs(session_id=d01628922d8443a285c9776981120383, result=SpeechRecognitionResult(result_id=dc9e49eec21e430fb5cceeceace9199c, text=\"\", reason=ResultReason.RecognizedSpeech))\n",
      "CANCELED SpeechRecognitionCanceledEventArgs(session_id=d01628922d8443a285c9776981120383, result=SpeechRecognitionResult(result_id=f7457551b3954c8fbcfad2a010da7710, text=\"\", reason=ResultReason.Canceled))\n",
      "CLOSING on SpeechRecognitionCanceledEventArgs(session_id=d01628922d8443a285c9776981120383, result=SpeechRecognitionResult(result_id=f7457551b3954c8fbcfad2a010da7710, text=\"\", reason=ResultReason.Canceled))\n",
      "SESSION STOPPED SessionEventArgs(session_id=d01628922d8443a285c9776981120383)\n",
      "CLOSING on SessionEventArgs(session_id=d01628922d8443a285c9776981120383)\n",
      "Printing all results:\n",
      "[\"And how is wearing a UM as any? Is there anybody who's going to come and pick up? So yes, this will be picked up a we are Courier partner and uh, when he comes there to pick it up. That is the same time he's delivered a replacement ice cream. So I'm putting in a request for the Excel sign for the crop top. Yeah, anything else apart from this? No, that's about it. Thank you so very much problem you make. I don't sorry go ahead. Yeah, you may expect to arrive in another two to three working.\", \"Wait, not initial and dumb. Just wanted to know UM, now everything the packaging and everything. I've kept it in the original thing so perfect dragon everything is in practice perfect. Thank you so very much. Thank you bye.\", '']\n"
     ]
    }
   ],
   "source": [
    "speech_recognizer.recognizing.connect(lambda evt: print('RECOGNIZING: {}'.format(evt)))\n",
    "speech_recognizer.recognized.connect(lambda evt: print('RECOGNIZED: {}'.format(evt)))\n",
    "speech_recognizer.session_started.connect(lambda evt: print('SESSION STARTED: {}'.format(evt)))\n",
    "speech_recognizer.session_stopped.connect(lambda evt: print('SESSION STOPPED {}'.format(evt)))\n",
    "speech_recognizer.canceled.connect(lambda evt: print('CANCELED {}'.format(evt)))\n",
    "# stop continuous recognition on either session stopped or canceled events\n",
    "speech_recognizer.session_stopped.connect(stop_cb)\n",
    "speech_recognizer.canceled.connect(stop_cb)\n",
    "\n",
    "speech_recognizer.start_continuous_recognition()\n",
    "\n",
    "while not done:\n",
    "    time.sleep(.5)\n",
    "    \n",
    "print(\"Printing all results:\")\n",
    "print(all_results)"
   ]
  },
  {
   "cell_type": "code",
   "execution_count": 72,
   "id": "3639c249",
   "metadata": {},
   "outputs": [
    {
     "data": {
      "text/plain": [
       "[\"And how is wearing a UM as any? Is there anybody who's going to come and pick up? So yes, this will be picked up a we are Courier partner and uh, when he comes there to pick it up. That is the same time he's delivered a replacement ice cream. So I'm putting in a request for the Excel sign for the crop top. Yeah, anything else apart from this? No, that's about it. Thank you so very much problem you make. I don't sorry go ahead. Yeah, you may expect to arrive in another two to three working.\",\n",
       " \"Wait, not initial and dumb. Just wanted to know UM, now everything the packaging and everything. I've kept it in the original thing so perfect dragon everything is in practice perfect. Thank you so very much. Thank you bye.\",\n",
       " '']"
      ]
     },
     "execution_count": 72,
     "metadata": {},
     "output_type": "execute_result"
    }
   ],
   "source": [
    "all_results"
   ]
  },
  {
   "cell_type": "code",
   "execution_count": 73,
   "id": "c12ef2f2",
   "metadata": {},
   "outputs": [
    {
     "data": {
      "text/plain": [
       "3"
      ]
     },
     "execution_count": 73,
     "metadata": {},
     "output_type": "execute_result"
    }
   ],
   "source": [
    "len(all_results)"
   ]
  },
  {
   "cell_type": "code",
   "execution_count": 75,
   "id": "6ba4d4da",
   "metadata": {},
   "outputs": [],
   "source": [
    "text_item =' '.join(all_results)"
   ]
  },
  {
   "cell_type": "code",
   "execution_count": 76,
   "id": "34b717f7",
   "metadata": {},
   "outputs": [
    {
     "data": {
      "text/plain": [
       "\"And how is wearing a UM as any? Is there anybody who's going to come and pick up? So yes, this will be picked up a we are Courier partner and uh, when he comes there to pick it up. That is the same time he's delivered a replacement ice cream. So I'm putting in a request for the Excel sign for the crop top. Yeah, anything else apart from this? No, that's about it. Thank you so very much problem you make. I don't sorry go ahead. Yeah, you may expect to arrive in another two to three working. Wait, not initial and dumb. Just wanted to know UM, now everything the packaging and everything. I've kept it in the original thing so perfect dragon everything is in practice perfect. Thank you so very much. Thank you bye. \""
      ]
     },
     "execution_count": 76,
     "metadata": {},
     "output_type": "execute_result"
    }
   ],
   "source": [
    "text_item"
   ]
  },
  {
   "cell_type": "code",
   "execution_count": 70,
   "id": "a130ab3c",
   "metadata": {},
   "outputs": [],
   "source": [
    "import azure.cognitiveservices.speech as speechsdk\n",
    "import time\n",
    "import datetime\n",
    "\n",
    "def speech_to_text():\n",
    "    \n",
    "    # Creates an instance of a speech config with specified subscription key and service region.\n",
    "    # Replace with your own subscription key and region identifier from here: https://aka.ms/speech/sdkregion\n",
    "    speech_key, service_region = \"4b73fedba5bf4049a6582a399123d50d\", \"centralus\"\n",
    "    speech_config = speechsdk.SpeechConfig(subscription=speech_key, region=service_region)\n",
    "\n",
    "    # Creates an audio configuration that points to an audio file.\n",
    "    # Replace with your own audio filename.\n",
    "    audio_filename = \"5.wav\"\n",
    "    audio_input = speechsdk.audio.AudioConfig(filename=audio_filename)\n",
    "\n",
    "    # Creates a recognizer with the given settings\n",
    "    speech_config.speech_recognition_language=\"en-IN\"\n",
    "    speech_config.request_word_level_timestamps()\n",
    "    speech_config.enable_dictation()\n",
    "    speech_config.output_format = speechsdk.OutputFormat(1)\n",
    "\n",
    "    speech_recognizer = speechsdk.SpeechRecognizer(speech_config=speech_config, audio_config=audio_input)\n",
    "\n",
    "    #result = speech_recognizer.recognize_once()\n",
    "    all_results = []\n",
    "\n",
    "\n",
    "\n",
    "    #https://docs.microsoft.com/en-us/python/api/azure-cognitiveservices-speech/azure.cognitiveservices.speech.recognitionresult?view=azure-python\n",
    "    def handle_final_result(evt):\n",
    "        all_results.append(evt.result.text) \n",
    "    \n",
    "    \n",
    "    done = False\n",
    "\n",
    "    def stop_cb(evt):\n",
    "        print('CLOSING on {}'.format(evt))\n",
    "        speech_recognizer.stop_continuous_recognition()\n",
    "        nonlocal done\n",
    "        done= True\n",
    "\n",
    "    #Appends the recognized text to the all_results variable. \n",
    "    speech_recognizer.recognized.connect(handle_final_result) \n",
    "\n",
    "    #Connect callbacks to the events fired by the speech recognizer & displays the info/status\n",
    "    #Ref:https://docs.microsoft.com/en-us/python/api/azure-cognitiveservices-speech/azure.cognitiveservices.speech.eventsignal?view=azure-python   \n",
    "    speech_recognizer.recognizing.connect(lambda evt: print('RECOGNIZING: {}'.format(evt)))\n",
    "    speech_recognizer.recognized.connect(lambda evt: print('RECOGNIZED: {}'.format(evt)))\n",
    "    speech_recognizer.session_started.connect(lambda evt: print('SESSION STARTED: {}'.format(evt)))\n",
    "    speech_recognizer.session_stopped.connect(lambda evt: print('SESSION STOPPED {}'.format(evt)))\n",
    "    speech_recognizer.canceled.connect(lambda evt: print('CANCELED {}'.format(evt)))\n",
    "    # stop continuous recognition on either session stopped or canceled events\n",
    "    speech_recognizer.session_stopped.connect(stop_cb)\n",
    "    speech_recognizer.canceled.connect(stop_cb)\n",
    "\n",
    "    speech_recognizer.start_continuous_recognition()\n",
    "\n",
    "    while not done:\n",
    "        time.sleep(.5)\n",
    "            \n",
    "    print(\"Printing all results:\")\n",
    "    print(all_results)\n",
    "\n",
    "#calling the conversion through a function    \n"
   ]
  },
  {
   "cell_type": "code",
   "execution_count": 71,
   "id": "b586b420",
   "metadata": {},
   "outputs": [
    {
     "name": "stdout",
     "output_type": "stream",
     "text": [
      "SESSION STARTED: SessionEventArgs(session_id=9fc5cee1ede946cf84d564f3d11fa792)\n",
      "RECOGNIZING: SpeechRecognitionEventArgs(session_id=9fc5cee1ede946cf84d564f3d11fa792, result=SpeechRecognitionResult(result_id=c5fdde4e595942f68533a0a9ffcf55a9, text=\"and how\", reason=ResultReason.RecognizingSpeech))\n",
      "RECOGNIZING: SpeechRecognitionEventArgs(session_id=9fc5cee1ede946cf84d564f3d11fa792, result=SpeechRecognitionResult(result_id=c2f89d34fd574fa982c14b74e541487c, text=\"and how do i\", reason=ResultReason.RecognizingSpeech))\n",
      "RECOGNIZING: SpeechRecognitionEventArgs(session_id=9fc5cee1ede946cf84d564f3d11fa792, result=SpeechRecognitionResult(result_id=19d0c176a15349f1bc41e659dbd5e9f7, text=\"and how do IAN\", reason=ResultReason.RecognizingSpeech))\n",
      "RECOGNIZING: SpeechRecognitionEventArgs(session_id=9fc5cee1ede946cf84d564f3d11fa792, result=SpeechRecognitionResult(result_id=f41c26a25a3045ed92b33c69342e59bb, text=\"and how do i asmita\", reason=ResultReason.RecognizingSpeech))\n",
      "RECOGNIZING: SpeechRecognitionEventArgs(session_id=9fc5cee1ede946cf84d564f3d11fa792, result=SpeechRecognitionResult(result_id=192f0cf4ba574ccfa3c7ba4438854681, text=\"and how do i as a nice visit\", reason=ResultReason.RecognizingSpeech))\n",
      "RECOGNIZING: SpeechRecognitionEventArgs(session_id=9fc5cee1ede946cf84d564f3d11fa792, result=SpeechRecognitionResult(result_id=4632d91ec88545ad8d5068cd5df32095, text=\"and how do i as a nice is there\", reason=ResultReason.RecognizingSpeech))\n",
      "RECOGNIZING: SpeechRecognitionEventArgs(session_id=9fc5cee1ede946cf84d564f3d11fa792, result=SpeechRecognitionResult(result_id=0f4ea82ca9994ef6a2790c3599c34674, text=\"and how do i as a nice is there anybody\", reason=ResultReason.RecognizingSpeech))\n",
      "RECOGNIZING: SpeechRecognitionEventArgs(session_id=9fc5cee1ede946cf84d564f3d11fa792, result=SpeechRecognitionResult(result_id=4b2d27a945d046f3987bc8ffde651489, text=\"and how do i have any is there anybody who is going to come in\", reason=ResultReason.RecognizingSpeech))\n",
      "RECOGNIZING: SpeechRecognitionEventArgs(session_id=9fc5cee1ede946cf84d564f3d11fa792, result=SpeechRecognitionResult(result_id=f28f074986c14853894a7341e8dcdef5, text=\"and how do i have any is there anybody who is going to come in kick\", reason=ResultReason.RecognizingSpeech))\n",
      "RECOGNIZING: SpeechRecognitionEventArgs(session_id=9fc5cee1ede946cf84d564f3d11fa792, result=SpeechRecognitionResult(result_id=908550efb247460181acd4a39dee7ada, text=\"and how do i have any is there any who is going to come in\", reason=ResultReason.RecognizingSpeech))\n",
      "RECOGNIZING: SpeechRecognitionEventArgs(session_id=9fc5cee1ede946cf84d564f3d11fa792, result=SpeechRecognitionResult(result_id=929de5a20ba0411693c4f03e9b09162e, text=\"and how do i have any is there any who is going to come in kick off\", reason=ResultReason.RecognizingSpeech))\n",
      "RECOGNIZING: SpeechRecognitionEventArgs(session_id=9fc5cee1ede946cf84d564f3d11fa792, result=SpeechRecognitionResult(result_id=bd5dc445083940a89d7d5d18d9055be7, text=\"and how do i have any is there anybody who is going to come in pickup sir\", reason=ResultReason.RecognizingSpeech))\n",
      "RECOGNIZING: SpeechRecognitionEventArgs(session_id=9fc5cee1ede946cf84d564f3d11fa792, result=SpeechRecognitionResult(result_id=b52443ed990c4a068d8e0ac070871beb, text=\"and how do i have any is there anybody who is to come in pickup sir\", reason=ResultReason.RecognizingSpeech))\n",
      "RECOGNIZING: SpeechRecognitionEventArgs(session_id=9fc5cee1ede946cf84d564f3d11fa792, result=SpeechRecognitionResult(result_id=bbf6ad6d11c54cc7b4a0e06c5ab51088, text=\"and how do i have any is there anybody who is going to come in pickup sir yes\", reason=ResultReason.RecognizingSpeech))\n",
      "RECOGNIZING: SpeechRecognitionEventArgs(session_id=9fc5cee1ede946cf84d564f3d11fa792, result=SpeechRecognitionResult(result_id=9071008f1f77429b96ffb9ebf224e7a3, text=\"and how do i have any is there anybody who is going to come in pickup sir yes mr\", reason=ResultReason.RecognizingSpeech))\n",
      "RECOGNIZING: SpeechRecognitionEventArgs(session_id=9fc5cee1ede946cf84d564f3d11fa792, result=SpeechRecognitionResult(result_id=3e01a14a71584ad19435e73e65a37e86, text=\"and how do i have any is there anybody who is going to come and pick sir this is\", reason=ResultReason.RecognizingSpeech))\n",
      "RECOGNIZING: SpeechRecognitionEventArgs(session_id=9fc5cee1ede946cf84d564f3d11fa792, result=SpeechRecognitionResult(result_id=b662148e066346ccaa6ad1c614ce1991, text=\"and how do i have any is there anybody who is going to come and pickup this will take\", reason=ResultReason.RecognizingSpeech))\n",
      "RECOGNIZING: SpeechRecognitionEventArgs(session_id=9fc5cee1ede946cf84d564f3d11fa792, result=SpeechRecognitionResult(result_id=b789f89a564a490aa7653b4f26e5fed5, text=\"and how do i have any is there anybody who is going to come and pickup this will take that\", reason=ResultReason.RecognizingSpeech))\n",
      "RECOGNIZING: SpeechRecognitionEventArgs(session_id=9fc5cee1ede946cf84d564f3d11fa792, result=SpeechRecognitionResult(result_id=7fd477468c37471295a2658e2c011474, text=\"and how do i have any is there anybody who is going to come and pickup this will take that we are\", reason=ResultReason.RecognizingSpeech))\n",
      "RECOGNIZING: SpeechRecognitionEventArgs(session_id=9fc5cee1ede946cf84d564f3d11fa792, result=SpeechRecognitionResult(result_id=b62c26b0ae20450ab323bf058c1bdc69, text=\"and how do i have any is there anybody who is going to come and pickup this will take that we have\", reason=ResultReason.RecognizingSpeech))\n",
      "RECOGNIZING: SpeechRecognitionEventArgs(session_id=9fc5cee1ede946cf84d564f3d11fa792, result=SpeechRecognitionResult(result_id=6b06d72682364146a36c3be178a580f6, text=\"and how do i have any is there anybody who is going to come and pickup this will take that we have courier\", reason=ResultReason.RecognizingSpeech))\n",
      "RECOGNIZING: SpeechRecognitionEventArgs(session_id=9fc5cee1ede946cf84d564f3d11fa792, result=SpeechRecognitionResult(result_id=a5fd5d41a5ac4ecd9ca8df1d5d5f8a5b, text=\"and how do i have any is there anybody who is going to come and pickup yes this will take that we have courier\", reason=ResultReason.RecognizingSpeech))\n",
      "RECOGNIZING: SpeechRecognitionEventArgs(session_id=9fc5cee1ede946cf84d564f3d11fa792, result=SpeechRecognitionResult(result_id=1533f1bb908e469e85d009a4a6b07477, text=\"and how do i have any is there anybody who is going to come and pickup yes this will take that we have courier partner\", reason=ResultReason.RecognizingSpeech))\n",
      "RECOGNIZING: SpeechRecognitionEventArgs(session_id=9fc5cee1ede946cf84d564f3d11fa792, result=SpeechRecognitionResult(result_id=82070fe6dec84e839ec20d8c7ae9d973, text=\"and how do i have any is there anybody who is going to come and pickup this will be picked up we have courier partner website\", reason=ResultReason.RecognizingSpeech))\n",
      "RECOGNIZING: SpeechRecognitionEventArgs(session_id=9fc5cee1ede946cf84d564f3d11fa792, result=SpeechRecognitionResult(result_id=17bc4d927d8943f694840e8275dd5814, text=\"and how do i have any is there anybody who is going to come and pickup this will be picked up we are courier partner when you come\", reason=ResultReason.RecognizingSpeech))\n",
      "RECOGNIZING: SpeechRecognitionEventArgs(session_id=9fc5cee1ede946cf84d564f3d11fa792, result=SpeechRecognitionResult(result_id=0547ea62496f4cdf8d85768375bd80f5, text=\"and how do i have any is there anybody who is going to come and pickup this will be picked up we are courier partner with income\", reason=ResultReason.RecognizingSpeech))\n",
      "RECOGNIZING: SpeechRecognitionEventArgs(session_id=9fc5cee1ede946cf84d564f3d11fa792, result=SpeechRecognitionResult(result_id=4dd679501fd84b01a86086641a3e7bde, text=\"and how do i have any is there anybody who is going to come and pickup this will be picked up we our courier partner with income certificate\", reason=ResultReason.RecognizingSpeech))\n",
      "RECOGNIZING: SpeechRecognitionEventArgs(session_id=9fc5cee1ede946cf84d564f3d11fa792, result=SpeechRecognitionResult(result_id=0aabbb3debea428bb836d111e7aebc11, text=\"and how do i have any is there anybody who is going to come and pickup this will be picked up we our courier partner with income certificate apply\", reason=ResultReason.RecognizingSpeech))\n",
      "RECOGNIZING: SpeechRecognitionEventArgs(session_id=9fc5cee1ede946cf84d564f3d11fa792, result=SpeechRecognitionResult(result_id=3613e8ebedff4aa8addea7bc243fa065, text=\"and how do i have any is there anybody who is going to come and pickup this will be picked up we our courier partner with income certificate up that is\", reason=ResultReason.RecognizingSpeech))\n"
     ]
    },
    {
     "name": "stdout",
     "output_type": "stream",
     "text": [
      "RECOGNIZING: SpeechRecognitionEventArgs(session_id=9fc5cee1ede946cf84d564f3d11fa792, result=SpeechRecognitionResult(result_id=7b366ffb46854a4bbe4d52f9cebb851d, text=\"and how do i have any is there anybody who is going to come and pickup this will be picked up we our courier partner with income certificate up that is the same\", reason=ResultReason.RecognizingSpeech))\n",
      "RECOGNIZING: SpeechRecognitionEventArgs(session_id=9fc5cee1ede946cf84d564f3d11fa792, result=SpeechRecognitionResult(result_id=1f75a2f278ab41468b925471409d1915, text=\"and how do i have any is there anybody who is going to come and pickup this will be picked up we our courier partner with income certificate up that is the same thank\", reason=ResultReason.RecognizingSpeech))\n",
      "RECOGNIZING: SpeechRecognitionEventArgs(session_id=9fc5cee1ede946cf84d564f3d11fa792, result=SpeechRecognitionResult(result_id=d75ed2f08f35493bb801bd6b9912e790, text=\"and how do i have any is there anybody who is going to come and pickup this will be picked up we our courier partner with income certificate up that is the same then you\", reason=ResultReason.RecognizingSpeech))\n",
      "RECOGNIZING: SpeechRecognitionEventArgs(session_id=9fc5cee1ede946cf84d564f3d11fa792, result=SpeechRecognitionResult(result_id=7d936272133c4656b778dcab3aefa3f7, text=\"and how do i have any is there anybody who is going to come and pickup this will be picked up we our courier partner and with income certificate up that is the same then you will\", reason=ResultReason.RecognizingSpeech))\n",
      "RECOGNIZING: SpeechRecognitionEventArgs(session_id=9fc5cee1ede946cf84d564f3d11fa792, result=SpeechRecognitionResult(result_id=5ff0c26173c54667ba876c4bb73fd4aa, text=\"and how do i have any is there anybody who is going to come and pickup this will be picked up we our courier partner and with income certificate up that is the same then you deliver this\", reason=ResultReason.RecognizingSpeech))\n",
      "RECOGNIZING: SpeechRecognitionEventArgs(session_id=9fc5cee1ede946cf84d564f3d11fa792, result=SpeechRecognitionResult(result_id=8736800fbf0d4fee902e78bb663775c3, text=\"and how do i have any is there anybody who is going to come and pickup this will be picked up we our courier partner and with income certificate up that is the same then you deliver the p\", reason=ResultReason.RecognizingSpeech))\n",
      "RECOGNIZING: SpeechRecognitionEventArgs(session_id=9fc5cee1ede946cf84d564f3d11fa792, result=SpeechRecognitionResult(result_id=80e5ac969ebe40548763739e157c4dfb, text=\"and how do i have any is there anybody who is going to come and pickup this will be picked up we our courier partner and with income certificate up that is the same then you deliver the place\", reason=ResultReason.RecognizingSpeech))\n",
      "RECOGNIZING: SpeechRecognitionEventArgs(session_id=9fc5cee1ede946cf84d564f3d11fa792, result=SpeechRecognitionResult(result_id=3693a4b520254eb4a9c3faa12eaa388c, text=\"and how do i have any is there anybody who is going to come and pickup this will be picked up we our courier partner and with income certificate up that is the same then you deliver the replacement\", reason=ResultReason.RecognizingSpeech))\n",
      "RECOGNIZING: SpeechRecognitionEventArgs(session_id=9fc5cee1ede946cf84d564f3d11fa792, result=SpeechRecognitionResult(result_id=829b49e90ca04747a2909cda4404e975, text=\"and how do i have any is there anybody who is going to come and pickup this will be picked up we our courier partner and with income certificate up that is the same then you deliver the replacements ice\", reason=ResultReason.RecognizingSpeech))\n",
      "RECOGNIZING: SpeechRecognitionEventArgs(session_id=9fc5cee1ede946cf84d564f3d11fa792, result=SpeechRecognitionResult(result_id=2a22f2713cc8442592620cd65668973b, text=\"and how do i have any is there anybody who is going to come and pickup this will be picked up we our courier partner and when he income certificate up that is the same then you deliver the replacements ice cream\", reason=ResultReason.RecognizingSpeech))\n",
      "RECOGNIZING: SpeechRecognitionEventArgs(session_id=9fc5cee1ede946cf84d564f3d11fa792, result=SpeechRecognitionResult(result_id=4c5f41d8bc0b42ee945022593df00f01, text=\"and how do i have any is there anybody who is going to come and pickup this will be picked up we our courier partner and when he comes certificate up that is the same then you deliver the replacements ice cream\", reason=ResultReason.RecognizingSpeech))\n",
      "RECOGNIZING: SpeechRecognitionEventArgs(session_id=9fc5cee1ede946cf84d564f3d11fa792, result=SpeechRecognitionResult(result_id=788411f876804a468e499969873acd1f, text=\"and how do i have any is there anybody who is going to come and pickup this will be picked up we our courier partner and when he comes certificate up that is the same then you deliver the replacement side okay\", reason=ResultReason.RecognizingSpeech))\n",
      "RECOGNIZING: SpeechRecognitionEventArgs(session_id=9fc5cee1ede946cf84d564f3d11fa792, result=SpeechRecognitionResult(result_id=cfa6f22c6c8d46fcbbde746671f221c0, text=\"and how do i have any is there anybody who is going to come and pickup this will be picked up we our courier partner and when he comes there up that is the same then you deliver the replacements ice cream okay okay\", reason=ResultReason.RecognizingSpeech))\n",
      "RECOGNIZING: SpeechRecognitionEventArgs(session_id=9fc5cee1ede946cf84d564f3d11fa792, result=SpeechRecognitionResult(result_id=edbcc21003584b49925f3e4632e80891, text=\"and how do i have any is there anybody who is going to come and pickup this will be picked up we our courier partner and when he comes there to up that is the same then you deliver the replacements ice cream okay okay i'm sorry\", reason=ResultReason.RecognizingSpeech))\n",
      "RECOGNIZING: SpeechRecognitionEventArgs(session_id=9fc5cee1ede946cf84d564f3d11fa792, result=SpeechRecognitionResult(result_id=a82d8892e6974aac8669c4e236e9f2f2, text=\"and how do i have any is there anybody who is going to come and pickup this will be picked up we our courier partner and when he comes there to pick up that is the same then you deliver the replacements ice cream okay okay i'm going in\", reason=ResultReason.RecognizingSpeech))\n",
      "RECOGNIZING: SpeechRecognitionEventArgs(session_id=9fc5cee1ede946cf84d564f3d11fa792, result=SpeechRecognitionResult(result_id=9e0946bc38c747dfb2872faa39f339ba, text=\"and how do i have any is there anybody who is going to come and pickup this will be picked up we our courier partner and when he comes there to pick it up that is the same then you deliver the replacements ice cream okay okay i'm going in\", reason=ResultReason.RecognizingSpeech))\n",
      "RECOGNIZING: SpeechRecognitionEventArgs(session_id=9fc5cee1ede946cf84d564f3d11fa792, result=SpeechRecognitionResult(result_id=0ed044cadd374d0b8677b1b4f206cd1f, text=\"and how do i have any is there anybody who is going to come and pickup this will be picked up we our courier partner and when he comes there to pick it up that is the same then you deliver the replacements ice cream okay okay i'm going in the\", reason=ResultReason.RecognizingSpeech))\n",
      "RECOGNIZING: SpeechRecognitionEventArgs(session_id=9fc5cee1ede946cf84d564f3d11fa792, result=SpeechRecognitionResult(result_id=f09b8f3158bb46739ef5b712b525727a, text=\"and how do i have any is there anybody who is going to come and pickup this will be picked up we our courier partner and when he comes there to pick it up that is the same then you deliver the replacements ice cream okay okay i'm going in a request\", reason=ResultReason.RecognizingSpeech))\n",
      "RECOGNIZING: SpeechRecognitionEventArgs(session_id=9fc5cee1ede946cf84d564f3d11fa792, result=SpeechRecognitionResult(result_id=96c6dd535aaf4cc793db225904d61f97, text=\"and how do i have any is there anybody who is going to come and pickup this will be picked up we our courier partner and when he comes there to pick it up that is the same time you deliver the replacements ice cream okay okay i'm going in the request form\", reason=ResultReason.RecognizingSpeech))\n",
      "RECOGNIZING: SpeechRecognitionEventArgs(session_id=9fc5cee1ede946cf84d564f3d11fa792, result=SpeechRecognitionResult(result_id=2ec652811cde45b8ac48e56c744f3791, text=\"and how do i have any is there anybody who is going to come and pickup this will be picked up we our courier partner and when he comes there to pick it up that is the same time he will deliver the replacements ice cream okay okay i'm going in the request for the\", reason=ResultReason.RecognizingSpeech))\n"
     ]
    },
    {
     "name": "stdout",
     "output_type": "stream",
     "text": [
      "RECOGNIZING: SpeechRecognitionEventArgs(session_id=9fc5cee1ede946cf84d564f3d11fa792, result=SpeechRecognitionResult(result_id=0577bcdf30554bdf98e3f25715d3f3ad, text=\"and how do i have any is there anybody who is going to come and pickup this will be picked up we our courier partner and when he comes there to pick it up that is the same time he will deliver this ice cream okay okay i'm going in the request for the excel\", reason=ResultReason.RecognizingSpeech))\n",
      "RECOGNIZING: SpeechRecognitionEventArgs(session_id=9fc5cee1ede946cf84d564f3d11fa792, result=SpeechRecognitionResult(result_id=3bfdc14bbc55454684aef3a0393cdbe8, text=\"and how do i have any is there anybody who is going to come and pickup this will be picked up we our courier partner and when he comes there to pick it up that is the same time he will deliver this ice cream okay okay i'm going in the request for the excel time\", reason=ResultReason.RecognizingSpeech))\n",
      "RECOGNIZING: SpeechRecognitionEventArgs(session_id=9fc5cee1ede946cf84d564f3d11fa792, result=SpeechRecognitionResult(result_id=ec4cde2ae4274d0d94ffdb901ba6db48, text=\"and how do i have any is there anybody who is going to come and pickup this will be picked up we our courier partner and when he comes there to pick it up that is the same time he will deliver the replacement icet okay okay i'm going in the request for the express time for the club\", reason=ResultReason.RecognizingSpeech))\n",
      "RECOGNIZING: SpeechRecognitionEventArgs(session_id=9fc5cee1ede946cf84d564f3d11fa792, result=SpeechRecognitionResult(result_id=11840dc084424a4da75d0f4a1cbd43fc, text=\"and how do i have any is there anybody who is going to come and pickup this will be picked up we our courier partner and when he comes there to pick it up that is the same time he will deliver the replacement icet okay okay i am putting in the request for the express time for the crop\", reason=ResultReason.RecognizingSpeech))\n",
      "RECOGNIZING: SpeechRecognitionEventArgs(session_id=9fc5cee1ede946cf84d564f3d11fa792, result=SpeechRecognitionResult(result_id=2d2e846185ed420babecd4b9a7f6285e, text=\"and how do i have any is there anybody who is going to come and pickup this will be picked up we our courier partner and when he comes there to pick it up that is the same time he will deliver the replacement icet okay okay i am putting in a request for the express time for the crop top\", reason=ResultReason.RecognizingSpeech))\n",
      "RECOGNIZING: SpeechRecognitionEventArgs(session_id=9fc5cee1ede946cf84d564f3d11fa792, result=SpeechRecognitionResult(result_id=888dd56cffff4660b9a9d97f483a76c8, text=\"and how do i have any is there anybody who is going to come and pickup this will be picked up we our courier partner and when he comes there to pick it up that is the same time he will deliver the replacement icet okay okay i am putting in a request for the excel for the crop top\", reason=ResultReason.RecognizingSpeech))\n",
      "RECOGNIZING: SpeechRecognitionEventArgs(session_id=9fc5cee1ede946cf84d564f3d11fa792, result=SpeechRecognitionResult(result_id=c22f9fbe9c0140e1b88ee54143246190, text=\"and how do i have any is there anybody who is going to come and pickup this will be picked up we our courier partner and when he comes there to pick it up that is the same time he will deliver the replacement icet okay okay i am putting in a request for the excel for the crop yeah\", reason=ResultReason.RecognizingSpeech))\n",
      "RECOGNIZING: SpeechRecognitionEventArgs(session_id=9fc5cee1ede946cf84d564f3d11fa792, result=SpeechRecognitionResult(result_id=39951317f4f84ab9ba71b2260ef25201, text=\"and how do i have any is there anybody who is going to come and pickup this will be picked up we our courier partner and when he comes there to pick it up that is the same time he will deliver the replacement icet okay okay i am putting in a request for the excel time for the crop yeah any\", reason=ResultReason.RecognizingSpeech))\n",
      "RECOGNIZING: SpeechRecognitionEventArgs(session_id=9fc5cee1ede946cf84d564f3d11fa792, result=SpeechRecognitionResult(result_id=a51dbae294424505bbe0326b84505672, text=\"and how do i have any is there anybody who is going to come and pickup this will be picked up we our courier partner and when he comes there to pick it up that is the same time he will deliver the replacement icet okay okay i am putting in a request for the excel time for the crop yeah anything\", reason=ResultReason.RecognizingSpeech))\n",
      "RECOGNIZING: SpeechRecognitionEventArgs(session_id=9fc5cee1ede946cf84d564f3d11fa792, result=SpeechRecognitionResult(result_id=6b62a9fa15de4ada927e8479037d7242, text=\"and how do i have any is there anybody who is going to come and pickup this will be picked up we our courier partner and when he comes there to pick it up that is the same time he will deliver the replacement icet okay okay i am putting in a request for the excel time for the crop yeah anything else\", reason=ResultReason.RecognizingSpeech))\n",
      "RECOGNIZING: SpeechRecognitionEventArgs(session_id=9fc5cee1ede946cf84d564f3d11fa792, result=SpeechRecognitionResult(result_id=8de5e3b62e1a4e9f8ce3356a13b669a1, text=\"and how do i have any is there anybody who is going to come and pickup this will be picked up we our courier partner and when he comes there to pick it up that is the same time he will deliver the replacement icet okay okay i am putting in a request for the excel time for the crop yeah anything else apart\", reason=ResultReason.RecognizingSpeech))\n",
      "RECOGNIZING: SpeechRecognitionEventArgs(session_id=9fc5cee1ede946cf84d564f3d11fa792, result=SpeechRecognitionResult(result_id=eda4845e78694187b498ea6cb8f26f8f, text=\"and how do i have any is there anybody who is going to come and pickup this will be picked up we our courier partner and when he comes there to pick it up that is the same time he will deliver the replacement icet okay okay i am putting in a request for the excel time for the crop yeah anything else apart from\", reason=ResultReason.RecognizingSpeech))\n",
      "RECOGNIZING: SpeechRecognitionEventArgs(session_id=9fc5cee1ede946cf84d564f3d11fa792, result=SpeechRecognitionResult(result_id=9d3179e7ef3e4e09bfea649a54865e5f, text=\"and how do i have any is there anybody who is going to come and pickup this will be picked up we our courier partner and when he comes there to pick it up that is the same time he will deliver the replacement icet okay okay i am putting in a request for the excel time for the shop floor yeah anything else apart from this\", reason=ResultReason.RecognizingSpeech))\n",
      "RECOGNIZING: SpeechRecognitionEventArgs(session_id=9fc5cee1ede946cf84d564f3d11fa792, result=SpeechRecognitionResult(result_id=18ddf8ca1fb44688b96262f1dd7dbd8d, text=\"and how do i have any is there anybody who is going to come and pickup this will be picked up we our courier partner and when he comes there to pick it up that is the same time he will deliver the replacement icet okay okay i am putting in a request for the excel time for the shop floor yeah anything else from this nope that's good\", reason=ResultReason.RecognizingSpeech))\n",
      "RECOGNIZING: SpeechRecognitionEventArgs(session_id=9fc5cee1ede946cf84d564f3d11fa792, result=SpeechRecognitionResult(result_id=a768bf709a184504924f8600f3449315, text=\"and how do i have any is there anybody who is going to come and pickup this will be picked up we our courier partner and when he comes there to pick it up that is the same time he will deliver the replacement icet okay okay i am putting in a request for the excel time for the shop floor yeah anything else from this so thats about\", reason=ResultReason.RecognizingSpeech))\n",
      "RECOGNIZING: SpeechRecognitionEventArgs(session_id=9fc5cee1ede946cf84d564f3d11fa792, result=SpeechRecognitionResult(result_id=a34f5f1746b04e63b8cf3d4774df3e5a, text=\"and how do i have any is there anybody who is going to come and pickup this will be picked up we our courier partner and when he comes there to pick it up that is the same time he will deliver the replacement icet okay okay i am putting in a request for the excel time for the shop floor yeah anything else apart from this so thats about okay\", reason=ResultReason.RecognizingSpeech))\n",
      "RECOGNIZING: SpeechRecognitionEventArgs(session_id=9fc5cee1ede946cf84d564f3d11fa792, result=SpeechRecognitionResult(result_id=bae976e0a06a4dab8c0da6a34fe3c646, text=\"and how do i have any is there anybody who is going to come and pickup this will be picked up we our courier partner and when he comes there to pick it up that is the same time he will deliver the replacement icet okay okay i am putting in a request for the excel time for the shop floor yeah anything else apart from this so thats about thank\", reason=ResultReason.RecognizingSpeech))\n",
      "RECOGNIZING: SpeechRecognitionEventArgs(session_id=9fc5cee1ede946cf84d564f3d11fa792, result=SpeechRecognitionResult(result_id=87c54091bb0a44aaafdadcdc07689b1c, text=\"and how do i have any is there anybody who is going to come and pickup this will be picked up we our courier partner and when he comes there to pick it up that is the same time he will deliver the replacement icet okay okay i am putting in a request for the excel time for the shop floor yeah anything else apart from this no thats about thank you so\", reason=ResultReason.RecognizingSpeech))\n"
     ]
    },
    {
     "name": "stdout",
     "output_type": "stream",
     "text": [
      "RECOGNIZING: SpeechRecognitionEventArgs(session_id=9fc5cee1ede946cf84d564f3d11fa792, result=SpeechRecognitionResult(result_id=5089079f7a2c4577a3aafdf2050c02e3, text=\"and how do i have any is there anybody who is going to come and pickup this will be picked up we our courier partner and when he comes there to pick it up that is the same time he will deliver the replacement icet okay okay i am putting in a request for the excel time for the shop floor yeah anything else apart from this no thats about thank you for\", reason=ResultReason.RecognizingSpeech))\n",
      "RECOGNIZING: SpeechRecognitionEventArgs(session_id=9fc5cee1ede946cf84d564f3d11fa792, result=SpeechRecognitionResult(result_id=222c2d52b56241c59c7bdd89fd50f278, text=\"and how do i have any is there anybody who is going to come and pickup this will be picked up we our courier partner and when he comes there to pick it up that is the same time he will deliver the replacement icet okay okay i am putting in a request for the excel time for the shop floor yeah anything else apart from this no thats about thank you very\", reason=ResultReason.RecognizingSpeech))\n",
      "RECOGNIZING: SpeechRecognitionEventArgs(session_id=9fc5cee1ede946cf84d564f3d11fa792, result=SpeechRecognitionResult(result_id=4fe21ad893bc4761a684a46086215150, text=\"and how do i have any is there anybody who is going to come and pickup this will be picked up we our courier partner and when he comes there to pick it up that is the same time he will deliver the replacement icet okay okay i am putting in a request for the excel time for the shop floor yeah anything else apart from this no thats about thank you very much\", reason=ResultReason.RecognizingSpeech))\n",
      "RECOGNIZING: SpeechRecognitionEventArgs(session_id=9fc5cee1ede946cf84d564f3d11fa792, result=SpeechRecognitionResult(result_id=2c9f99074ee94df5a71d6c1fd9e6be89, text=\"and how do i have any is there anybody who is going to come and pickup this will be picked up we our courier partner and when he comes there to pick it up that is the same time he will deliver the replacement icet okay okay i am putting in a request for the excel time for the shop floor yeah anything else apart from this no thats about thank you for your help\", reason=ResultReason.RecognizingSpeech))\n",
      "RECOGNIZING: SpeechRecognitionEventArgs(session_id=9fc5cee1ede946cf84d564f3d11fa792, result=SpeechRecognitionResult(result_id=c99fd402303a4c88a28e80497d3c82cf, text=\"and how do i have any is there anybody who is going to come and pickup this will be picked up we our courier partner and when he comes there to pick it up that is the same time he will deliver the replacement icet okay okay i am putting in a request for the excel time for the shop floor yeah anything else apart from this no thats about thank you for your help you\", reason=ResultReason.RecognizingSpeech))\n",
      "RECOGNIZING: SpeechRecognitionEventArgs(session_id=9fc5cee1ede946cf84d564f3d11fa792, result=SpeechRecognitionResult(result_id=50705ad492464478b51e98e72fdaf2ba, text=\"and how do i have any is there anybody who is going to come and pickup this will be picked up we our courier partner and when he comes there to pick it up that is the same time he will deliver the replacement icet okay okay i am putting in a request for the excel time for the shop floor yeah anything else apart from this no thats about thank you for helping me\", reason=ResultReason.RecognizingSpeech))\n",
      "RECOGNIZING: SpeechRecognitionEventArgs(session_id=9fc5cee1ede946cf84d564f3d11fa792, result=SpeechRecognitionResult(result_id=00d9065cda584d19b72885199746fd89, text=\"and how do i have any is there anybody who is going to come and pickup this will be picked up we our courier partner and when he comes there to pick it up that is the same time he will deliver the replacement icet okay okay i am putting in a request for the excel time for the shop floor yeah anything else apart from this no thats about thank you for your help me make i don't\", reason=ResultReason.RecognizingSpeech))\n",
      "RECOGNIZING: SpeechRecognitionEventArgs(session_id=9fc5cee1ede946cf84d564f3d11fa792, result=SpeechRecognitionResult(result_id=63618f5f5f47448a82180086a5a7244b, text=\"and how do i have any is there anybody who is going to come and pickup this will be picked up we our courier partner and when he comes there to pick it up that is the same time he will deliver the replacement icet okay okay i am putting in a request for the excel time for the shop floor yeah anything else apart from this no thats about thank you so very your help me make i don't\", reason=ResultReason.RecognizingSpeech))\n",
      "RECOGNIZING: SpeechRecognitionEventArgs(session_id=9fc5cee1ede946cf84d564f3d11fa792, result=SpeechRecognitionResult(result_id=dd2ca92c73714859a697d3d2a49eea7d, text=\"and how do i have any is there anybody who is going to come and pickup this will be picked up we our courier partner and when he comes there to pick it up that is the same time he will deliver the replacement icet okay okay i am putting in a request for the excel time for the shop floor yeah anything else apart from this no thats about thank you so very much problem make i don't\", reason=ResultReason.RecognizingSpeech))\n",
      "RECOGNIZING: SpeechRecognitionEventArgs(session_id=9fc5cee1ede946cf84d564f3d11fa792, result=SpeechRecognitionResult(result_id=e9d179e8593246a9bb9827308104e8f9, text=\"and how do i have any is there anybody who is going to come and pickup this will be picked up we our courier partner and when he comes there to pick it up that is the same time he will deliver the replacement icet okay okay i am putting in a request for the excel time for the shop floor yeah anything else apart from this no thats about thank you so very much problem make i don't study\", reason=ResultReason.RecognizingSpeech))\n",
      "RECOGNIZING: SpeechRecognitionEventArgs(session_id=9fc5cee1ede946cf84d564f3d11fa792, result=SpeechRecognitionResult(result_id=618230ef0e8247799b120e259a7f5360, text=\"and how do i have any is there anybody who is going to come and pickup this will be picked up we our courier partner and when he comes there to pick it up that is the same time he will deliver the replacement icet okay okay i am putting in a request for the excel time for the shop floor yeah anything else apart from this no thats about thank you so very much problem you make i don't go\", reason=ResultReason.RecognizingSpeech))\n",
      "RECOGNIZING: SpeechRecognitionEventArgs(session_id=9fc5cee1ede946cf84d564f3d11fa792, result=SpeechRecognitionResult(result_id=87c818c33b9a4fd8af55fae3516f4701, text=\"and how do i have any is there anybody who is going to come and pickup this will be picked up we our courier partner and when he comes there to pick it up that is the same time he will deliver the replacement icet okay okay i am putting in a request for the excel time for the shop floor yeah anything else apart from this no thats about thank you so very much problem you make i don't go ahead\", reason=ResultReason.RecognizingSpeech))\n",
      "RECOGNIZING: SpeechRecognitionEventArgs(session_id=9fc5cee1ede946cf84d564f3d11fa792, result=SpeechRecognitionResult(result_id=61f4ecadc85e4bff96ffea8d6cdac59a, text=\"and how do i have any is there anybody who is going to come and pickup this will be picked up we our courier partner and when he comes there to pick it up that is the same time he will deliver the replacement icet okay okay i am putting in a request for the excel time for the shop floor yeah anything else apart from this no thats about thank you so very much problem you make i don't sorry go ahead yeah\", reason=ResultReason.RecognizingSpeech))\n",
      "RECOGNIZING: SpeechRecognitionEventArgs(session_id=9fc5cee1ede946cf84d564f3d11fa792, result=SpeechRecognitionResult(result_id=0de38efc788c427889b2a337737e21d2, text=\"and how do i have any is there anybody who is going to come and pickup this will be picked up we our courier partner and when he comes there to pick it up that is the same time he will deliver the replacement icet okay okay i am putting in a request for the excel time for the shop floor yeah anything else apart from this no thats about thank you so very much problem you make i don't sorry go ahead yeah so you\", reason=ResultReason.RecognizingSpeech))\n"
     ]
    },
    {
     "name": "stdout",
     "output_type": "stream",
     "text": [
      "RECOGNIZING: SpeechRecognitionEventArgs(session_id=9fc5cee1ede946cf84d564f3d11fa792, result=SpeechRecognitionResult(result_id=72f5c16fcdc640c69f5adc433a16bda0, text=\"and how do i have any is there anybody who is going to come and pickup this will be picked up we our courier partner and when he comes there to pick it up that is the same time he will deliver the replacement icet okay okay i am putting in a request for the excel time for the shop floor yeah anything else apart from this no thats about thank you so very much problem you make i don't sorry go ahead yeah so\", reason=ResultReason.RecognizingSpeech))\n",
      "RECOGNIZING: SpeechRecognitionEventArgs(session_id=9fc5cee1ede946cf84d564f3d11fa792, result=SpeechRecognitionResult(result_id=ddad0a36ebfe46cb890f9cb673350793, text=\"and how do i have any is there anybody who is going to come and pickup this will be picked up we our courier partner and when he comes there to pick it up that is the same time he will deliver the replacement icet okay okay i am putting in a request for the excel time for the shop floor yeah anything else apart from this no thats about thank you so very much problem you make i don't sorry go ahead yeah so you sing\", reason=ResultReason.RecognizingSpeech))\n",
      "RECOGNIZING: SpeechRecognitionEventArgs(session_id=9fc5cee1ede946cf84d564f3d11fa792, result=SpeechRecognitionResult(result_id=f72e3b2a4e9d4413aaef8236bd106661, text=\"and how do i have any is there anybody who is going to come and pickup this will be picked up we our courier partner and when he comes there to pick it up that is the same time he will deliver the replacement icet okay okay i am putting in a request for the excel time for the shop floor yeah anything else apart from this no thats about thank you so very much problem you make i don't sorry go ahead yeah sorry you think you\", reason=ResultReason.RecognizingSpeech))\n",
      "RECOGNIZING: SpeechRecognitionEventArgs(session_id=9fc5cee1ede946cf84d564f3d11fa792, result=SpeechRecognitionResult(result_id=2081459859f248f3971f584fba1f996a, text=\"and how do i have any is there anybody who is going to come and pickup this will be picked up we our courier partner and when he comes there to pick it up that is the same time he will deliver the replacement icet okay okay i am putting in a request for the excel time for the shop floor yeah anything else apart from this no thats about thank you so very much problem you make i don't sorry go ahead yeah sir using you make me\", reason=ResultReason.RecognizingSpeech))\n",
      "RECOGNIZING: SpeechRecognitionEventArgs(session_id=9fc5cee1ede946cf84d564f3d11fa792, result=SpeechRecognitionResult(result_id=e21868dcdd6545c9a07433e0b696faa2, text=\"and how do i have any is there anybody who is going to come and pickup this will be picked up we our courier partner and when he comes there to pick it up that is the same time he will deliver the replacement icet okay okay i am putting in a request for the excel time for the shop floor yeah anything else apart from this no thats about thank you so very much problem you make i don't sorry go ahead yeah sir using you make thank you\", reason=ResultReason.RecognizingSpeech))\n",
      "RECOGNIZING: SpeechRecognitionEventArgs(session_id=9fc5cee1ede946cf84d564f3d11fa792, result=SpeechRecognitionResult(result_id=62935a75756846c6b921a29797e8bf08, text=\"and how do i have any is there anybody who is going to come and pickup this will be picked up we our courier partner and when he comes there to pick it up that is the same time he will deliver the replacement icet okay okay i am putting in a request for the excel time for the shop floor yeah anything else apart from this no thats about thank you so very much problem you make i don't sorry go ahead yeah sir using you make pen\", reason=ResultReason.RecognizingSpeech))\n",
      "RECOGNIZING: SpeechRecognitionEventArgs(session_id=9fc5cee1ede946cf84d564f3d11fa792, result=SpeechRecognitionResult(result_id=d4b20223d88e4d93afc98804e30db9e4, text=\"and how do i have any is there anybody who is going to come and pickup this will be picked up we our courier partner and when he comes there to pick it up that is the same time he will deliver the replacement icet okay okay i am putting in a request for the excel time for the shop floor yeah anything else apart from this no thats about thank you so very much problem you make i don't sorry go ahead yeah sir using you mix a call to rising\", reason=ResultReason.RecognizingSpeech))\n",
      "RECOGNIZING: SpeechRecognitionEventArgs(session_id=9fc5cee1ede946cf84d564f3d11fa792, result=SpeechRecognitionResult(result_id=ba4bf17cdd2140d6b8a63485992e6f69, text=\"and how do i have any is there anybody who is going to come and pickup this will be picked up we our courier partner and when he comes there to pick it up that is the same time he will deliver the replacement icet okay okay i am putting in a request for the excel time for the shop floor yeah anything else apart from this no thats about thank you so very much problem you make i don't sorry go ahead yeah sir using you may expect to rise in the number\", reason=ResultReason.RecognizingSpeech))\n",
      "RECOGNIZING: SpeechRecognitionEventArgs(session_id=9fc5cee1ede946cf84d564f3d11fa792, result=SpeechRecognitionResult(result_id=7053c55ef67d4d078906d3c3fc4d12c5, text=\"and how do i have any is there anybody who is going to come and pickup this will be picked up we our courier partner and when he comes there to pick it up that is the same time he will deliver the replacement icet okay okay i am putting in a request for the excel time for the shop floor yeah anything else apart from this no thats about thank you so very much problem you make i don't sorry go ahead yeah sir using you may expect to arrive in the number\", reason=ResultReason.RecognizingSpeech))\n",
      "RECOGNIZING: SpeechRecognitionEventArgs(session_id=9fc5cee1ede946cf84d564f3d11fa792, result=SpeechRecognitionResult(result_id=0335ddb5010442ee962c5689b4119eb0, text=\"and how do i have any is there anybody who is going to come and pickup this will be picked up we our courier partner and when he comes there to pick it up that is the same time he will deliver the replacement icet okay okay i am putting in a request for the excel time for the shop floor yeah anything else apart from this no thats about thank you so very much problem you make i don't sorry go ahead yeah sir using you may expect to arrive in the number to this\", reason=ResultReason.RecognizingSpeech))\n",
      "RECOGNIZING: SpeechRecognitionEventArgs(session_id=9fc5cee1ede946cf84d564f3d11fa792, result=SpeechRecognitionResult(result_id=02450b886ad04a0d97a474cca6ee6a30, text=\"and how do i have any is there anybody who is going to come and pickup this will be picked up we our courier partner and when he comes there to pick it up that is the same time he will deliver the replacement icet okay okay i am putting in a request for the excel time for the shop floor yeah anything else apart from this no thats about thank you so very much problem you make i don't sorry go ahead yeah sir using you may expect to arrive in number 2 to 3\", reason=ResultReason.RecognizingSpeech))\n",
      "RECOGNIZING: SpeechRecognitionEventArgs(session_id=9fc5cee1ede946cf84d564f3d11fa792, result=SpeechRecognitionResult(result_id=81b3462cb10a40c689224e73d0fc047e, text=\"and how do i have any is there anybody who is going to come and pickup this will be picked up we our courier partner and when he comes there to pick it up that is the same time he will deliver the replacement icet okay okay i am putting in a request for the excel time for the shop floor yeah anything else apart from this no thats about thank you so very much problem you make i don't sorry go ahead yeah sir using you may expect to arrive in another 2 december\", reason=ResultReason.RecognizingSpeech))\n"
     ]
    },
    {
     "name": "stdout",
     "output_type": "stream",
     "text": [
      "RECOGNIZING: SpeechRecognitionEventArgs(session_id=9fc5cee1ede946cf84d564f3d11fa792, result=SpeechRecognitionResult(result_id=da4f792943a743fb93d75ae41886c726, text=\"and how do i have any is there anybody who is going to come and pickup this will be picked up we our courier partner and when he comes there to pick it up that is the same time he will deliver the replacement icet okay okay i am putting in a request for the excel time for the shop floor yeah anything else apart from this no thats about thank you so very much problem you make i don't sorry go ahead yeah sir using you may expect to arrive in another 2 to 3 working\", reason=ResultReason.RecognizingSpeech))\n",
      "RECOGNIZING: SpeechRecognitionEventArgs(session_id=9fc5cee1ede946cf84d564f3d11fa792, result=SpeechRecognitionResult(result_id=822874f658174715b1c0d4be13f15a81, text=\"and how do i have any is there anybody who is going to come and pickup this will be picked up we our courier partner and when he comes there to pick it up that is the same time he will deliver the replacement icet okay okay i am putting in a request for the excel time for the shop floor yeah anything else apart from this no thats about thank you so very much problem you make i don't sorry go ahead yeah sir using you may expect to arrive in another 2 to 3 working days\", reason=ResultReason.RecognizingSpeech))\n",
      "RECOGNIZED: SpeechRecognitionEventArgs(session_id=9fc5cee1ede946cf84d564f3d11fa792, result=SpeechRecognitionResult(result_id=db432b82ce164753bc4cb205b406d6bd, text=\"And how do I have any? Is there anybody who is going to come and pickup? This will be picked up. We are Courier partner and when he comes there to pick it up that is the same time he will deliver the replacement icet. Okay okay I am putting in a request for the Excel time for the shop floor. Yeah anything else apart from this. No thats about thank you so very much problem you make. I don't sorry go ahead. Yeah Sir using you may expect to arrive in another 2 to 3.\", reason=ResultReason.RecognizedSpeech))\n",
      "RECOGNIZING: SpeechRecognitionEventArgs(session_id=9fc5cee1ede946cf84d564f3d11fa792, result=SpeechRecognitionResult(result_id=4c2b4c30a9174f099d7d51988a136fd3, text=\"what's\", reason=ResultReason.RecognizingSpeech))\n",
      "RECOGNIZING: SpeechRecognitionEventArgs(session_id=9fc5cee1ede946cf84d564f3d11fa792, result=SpeechRecognitionResult(result_id=89f3dca028a445c3bf82f3dfaa021386, text=\"working pratyusha\", reason=ResultReason.RecognizingSpeech))\n",
      "RECOGNIZING: SpeechRecognitionEventArgs(session_id=9fc5cee1ede946cf84d564f3d11fa792, result=SpeechRecognitionResult(result_id=f7f1df13f37c4e8597c0892d7585864c, text=\"working right here\", reason=ResultReason.RecognizingSpeech))\n",
      "RECOGNIZING: SpeechRecognitionEventArgs(session_id=9fc5cee1ede946cf84d564f3d11fa792, result=SpeechRecognitionResult(result_id=ed027d02e89d4125a7c84c33b7284e98, text=\"working days not\", reason=ResultReason.RecognizingSpeech))\n",
      "RECOGNIZING: SpeechRecognitionEventArgs(session_id=9fc5cee1ede946cf84d564f3d11fa792, result=SpeechRecognitionResult(result_id=2a32e6a957634434b3ba2a863f5a8e68, text=\"working days not an and\", reason=ResultReason.RecognizingSpeech))\n",
      "RECOGNIZING: SpeechRecognitionEventArgs(session_id=9fc5cee1ede946cf84d564f3d11fa792, result=SpeechRecognitionResult(result_id=856a8a958ba6439ab5e088508ca7cbdf, text=\"working days not an issue and\", reason=ResultReason.RecognizingSpeech))\n",
      "RECOGNIZING: SpeechRecognitionEventArgs(session_id=9fc5cee1ede946cf84d564f3d11fa792, result=SpeechRecognitionResult(result_id=6a8782bff0df49bdbb7443a5d9c37699, text=\"working days not an this\", reason=ResultReason.RecognizingSpeech))\n",
      "RECOGNIZING: SpeechRecognitionEventArgs(session_id=9fc5cee1ede946cf84d564f3d11fa792, result=SpeechRecognitionResult(result_id=636dddcb4dbb4614b3b27f9016694814, text=\"working days not an this policy\", reason=ResultReason.RecognizingSpeech))\n",
      "RECOGNIZING: SpeechRecognitionEventArgs(session_id=9fc5cee1ede946cf84d564f3d11fa792, result=SpeechRecognitionResult(result_id=9ad627863b254d23863a3453c4a195c6, text=\"working days not an just wanted to know\", reason=ResultReason.RecognizingSpeech))\n",
      "RECOGNIZING: SpeechRecognitionEventArgs(session_id=9fc5cee1ede946cf84d564f3d11fa792, result=SpeechRecognitionResult(result_id=4e5e4b1b26de4988995bcdab52e059e6, text=\"working days not an just wanted to know everything\", reason=ResultReason.RecognizingSpeech))\n",
      "RECOGNIZING: SpeechRecognitionEventArgs(session_id=9fc5cee1ede946cf84d564f3d11fa792, result=SpeechRecognitionResult(result_id=ca9ea65e45944413a6fefc020cd4e7c7, text=\"working days not an just wanted to know everything the\", reason=ResultReason.RecognizingSpeech))\n",
      "RECOGNIZING: SpeechRecognitionEventArgs(session_id=9fc5cee1ede946cf84d564f3d11fa792, result=SpeechRecognitionResult(result_id=9583c73f31884461875d34ba60dcad00, text=\"working days not an just wanted to know everything the packages\", reason=ResultReason.RecognizingSpeech))\n",
      "RECOGNIZING: SpeechRecognitionEventArgs(session_id=9fc5cee1ede946cf84d564f3d11fa792, result=SpeechRecognitionResult(result_id=55185c96dd5c432798fbc5de9e443367, text=\"working days not an just wanted to know everything the package in\", reason=ResultReason.RecognizingSpeech))\n",
      "RECOGNIZING: SpeechRecognitionEventArgs(session_id=9fc5cee1ede946cf84d564f3d11fa792, result=SpeechRecognitionResult(result_id=a0c04a66ef5b431ea842e91f1f1b18aa, text=\"working days not an just wanted to know everything the packaging\", reason=ResultReason.RecognizingSpeech))\n",
      "RECOGNIZING: SpeechRecognitionEventArgs(session_id=9fc5cee1ede946cf84d564f3d11fa792, result=SpeechRecognitionResult(result_id=7b42ff8531b24cf796a070fa9b2eff77, text=\"working days not an just wanted to know everything the packaging in love with you\", reason=ResultReason.RecognizingSpeech))\n",
      "RECOGNIZING: SpeechRecognitionEventArgs(session_id=9fc5cee1ede946cf84d564f3d11fa792, result=SpeechRecognitionResult(result_id=7cea6961e76c42cca2a6c936d145a858, text=\"working days not an just wanted to know everything the package in electrical\", reason=ResultReason.RecognizingSpeech))\n",
      "RECOGNIZING: SpeechRecognitionEventArgs(session_id=9fc5cee1ede946cf84d564f3d11fa792, result=SpeechRecognitionResult(result_id=5e591e50a019442e903e2968886d497a, text=\"working days not an just wanted to know everything the packaging and applications\", reason=ResultReason.RecognizingSpeech))\n",
      "RECOGNIZING: SpeechRecognitionEventArgs(session_id=9fc5cee1ede946cf84d564f3d11fa792, result=SpeechRecognitionResult(result_id=3ff2d4f93f6448a58f9c0a7245d36f8e, text=\"working days not an just wanted to know everything the packaging and everything actress in the\", reason=ResultReason.RecognizingSpeech))\n",
      "RECOGNIZING: SpeechRecognitionEventArgs(session_id=9fc5cee1ede946cf84d564f3d11fa792, result=SpeechRecognitionResult(result_id=eafe870472844d828722f7d1c82e5513, text=\"working days not an just wanted to know everything the packaging and everything actress in the world\", reason=ResultReason.RecognizingSpeech))\n",
      "RECOGNIZING: SpeechRecognitionEventArgs(session_id=9fc5cee1ede946cf84d564f3d11fa792, result=SpeechRecognitionResult(result_id=7325a9b098e9493982c5b3ba94988782, text=\"working days not an just wanted to know everything the packaging and everything have checked in the world\", reason=ResultReason.RecognizingSpeech))\n",
      "RECOGNIZING: SpeechRecognitionEventArgs(session_id=9fc5cee1ede946cf84d564f3d11fa792, result=SpeechRecognitionResult(result_id=6113c17dcfa04232bf7bedc4c0cc89ef, text=\"working days not an just wanted to know everything the packaging and everything have checked in the evening\", reason=ResultReason.RecognizingSpeech))\n",
      "RECOGNIZING: SpeechRecognitionEventArgs(session_id=9fc5cee1ede946cf84d564f3d11fa792, result=SpeechRecognitionResult(result_id=1f7c135fe69c4b3ab4ee74cc7a9c0805, text=\"working days not an just wanted to know everything the packaging and everything have checked it in the evening so\", reason=ResultReason.RecognizingSpeech))\n",
      "RECOGNIZING: SpeechRecognitionEventArgs(session_id=9fc5cee1ede946cf84d564f3d11fa792, result=SpeechRecognitionResult(result_id=aa4799aba89d4d619d05882d2eb06298, text=\"working days not an just wanted to know everything the packaging and everything have checked in the evening so\", reason=ResultReason.RecognizingSpeech))\n"
     ]
    },
    {
     "name": "stdout",
     "output_type": "stream",
     "text": [
      "RECOGNIZING: SpeechRecognitionEventArgs(session_id=9fc5cee1ede946cf84d564f3d11fa792, result=SpeechRecognitionResult(result_id=001d004186c845b5bbc43d02a23a3634, text=\"working days not an just wanted to know everything the packaging and everything have checked in the personal thing so far\", reason=ResultReason.RecognizingSpeech))\n",
      "RECOGNIZING: SpeechRecognitionEventArgs(session_id=9fc5cee1ede946cf84d564f3d11fa792, result=SpeechRecognitionResult(result_id=01b3cb0a4a544b388378d5f78cc0efea, text=\"working days not an just wanted to know everything the packaging and everything have checked in the personal thing so person\", reason=ResultReason.RecognizingSpeech))\n",
      "RECOGNIZING: SpeechRecognitionEventArgs(session_id=9fc5cee1ede946cf84d564f3d11fa792, result=SpeechRecognitionResult(result_id=83305e0744424430827c97ffd849d73a, text=\"working days not an just wanted to know everything the packaging and everything have checked in the personal thing so that\", reason=ResultReason.RecognizingSpeech))\n",
      "RECOGNIZING: SpeechRecognitionEventArgs(session_id=9fc5cee1ede946cf84d564f3d11fa792, result=SpeechRecognitionResult(result_id=f14d40f6e95f4101a3362079508bbeaf, text=\"working days not an just wanted to know everything the packaging and everything have checked in the personal thing so that i will\", reason=ResultReason.RecognizingSpeech))\n",
      "RECOGNIZING: SpeechRecognitionEventArgs(session_id=9fc5cee1ede946cf84d564f3d11fa792, result=SpeechRecognitionResult(result_id=c4542a82a2264c149bc7afd68f9b1d79, text=\"working days not an just wanted to know everything the packaging and everything have checked in the personal thing so that i will never\", reason=ResultReason.RecognizingSpeech))\n",
      "RECOGNIZING: SpeechRecognitionEventArgs(session_id=9fc5cee1ede946cf84d564f3d11fa792, result=SpeechRecognitionResult(result_id=9ea89bc2d631482db3256bbdc5854c17, text=\"working days not an just wanted to know everything the packaging and everything have checked in the personal thing so that i will not picking\", reason=ResultReason.RecognizingSpeech))\n",
      "RECOGNIZING: SpeechRecognitionEventArgs(session_id=9fc5cee1ede946cf84d564f3d11fa792, result=SpeechRecognitionResult(result_id=541ce5b7dafa48b68418755808ec6ff7, text=\"working days not an just wanted to know everything the packaging and everything have checked in the personal thing so that i will never say never\", reason=ResultReason.RecognizingSpeech))\n",
      "RECOGNIZING: SpeechRecognitionEventArgs(session_id=9fc5cee1ede946cf84d564f3d11fa792, result=SpeechRecognitionResult(result_id=57278908479844738caab0c8309fda4d, text=\"working days not an just wanted to know everything the packaging and everything have checked in the personal thing so sad never think of\", reason=ResultReason.RecognizingSpeech))\n",
      "RECOGNIZING: SpeechRecognitionEventArgs(session_id=9fc5cee1ede946cf84d564f3d11fa792, result=SpeechRecognitionResult(result_id=774640c25fba48a998ee14beb8a4320d, text=\"working days not an just wanted to know everything the packaging and everything have checked in the personal thing so sad not picking is incorrect\", reason=ResultReason.RecognizingSpeech))\n",
      "RECOGNIZING: SpeechRecognitionEventArgs(session_id=9fc5cee1ede946cf84d564f3d11fa792, result=SpeechRecognitionResult(result_id=f009ed6258874f468dac0ba2141d4464, text=\"working days not an just wanted to know everything the packaging and everything have checked in the personal thing so sad and everything is in black pepper\", reason=ResultReason.RecognizingSpeech))\n",
      "RECOGNIZING: SpeechRecognitionEventArgs(session_id=9fc5cee1ede946cf84d564f3d11fa792, result=SpeechRecognitionResult(result_id=9612ab32fae4447990939dd1d2d33f46, text=\"working days not an just wanted to know everything the packaging and everything have checked in the personal thing so sad and everything is interactive okay thank you\", reason=ResultReason.RecognizingSpeech))\n",
      "RECOGNIZING: SpeechRecognitionEventArgs(session_id=9fc5cee1ede946cf84d564f3d11fa792, result=SpeechRecognitionResult(result_id=1d05987b7b2f4cc7acbf375f8bd84364, text=\"working days not an just wanted to know everything the packaging and everything have checked in the personal thing so sad and everything is interactive perfect thank you so\", reason=ResultReason.RecognizingSpeech))\n",
      "RECOGNIZING: SpeechRecognitionEventArgs(session_id=9fc5cee1ede946cf84d564f3d11fa792, result=SpeechRecognitionResult(result_id=806c7ef68656418392e5e182fcce047c, text=\"working days not an just wanted to know everything the packaging and everything have checked in the personal thing so sad and everything is interactive perfect thank you for\", reason=ResultReason.RecognizingSpeech))\n",
      "RECOGNIZING: SpeechRecognitionEventArgs(session_id=9fc5cee1ede946cf84d564f3d11fa792, result=SpeechRecognitionResult(result_id=c10df9e7fee740d5afac3adc3bf00a5d, text=\"working days not an just wanted to know everything the packaging and everything have checked in the personal thing so sad and everything is interactive perfect thank you so very name\", reason=ResultReason.RecognizingSpeech))\n",
      "RECOGNIZED: SpeechRecognitionEventArgs(session_id=9fc5cee1ede946cf84d564f3d11fa792, result=SpeechRecognitionResult(result_id=8ddb5952f0fe4462b892af7077b44f04, text=\"Working days, not an just wanted to know everything. The packaging and everything have checked in the personal thing so sad and everything is interactive perfect. Thank you providing thank you bye.\", reason=ResultReason.RecognizedSpeech))\n",
      "RECOGNIZED: SpeechRecognitionEventArgs(session_id=9fc5cee1ede946cf84d564f3d11fa792, result=SpeechRecognitionResult(result_id=7aa3c53ccbf043049de55bd6f79aea94, text=\"\", reason=ResultReason.RecognizedSpeech))\n",
      "CANCELED SpeechRecognitionCanceledEventArgs(session_id=9fc5cee1ede946cf84d564f3d11fa792, result=SpeechRecognitionResult(result_id=ad9576e1aaee46cba6b72aefac7ba218, text=\"\", reason=ResultReason.Canceled))\n",
      "CLOSING on SpeechRecognitionCanceledEventArgs(session_id=9fc5cee1ede946cf84d564f3d11fa792, result=SpeechRecognitionResult(result_id=ad9576e1aaee46cba6b72aefac7ba218, text=\"\", reason=ResultReason.Canceled))\n",
      "SESSION STOPPED SessionEventArgs(session_id=9fc5cee1ede946cf84d564f3d11fa792)\n",
      "CLOSING on SessionEventArgs(session_id=9fc5cee1ede946cf84d564f3d11fa792)\n",
      "Printing all results:\n",
      "[\"And how do I have any? Is there anybody who is going to come and pickup? This will be picked up. We are Courier partner and when he comes there to pick it up that is the same time he will deliver the replacement icet. Okay okay I am putting in a request for the Excel time for the shop floor. Yeah anything else apart from this. No thats about thank you so very much problem you make. I don't sorry go ahead. Yeah Sir using you may expect to arrive in another 2 to 3.\", 'Working days, not an just wanted to know everything. The packaging and everything have checked in the personal thing so sad and everything is interactive perfect. Thank you providing thank you bye.', '']\n"
     ]
    }
   ],
   "source": [
    "speech_to_text()"
   ]
  },
  {
   "cell_type": "code",
   "execution_count": 58,
   "id": "4bcf5ff5",
   "metadata": {},
   "outputs": [],
   "source": [
    "with open(\"original_text.txt\", \"w\") as text_file:\n",
    "            text_file.write(all_results[0])"
   ]
  },
  {
   "cell_type": "code",
   "execution_count": 45,
   "id": "21511edf",
   "metadata": {},
   "outputs": [
    {
     "data": {
      "text/plain": [
       "[]"
      ]
     },
     "execution_count": 45,
     "metadata": {},
     "output_type": "execute_result"
    }
   ],
   "source": [
    "all_results"
   ]
  },
  {
   "cell_type": "code",
   "execution_count": null,
   "id": "8bc64336",
   "metadata": {},
   "outputs": [],
   "source": []
  }
 ],
 "metadata": {
  "kernelspec": {
   "display_name": "Python 3 (ipykernel)",
   "language": "python",
   "name": "python3"
  },
  "language_info": {
   "codemirror_mode": {
    "name": "ipython",
    "version": 3
   },
   "file_extension": ".py",
   "mimetype": "text/x-python",
   "name": "python",
   "nbconvert_exporter": "python",
   "pygments_lexer": "ipython3",
   "version": "3.8.12"
  }
 },
 "nbformat": 4,
 "nbformat_minor": 5
}
